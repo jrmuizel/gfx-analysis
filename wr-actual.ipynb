{
 "cells": [
  {
   "cell_type": "code",
   "execution_count": 1,
   "metadata": {
    "scrolled": true
   },
   "outputs": [],
   "source": [
    "import ujson as json\n",
    "import matplotlib.pyplot as plt\n",
    "import pandas as pd\n",
    "import numpy as np\n",
    "\n",
    "from moztelemetry.dataset import Dataset\n",
    "\n",
    "%matplotlib inline"
   ]
  },
  {
   "cell_type": "markdown",
   "metadata": {},
   "source": [
    "### Basics"
   ]
  },
  {
   "cell_type": "markdown",
   "metadata": {},
   "source": [
    "We will use the Dataset API to fetch data.  Documentation can be found at: https://python-moztelemetry.readthedocs.io/en/stable/api.html#dataset"
   ]
  },
  {
   "cell_type": "markdown",
   "metadata": {},
   "source": [
    "The goal of this example is to plot the startup distribution for each OS. Let's see how many parallel workers we have at our disposal:"
   ]
  },
  {
   "cell_type": "code",
   "execution_count": 2,
   "metadata": {},
   "outputs": [
    {
     "data": {
      "text/plain": [
       "32"
      ]
     },
     "execution_count": 2,
     "metadata": {},
     "output_type": "execute_result"
    }
   ],
   "source": [
    "sc.defaultParallelism"
   ]
  },
  {
   "cell_type": "markdown",
   "metadata": {},
   "source": [
    "We can look at the schema of the dataset we are interested in:"
   ]
  },
  {
   "cell_type": "code",
   "execution_count": 3,
   "metadata": {},
   "outputs": [
    {
     "data": {
      "text/plain": [
       "[u'submissionDate',\n",
       " u'sourceName',\n",
       " u'sourceVersion',\n",
       " u'docType',\n",
       " u'appName',\n",
       " u'appUpdateChannel',\n",
       " u'appVersion',\n",
       " u'appBuildId']"
      ]
     },
     "execution_count": 3,
     "metadata": {},
     "output_type": "execute_result"
    }
   ],
   "source": [
    "Dataset.from_source('telemetry').schema"
   ]
  },
  {
   "cell_type": "markdown",
   "metadata": {},
   "source": [
    "Let's create a Dataset of Telemetry submissions for a given submission date:"
   ]
  },
  {
   "cell_type": "code",
   "execution_count": 4,
   "metadata": {},
   "outputs": [],
   "source": [
    "pings_dataset = (\n",
    "    Dataset.from_source('telemetry')\n",
    "    .where(docType='main')\n",
    "    #.where(appBuildId='20180721100146')\n",
    "    .where(submissionDate='20180806')\n",
    "    .where(appUpdateChannel=\"nightly\")\n",
    ")"
   ]
  },
  {
   "cell_type": "markdown",
   "metadata": {},
   "source": [
    "Select only the properties we need and then take a 10% sample:"
   ]
  },
  {
   "cell_type": "code",
   "execution_count": 5,
   "metadata": {
    "scrolled": true
   },
   "outputs": [
    {
     "name": "stdout",
     "output_type": "stream",
     "text": [
      "WARNING: THIS IS NOT A REPRESENTATIVE SAMPLE.\n",
      "This 'sampling' is based on s3 files and is highly\n",
      "susceptible to skew. Use only for quicker performance\n",
      "while prototyping.\n",
      "fetching 679.34190MB in 2539 files...\n"
     ]
    }
   ],
   "source": [
    "pings = (\n",
    "    pings_dataset\n",
    "    .select(\n",
    "        'clientId',\n",
    "        buildId='application.buildId',\n",
    "        content_paint='payload.processes.content.histograms.CONTENT_PAINT_TIME.values',\n",
    "        tab_switch='payload.histograms.FX_TAB_SWITCH_TOTAL_E10S_MS.values',\n",
    "        frame_time='payload.processes.gpu.histograms.CONTENT_FRAME_TIME.values',\n",
    "        frame_time_sum='payload.processes.gpu.histograms.CONTENT_FRAME_TIME.sum',\n",
    "        composite_time='payload.processes.gpu.histograms.COMPOSITE_TIME',\n",
    "        checkerboardin='payload.processes.gpu.histograms.CHECKERBOARD_SEVERITY.values',\n",
    "        experiments='environment.experiments',\n",
    "        osName='environment.system.os.name',\n",
    "        gfx='environment.system.gfx')\n",
    "    .records(sc, sample=0.1)\n",
    ")"
   ]
  },
  {
   "cell_type": "code",
   "execution_count": 6,
   "metadata": {},
   "outputs": [],
   "source": [
    "#pings = (\n",
    "#    pings_dataset\n",
    "#    .records(sc, sample=0.01)\n",
    "#)\n",
    "#pings.take(1)"
   ]
  },
  {
   "cell_type": "markdown",
   "metadata": {},
   "source": []
  },
  {
   "cell_type": "code",
   "execution_count": 7,
   "metadata": {
    "scrolled": true
   },
   "outputs": [
    {
     "data": {
      "text/plain": [
       "20266"
      ]
     },
     "execution_count": 7,
     "metadata": {},
     "output_type": "execute_result"
    }
   ],
   "source": [
    "pings.count()"
   ]
  },
  {
   "cell_type": "code",
   "execution_count": 8,
   "metadata": {},
   "outputs": [
    {
     "data": {
      "text/plain": [
       "[{'buildId': u'20180806100140',\n",
       "  'checkerboardin': None,\n",
       "  'clientId': u'55056b55-66a4-47bd-99ec-3a3faa6cd89a',\n",
       "  'composite_time': {u'bucket_count': 50,\n",
       "   u'histogram_type': 0,\n",
       "   u'range': [1, 1000],\n",
       "   u'sum': 11,\n",
       "   u'values': {u'0': 31, u'11': 1, u'12': 0}},\n",
       "  'content_paint': None,\n",
       "  'experiments': {u'searchCohort': {u'branch': u'nov17-2'}},\n",
       "  'frame_time': {u'25': 0, u'29': 1, u'34': 0},\n",
       "  'frame_time_sum': 30,\n",
       "  'gfx': {u'ContentBackend': u'Skia',\n",
       "   u'D2DEnabled': True,\n",
       "   u'DWriteEnabled': True,\n",
       "   u'adapters': [{u'GPUActive': True,\n",
       "     u'RAM': 2048,\n",
       "     u'description': u'AMD Radeon R9 200 Series',\n",
       "     u'deviceID': u'0x6810',\n",
       "     u'driver': u'aticfx64 aticfx64 aticfx64 amdxc64 aticfx32 aticfx32 aticfx32 amdxc32 atiumd64 atidxx64 atidxx64 atiumdag atidxx32 atidxx32 atiumdva atiumd6a atitmm64',\n",
       "     u'driverDate': u'1-31-2018',\n",
       "     u'driverVersion': u'23.20.15017.3010',\n",
       "     u'subsysID': u'04641043',\n",
       "     u'vendorID': u'0x1002'}],\n",
       "   u'features': {u'advancedLayers': {u'status': u'broken'},\n",
       "    u'compositor': u'd3d11',\n",
       "    u'd2d': {u'status': u'available', u'version': u'1.1'},\n",
       "    u'd3d11': {u'blacklisted': False,\n",
       "     u'status': u'available',\n",
       "     u'textureSharing': True,\n",
       "     u'version': 45312,\n",
       "     u'warp': False},\n",
       "    u'gpuProcess': {u'status': u'available'},\n",
       "    u'webrender': {u'status': u'opt-in'},\n",
       "    u'wrQualified': {u'status': u'blocked'}},\n",
       "   u'monitors': [{u'pseudoDisplay': False,\n",
       "     u'refreshRate': 59,\n",
       "     u'screenHeight': 1080,\n",
       "     u'screenWidth': 1920}]},\n",
       "  'osName': u'Windows_NT',\n",
       "  'tab_switch': None},\n",
       " {'buildId': u'20180806100140',\n",
       "  'checkerboardin': None,\n",
       "  'clientId': u'6a73b579-af7f-49f8-a139-04f2b881470e',\n",
       "  'composite_time': None,\n",
       "  'content_paint': {u'0': 160,\n",
       "   u'1': 2359,\n",
       "   u'10': 364,\n",
       "   u'107': 0,\n",
       "   u'11': 240,\n",
       "   u'12': 276,\n",
       "   u'14': 144,\n",
       "   u'16': 94,\n",
       "   u'18': 46,\n",
       "   u'2': 925,\n",
       "   u'20': 29,\n",
       "   u'23': 24,\n",
       "   u'26': 9,\n",
       "   u'29': 6,\n",
       "   u'3': 1909,\n",
       "   u'33': 7,\n",
       "   u'37': 9,\n",
       "   u'4': 2283,\n",
       "   u'42': 3,\n",
       "   u'47': 5,\n",
       "   u'5': 1754,\n",
       "   u'53': 3,\n",
       "   u'6': 2052,\n",
       "   u'67': 2,\n",
       "   u'7': 1303,\n",
       "   u'75': 3,\n",
       "   u'8': 789,\n",
       "   u'84': 2,\n",
       "   u'9': 537,\n",
       "   u'95': 1},\n",
       "  'experiments': None,\n",
       "  'frame_time': None,\n",
       "  'frame_time_sum': None,\n",
       "  'gfx': {u'ContentBackend': u'Skia',\n",
       "   u'D2DEnabled': False,\n",
       "   u'DWriteEnabled': True,\n",
       "   u'adapters': [{u'GPUActive': True,\n",
       "     u'RAM': None,\n",
       "     u'description': u'Intel(R) HD Graphics',\n",
       "     u'deviceID': u'0x0152',\n",
       "     u'driver': u'igdumd64 igd10umd64 igd10umd64 igdumd32 igd10umd32 igd10umd32',\n",
       "     u'driverDate': u'8-21-2012',\n",
       "     u'driverVersion': u'9.17.10.2843',\n",
       "     u'subsysID': u'074a1025',\n",
       "     u'vendorID': u'0x8086'}],\n",
       "   u'features': {u'advancedLayers': {u'status': u'available'},\n",
       "    u'compositor': u'd3d11',\n",
       "    u'd2d': {u'status': u'unavailable', u'version': u'1.1'},\n",
       "    u'd3d11': {u'blacklisted': False,\n",
       "     u'status': u'available',\n",
       "     u'textureSharing': True,\n",
       "     u'version': 45056,\n",
       "     u'warp': False},\n",
       "    u'gpuProcess': {u'status': u'unavailable'},\n",
       "    u'webrender': {u'status': u'unavailable'},\n",
       "    u'wrQualified': {u'status': u'blocked'}},\n",
       "   u'monitors': [{u'pseudoDisplay': False,\n",
       "     u'refreshRate': 60,\n",
       "     u'screenHeight': 900,\n",
       "     u'screenWidth': 1600}]},\n",
       "  'osName': u'Windows_NT',\n",
       "  'tab_switch': {u'0': 0,\n",
       "   u'1': 1,\n",
       "   u'115': 0,\n",
       "   u'2': 3,\n",
       "   u'3': 3,\n",
       "   u'4': 4,\n",
       "   u'80': 2}},\n",
       " {'buildId': u'20180806100140',\n",
       "  'checkerboardin': {u'101': 1, u'155': 0, u'66': 0},\n",
       "  'clientId': u'fec44038-71dd-43af-9a03-75a09240894a',\n",
       "  'composite_time': {u'bucket_count': 50,\n",
       "   u'histogram_type': 0,\n",
       "   u'range': [1, 1000],\n",
       "   u'sum': 399,\n",
       "   u'values': {u'0': 3485,\n",
       "    u'1': 16,\n",
       "    u'11': 1,\n",
       "    u'2': 10,\n",
       "    u'273': 1,\n",
       "    u'3': 2,\n",
       "    u'307': 0,\n",
       "    u'33': 1,\n",
       "    u'4': 2}},\n",
       "  'content_paint': {u'0': 6, u'3': 1, u'4': 0},\n",
       "  'experiments': {u'pref-flip-new-bookmark-sync-61-1456221': {u'branch': u'varient',\n",
       "    u'type': u'normandy-exp'}},\n",
       "  'frame_time': {u'1': 0, u'192': 1, u'2': 1, u'25': 1, u'5000': 1},\n",
       "  'frame_time_sum': 7363,\n",
       "  'gfx': {u'ContentBackend': u'Skia',\n",
       "   u'D2DEnabled': False,\n",
       "   u'DWriteEnabled': True,\n",
       "   u'adapters': [{u'GPUActive': True,\n",
       "     u'RAM': None,\n",
       "     u'description': u'Intel(R) HD Graphics 4400',\n",
       "     u'deviceID': u'0x041e',\n",
       "     u'driver': u'igdumdim64 igd10iumd64 igd10iumd64 igdumdim32 igd10iumd32 igd10iumd32',\n",
       "     u'driverDate': u'8-4-2015',\n",
       "     u'driverVersion': u'10.18.14.4264',\n",
       "     u'subsysID': u'368617aa',\n",
       "     u'vendorID': u'0x8086'},\n",
       "    {u'GPUActive': False,\n",
       "     u'RAM': 2048,\n",
       "     u'description': u'NVIDIA GeForce 800M   ',\n",
       "     u'deviceID': u'0x1140',\n",
       "     u'driver': u'nvd3dumx,nvwgf2umx,nvwgf2umx nvd3dum,nvwgf2um,nvwgf2um',\n",
       "     u'driverDate': u'3-13-2015',\n",
       "     u'driverVersion': u'9.18.13.4788',\n",
       "     u'subsysID': u'368617aa',\n",
       "     u'vendorID': u'0x10de'}],\n",
       "   u'features': {u'advancedLayers': {u'noConstantBufferOffsetting': True,\n",
       "     u'status': u'available'},\n",
       "    u'compositor': u'd3d11',\n",
       "    u'd2d': {u'status': u'blacklisted', u'version': u'1.1'},\n",
       "    u'd3d11': {u'blacklisted': False,\n",
       "     u'status': u'available',\n",
       "     u'textureSharing': True,\n",
       "     u'version': 45056,\n",
       "     u'warp': False},\n",
       "    u'gpuProcess': {u'status': u'available'},\n",
       "    u'webrender': {u'status': u'opt-in'},\n",
       "    u'wrQualified': {u'status': u'blocked'}},\n",
       "   u'monitors': [{u'pseudoDisplay': False,\n",
       "     u'refreshRate': 60,\n",
       "     u'screenHeight': 1080,\n",
       "     u'screenWidth': 1920}]},\n",
       "  'osName': u'Windows_NT',\n",
       "  'tab_switch': None},\n",
       " {'buildId': u'20180806100140',\n",
       "  'checkerboardin': None,\n",
       "  'clientId': u'88f47f53-083d-4f04-b664-0e1a11830518',\n",
       "  'composite_time': {u'bucket_count': 50,\n",
       "   u'histogram_type': 0,\n",
       "   u'range': [1, 1000],\n",
       "   u'sum': 381253,\n",
       "   u'values': {u'0': 252306,\n",
       "    u'1': 17291,\n",
       "    u'10': 613,\n",
       "    u'107': 3,\n",
       "    u'11': 471,\n",
       "    u'12': 512,\n",
       "    u'120': 5,\n",
       "    u'135': 2,\n",
       "    u'14': 288,\n",
       "    u'152': 2,\n",
       "    u'16': 258,\n",
       "    u'171': 1,\n",
       "    u'18': 186,\n",
       "    u'2': 26292,\n",
       "    u'20': 204,\n",
       "    u'23': 131,\n",
       "    u'243': 1,\n",
       "    u'26': 107,\n",
       "    u'29': 108,\n",
       "    u'3': 20821,\n",
       "    u'33': 82,\n",
       "    u'37': 73,\n",
       "    u'388': 1,\n",
       "    u'4': 14897,\n",
       "    u'42': 34,\n",
       "    u'437': 0,\n",
       "    u'47': 30,\n",
       "    u'5': 9575,\n",
       "    u'53': 38,\n",
       "    u'6': 6287,\n",
       "    u'60': 18,\n",
       "    u'67': 19,\n",
       "    u'7': 3085,\n",
       "    u'75': 13,\n",
       "    u'8': 1533,\n",
       "    u'84': 12,\n",
       "    u'9': 931,\n",
       "    u'95': 7}},\n",
       "  'content_paint': {u'0': 1143,\n",
       "   u'1': 7724,\n",
       "   u'10': 1088,\n",
       "   u'1000': 1,\n",
       "   u'107': 24,\n",
       "   u'11': 917,\n",
       "   u'12': 2031,\n",
       "   u'120': 22,\n",
       "   u'135': 10,\n",
       "   u'14': 1293,\n",
       "   u'152': 8,\n",
       "   u'16': 1152,\n",
       "   u'171': 3,\n",
       "   u'18': 774,\n",
       "   u'192': 1,\n",
       "   u'2': 4095,\n",
       "   u'20': 1024,\n",
       "   u'216': 2,\n",
       "   u'23': 802,\n",
       "   u'243': 1,\n",
       "   u'26': 695,\n",
       "   u'29': 806,\n",
       "   u'3': 4648,\n",
       "   u'307': 2,\n",
       "   u'33': 698,\n",
       "   u'37': 649,\n",
       "   u'4': 4017,\n",
       "   u'42': 366,\n",
       "   u'437': 1,\n",
       "   u'47': 329,\n",
       "   u'5': 3800,\n",
       "   u'53': 234,\n",
       "   u'554': 1,\n",
       "   u'6': 4270,\n",
       "   u'60': 147,\n",
       "   u'67': 110,\n",
       "   u'7': 3348,\n",
       "   u'75': 88,\n",
       "   u'8': 2295,\n",
       "   u'84': 68,\n",
       "   u'9': 1651,\n",
       "   u'95': 38},\n",
       "  'experiments': {u'searchCohort': {u'branch': u'nov17-2'}},\n",
       "  'frame_time': {u'103': 7984,\n",
       "   u'1059': 50,\n",
       "   u'11': 4,\n",
       "   u'120': 3284,\n",
       "   u'1237': 27,\n",
       "   u'13': 11,\n",
       "   u'140': 1995,\n",
       "   u'1445': 16,\n",
       "   u'15': 13,\n",
       "   u'164': 2181,\n",
       "   u'1688': 7,\n",
       "   u'18': 26,\n",
       "   u'192': 2311,\n",
       "   u'1971': 5,\n",
       "   u'21': 124,\n",
       "   u'224': 1832,\n",
       "   u'2302': 4,\n",
       "   u'25': 291,\n",
       "   u'262': 1209,\n",
       "   u'2688': 1,\n",
       "   u'29': 135,\n",
       "   u'306': 1123,\n",
       "   u'3139': 1,\n",
       "   u'34': 200,\n",
       "   u'357': 822,\n",
       "   u'3666': 2,\n",
       "   u'40': 288,\n",
       "   u'417': 565,\n",
       "   u'47': 424,\n",
       "   u'487': 351,\n",
       "   u'5': 0,\n",
       "   u'5000': 1,\n",
       "   u'55': 639,\n",
       "   u'569': 233,\n",
       "   u'6': 1,\n",
       "   u'64': 1137,\n",
       "   u'665': 151,\n",
       "   u'7': 1,\n",
       "   u'75': 2710,\n",
       "   u'777': 118,\n",
       "   u'88': 9461,\n",
       "   u'907': 73},\n",
       "  'frame_time_sum': 6258792,\n",
       "  'gfx': {u'ContentBackend': u'Skia',\n",
       "   u'D2DEnabled': True,\n",
       "   u'DWriteEnabled': True,\n",
       "   u'adapters': [{u'GPUActive': True,\n",
       "     u'RAM': None,\n",
       "     u'description': u'Intel(R) HD Graphics 520',\n",
       "     u'deviceID': u'0x1916',\n",
       "     u'driver': u'igdumdim64 igd10iumd64 igd10iumd64 igd12umd64 igdumdim32 igd10iumd32 igd10iumd32 igd12umd32',\n",
       "     u'driverDate': u'5-25-2018',\n",
       "     u'driverVersion': u'24.20.100.6136',\n",
       "     u'subsysID': u'00141414',\n",
       "     u'vendorID': u'0x8086'},\n",
       "    {u'GPUActive': False,\n",
       "     u'RAM': 1024,\n",
       "     u'description': u'NVIDIA GeForce GPU',\n",
       "     u'deviceID': u'0x134b',\n",
       "     u'driver': u'C:\\\\WINDOWS\\\\System32\\\\DriverStore\\\\FileRepository\\\\nvmso.inf_amd64_8461c3207f0421af\\\\nvldumdx.dll,C:\\\\WINDOWS\\\\System32\\\\DriverStore\\\\FileRepository\\\\nvmso.inf_amd64_8461c3207f0421af\\\\nvldumdx.dll,C:\\\\WINDOWS\\\\System32\\\\DriverStore\\\\FileRepository\\\\nvmso.inf_amd64_8461c3207f0421af\\\\nvldumdx.dll,C:\\\\WINDOWS\\\\System32\\\\DriverStore\\\\FileRepository\\\\nvmso.inf_amd64_8461c3207f0421af\\\\nvldumdx.dll C:\\\\WINDOWS\\\\System32\\\\DriverStore\\\\FileRepository\\\\nvmso.inf_amd64_8461c3207f0421af\\\\nvldumd.dll,C:\\\\WINDOWS\\\\System32\\\\DriverStore\\\\FileRepository\\\\nvmso.inf_amd64_8461c3207f0421af\\\\nvldumd.dll,C:\\\\WINDOWS\\\\System32\\\\DriverStore\\\\FileRepository\\\\nvmso.inf_amd64_8461c3207f0421af\\\\nvldumd.dll,C:\\\\WINDOWS\\\\System32\\\\DriverStore\\\\FileRepository\\\\nvmso.inf_amd64_8461c3207f0421af\\\\nvldumd.dll',\n",
       "     u'driverDate': u'4-4-2018',\n",
       "     u'driverVersion': u'23.21.13.9140',\n",
       "     u'subsysID': u'00081414',\n",
       "     u'vendorID': u'0x10de'}],\n",
       "   u'features': {u'advancedLayers': {u'status': u'available'},\n",
       "    u'compositor': u'd3d11',\n",
       "    u'd2d': {u'status': u'available', u'version': u'1.1'},\n",
       "    u'd3d11': {u'blacklisted': False,\n",
       "     u'status': u'available',\n",
       "     u'textureSharing': True,\n",
       "     u'version': 45312,\n",
       "     u'warp': False},\n",
       "    u'gpuProcess': {u'status': u'available'},\n",
       "    u'webrender': {u'status': u'opt-in'},\n",
       "    u'wrQualified': {u'status': u'blocked'}},\n",
       "   u'monitors': [{u'pseudoDisplay': False,\n",
       "     u'refreshRate': 60,\n",
       "     u'screenHeight': 2000,\n",
       "     u'screenWidth': 3000}]},\n",
       "  'osName': u'Windows_NT',\n",
       "  'tab_switch': {u'1': 0,\n",
       "   u'13': 6,\n",
       "   u'165': 1,\n",
       "   u'2': 2,\n",
       "   u'237': 0,\n",
       "   u'3': 3,\n",
       "   u'4': 10,\n",
       "   u'6': 17,\n",
       "   u'80': 1,\n",
       "   u'9': 23}}]"
      ]
     },
     "execution_count": 8,
     "metadata": {},
     "output_type": "execute_result"
    }
   ],
   "source": [
    "pings.take(4)"
   ]
  },
  {
   "cell_type": "code",
   "execution_count": 9,
   "metadata": {},
   "outputs": [
    {
     "data": {
      "text/plain": [
       "20266"
      ]
     },
     "execution_count": 9,
     "metadata": {},
     "output_type": "execute_result"
    }
   ],
   "source": [
    "# We add two extra steps. The first rewrites the ping to have some\n",
    "# information more easily accessible (like the primary adapter),\n",
    "# and the second step removes any pings that don't have adapter\n",
    "# information.\n",
    "def rewrite_ping(p):\n",
    "    adapters = p.get('gfx', None).get('adapters', None)\n",
    "    if not adapters:\n",
    "        return None\n",
    "    adapter = adapters[0]\n",
    "            \n",
    "    p['adapter'] = adapter\n",
    "            \n",
    "    # Convert the version to a tuple of integers.\n",
    "    #if 'driverVersion' in adapter:\n",
    "    #    p['driverVersion'] = [int(n) for n in adapter['driverVersion'].split('.') if n.isdigit()]\n",
    "    return p\n",
    "\n",
    "def filter_ping(p):\n",
    "    return 'adapter' in p\n",
    "rpings = pings.map(rewrite_ping).filter(filter_ping)\n",
    "rpings = rpings.cache()\n",
    "rpings.count()"
   ]
  },
  {
   "cell_type": "markdown",
   "metadata": {},
   "source": [
    "To prevent pseudoreplication, let's consider only a single submission for each client. As this step requires a distributed shuffle, it should always be run only after extracting the attributes of interest with *Dataset.select()*."
   ]
  },
  {
   "cell_type": "code",
   "execution_count": 10,
   "metadata": {},
   "outputs": [],
   "source": [
    "subset = (\n",
    "    rpings\n",
    "    .map(lambda p: (p['clientId'], p))\n",
    "    .reduceByKey(lambda p1, p2: p1)\n",
    "    .map(lambda p: p[1])\n",
    ")"
   ]
  },
  {
   "cell_type": "markdown",
   "metadata": {},
   "source": [
    "Caching is fundamental as it allows for an iterative, real-time development workflow:"
   ]
  },
  {
   "cell_type": "code",
   "execution_count": 11,
   "metadata": {},
   "outputs": [],
   "source": [
    "cached = subset.cache()"
   ]
  },
  {
   "cell_type": "markdown",
   "metadata": {},
   "source": [
    "How many pings are we looking at?"
   ]
  },
  {
   "cell_type": "code",
   "execution_count": 12,
   "metadata": {},
   "outputs": [
    {
     "data": {
      "text/plain": [
       "14493"
      ]
     },
     "execution_count": 12,
     "metadata": {},
     "output_type": "execute_result"
    }
   ],
   "source": [
    "cached.count()"
   ]
  },
  {
   "cell_type": "code",
   "execution_count": 13,
   "metadata": {},
   "outputs": [
    {
     "data": {
      "text/plain": [
       "5052"
      ]
     },
     "execution_count": 13,
     "metadata": {},
     "output_type": "execute_result"
    }
   ],
   "source": [
    "cached.filter(lambda p: p['checkerboardin']).count()"
   ]
  },
  {
   "cell_type": "code",
   "execution_count": 14,
   "metadata": {},
   "outputs": [
    {
     "data": {
      "text/plain": [
       "12481"
      ]
     },
     "execution_count": 14,
     "metadata": {},
     "output_type": "execute_result"
    }
   ],
   "source": [
    "cached = cached.filter(lambda p: \"features\" in p[\"gfx\"])\n",
    "cached = cached.filter(lambda p: \"wrQualified\" in p[\"gfx\"][\"features\"])\n",
    "cached.count()"
   ]
  },
  {
   "cell_type": "code",
   "execution_count": 15,
   "metadata": {},
   "outputs": [],
   "source": [
    "wrQualified = cached.filter(lambda p: p[\"gfx\"][\"features\"][\"wrQualified\"][\"status\"] == \"available\" )\n",
    "wrQualified.count()\n",
    "wrQualified = wrQualified.filter(lambda p: len(p[\"gfx\"][\"monitors\"]) == 1 and p[\"gfx\"][\"monitors\"][0][\"refreshRate\"] == 60)"
   ]
  },
  {
   "cell_type": "code",
   "execution_count": 16,
   "metadata": {},
   "outputs": [
    {
     "data": {
      "text/plain": [
       "defaultdict(int, {u'basic': 123, u'd3d11': 2622, u'webrender': 664})"
      ]
     },
     "execution_count": 16,
     "metadata": {},
     "output_type": "execute_result"
    }
   ],
   "source": [
    "wrExperiment = cached.filter(lambda p: \"experiments\" in p and p[\"experiments\"]).filter(lambda p: \"prefflip-webrender-v1-1-1474484\" in p[\"experiments\"])\n",
    "wrExperiment.map(lambda p: p[\"gfx\"][\"features\"][\"compositor\"]).countByValue()"
   ]
  },
  {
   "cell_type": "code",
   "execution_count": 31,
   "metadata": {},
   "outputs": [],
   "source": [
    "wrExperiment = wrExperiment.filter(lambda p: p[\"gfx\"][\"features\"][\"wrQualified\"][\"status\"] == \"available\")\n",
    "wrExperiment = wrExperiment.filter(lambda p: len(p[\"gfx\"][\"monitors\"]) == 1 and p[\"gfx\"][\"monitors\"][0][\"refreshRate\"] == 60)"
   ]
  },
  {
   "cell_type": "code",
   "execution_count": 32,
   "metadata": {},
   "outputs": [
    {
     "data": {
      "text/plain": [
       "defaultdict(int, {u'control': 495, u'treatment': 472})"
      ]
     },
     "execution_count": 32,
     "metadata": {},
     "output_type": "execute_result"
    }
   ],
   "source": [
    "wrExperiment.map(lambda p: p[\"experiments\"][\"prefflip-webrender-v1-1-1474484\"][\"branch\"]).countByValue()"
   ]
  },
  {
   "cell_type": "code",
   "execution_count": 33,
   "metadata": {},
   "outputs": [],
   "source": [
    "treatment = wrExperiment.filter(lambda p: p[\"experiments\"][\"prefflip-webrender-v1-1-1474484\"][\"branch\"] == \"treatment\")\n",
    "control = wrExperiment.filter(lambda p: p[\"experiments\"][\"prefflip-webrender-v1-1-1474484\"][\"branch\"] == \"control\")\n"
   ]
  },
  {
   "cell_type": "code",
   "execution_count": 34,
   "metadata": {},
   "outputs": [
    {
     "ename": "NameError",
     "evalue": "name 'qTreatment' is not defined",
     "output_type": "error",
     "traceback": [
      "\u001b[0;31m\u001b[0m",
      "\u001b[0;31mNameError\u001b[0mTraceback (most recent call last)",
      "\u001b[0;32m<ipython-input-34-1eea640f8f26>\u001b[0m in \u001b[0;36m<module>\u001b[0;34m()\u001b[0m\n\u001b[0;32m----> 1\u001b[0;31m \u001b[0mwrt\u001b[0m \u001b[0;34m=\u001b[0m \u001b[0mqTreatment\u001b[0m\u001b[0;34m.\u001b[0m\u001b[0mfilter\u001b[0m\u001b[0;34m(\u001b[0m\u001b[0;32mlambda\u001b[0m \u001b[0mp\u001b[0m\u001b[0;34m:\u001b[0m \u001b[0mp\u001b[0m\u001b[0;34m[\u001b[0m\u001b[0;34m\"gfx\"\u001b[0m\u001b[0;34m]\u001b[0m\u001b[0;34m[\u001b[0m\u001b[0;34m\"features\"\u001b[0m\u001b[0;34m]\u001b[0m\u001b[0;34m[\u001b[0m\u001b[0;34m\"compositor\"\u001b[0m\u001b[0;34m]\u001b[0m \u001b[0;34m==\u001b[0m \u001b[0;34m'd3d11'\u001b[0m\u001b[0;34m)\u001b[0m\u001b[0;34m.\u001b[0m\u001b[0mfilter\u001b[0m\u001b[0;34m(\u001b[0m\u001b[0;32mlambda\u001b[0m \u001b[0mp\u001b[0m\u001b[0;34m:\u001b[0m \u001b[0;34m'webrender'\u001b[0m \u001b[0;32min\u001b[0m \u001b[0mp\u001b[0m\u001b[0;34m[\u001b[0m\u001b[0;34m\"gfx\"\u001b[0m\u001b[0;34m]\u001b[0m\u001b[0;34m[\u001b[0m\u001b[0;34m\"features\"\u001b[0m\u001b[0;34m]\u001b[0m\u001b[0;34m)\u001b[0m\u001b[0;34m\u001b[0m\u001b[0m\n\u001b[0m\u001b[1;32m      2\u001b[0m \u001b[0mwrt\u001b[0m\u001b[0;34m.\u001b[0m\u001b[0mmap\u001b[0m\u001b[0;34m(\u001b[0m\u001b[0;32mlambda\u001b[0m \u001b[0mp\u001b[0m\u001b[0;34m:\u001b[0m \u001b[0mp\u001b[0m\u001b[0;34m[\u001b[0m\u001b[0;34m\"gfx\"\u001b[0m\u001b[0;34m]\u001b[0m\u001b[0;34m[\u001b[0m\u001b[0;34m\"features\"\u001b[0m\u001b[0;34m]\u001b[0m\u001b[0;34m[\u001b[0m\u001b[0;34m\"webrender\"\u001b[0m\u001b[0;34m]\u001b[0m\u001b[0;34m[\u001b[0m\u001b[0;34m\"status\"\u001b[0m\u001b[0;34m]\u001b[0m\u001b[0;34m)\u001b[0m\u001b[0;34m.\u001b[0m\u001b[0mcountByValue\u001b[0m\u001b[0;34m(\u001b[0m\u001b[0;34m)\u001b[0m\u001b[0;34m\u001b[0m\u001b[0m\n\u001b[1;32m      3\u001b[0m \u001b[0;31m#wrt.count()\u001b[0m\u001b[0;34m\u001b[0m\u001b[0;34m\u001b[0m\u001b[0m\n",
      "\u001b[0;31mNameError\u001b[0m: name 'qTreatment' is not defined"
     ]
    }
   ],
   "source": [
    "wrt = qTreatment.filter(lambda p: p[\"gfx\"][\"features\"][\"compositor\"] == 'd3d11').filter(lambda p: 'webrender' in p[\"gfx\"][\"features\"])\n",
    "wrt.map(lambda p: p[\"gfx\"][\"features\"][\"webrender\"][\"status\"]).countByValue()\n",
    "#wrt.count()"
   ]
  },
  {
   "cell_type": "code",
   "execution_count": 21,
   "metadata": {},
   "outputs": [
    {
     "data": {
      "text/plain": [
       "defaultdict(int,\n",
       "            {u'basic': 196,\n",
       "             u'd3d11': 4122,\n",
       "             u'none': 1,\n",
       "             u'opengl': 1,\n",
       "             u'webrender': 341})"
      ]
     },
     "execution_count": 21,
     "metadata": {},
     "output_type": "execute_result"
    }
   ],
   "source": [
    "cached.filter(lambda p: p['checkerboardin']).map(lambda p: p[\"gfx\"][\"features\"][\"compositor\"]).countByValue()"
   ]
  },
  {
   "cell_type": "code",
   "execution_count": 22,
   "metadata": {},
   "outputs": [
    {
     "data": {
      "text/plain": [
       "defaultdict(int, {None: 3, False: 2, True: 336})"
      ]
     },
     "execution_count": 22,
     "metadata": {},
     "output_type": "execute_result"
    }
   ],
   "source": [
    "checked = cached.filter(lambda p: p['checkerboardin']).filter(lambda p: p[\"gfx\"][\"features\"][\"compositor\"] == \"webrender\")\n",
    "checked.map(lambda p: p[\"gfx\"][\"D2DEnabled\"]).countByValue()"
   ]
  },
  {
   "cell_type": "code",
   "execution_count": 35,
   "metadata": {},
   "outputs": [
    {
     "data": {
      "text/plain": [
       "defaultdict(int, {u'basic': 8, u'd3d11': 193, u'webrender': 271})"
      ]
     },
     "execution_count": 35,
     "metadata": {},
     "output_type": "execute_result"
    }
   ],
   "source": [
    "treatment.map(lambda p: p[\"gfx\"][\"features\"][\"compositor\"]).countByValue()"
   ]
  },
  {
   "cell_type": "code",
   "execution_count": 24,
   "metadata": {},
   "outputs": [
    {
     "data": {
      "text/plain": [
       "[{'adapter': {u'GPUActive': True,\n",
       "   u'RAM': 2048,\n",
       "   u'description': u'NVIDIA GeForce GTX 660',\n",
       "   u'deviceID': u'0x11c0',\n",
       "   u'driver': u'C:\\\\WINDOWS\\\\System32\\\\DriverStore\\\\FileRepository\\\\nv_dispi.inf_amd64_38c9bee769f9ef1f\\\\nvldumdx.dll,C:\\\\WINDOWS\\\\System32\\\\DriverStore\\\\FileRepository\\\\nv_dispi.inf_amd64_38c9bee769f9ef1f\\\\nvldumdx.dll,C:\\\\WINDOWS\\\\System32\\\\DriverStore\\\\FileRepository\\\\nv_dispi.inf_amd64_38c9bee769f9ef1f\\\\nvldumdx.dll,C:\\\\WINDOWS\\\\System32\\\\DriverStore\\\\FileRepository\\\\nv_dispi.inf_amd64_38c9bee769f9ef1f\\\\nvldumdx.dll C:\\\\WINDOWS\\\\System32\\\\DriverStore\\\\FileRepository\\\\nv_dispi.inf_amd64_38c9bee769f9ef1f\\\\nvldumd.dll,C:\\\\WINDOWS\\\\System32\\\\DriverStore\\\\FileRepository\\\\nv_dispi.inf_amd64_38c9bee769f9ef1f\\\\nvldumd.dll,C:\\\\WINDOWS\\\\System32\\\\DriverStore\\\\FileRepository\\\\nv_dispi.inf_amd64_38c9bee769f9ef1f\\\\nvldumd.dll,C:\\\\WINDOWS\\\\System32\\\\DriverStore\\\\FileRepository\\\\nv_dispi.inf_amd64_38c9bee769f9ef1f\\\\nvldumd.dll',\n",
       "   u'driverDate': u'5-7-2018',\n",
       "   u'driverVersion': u'24.21.13.9764',\n",
       "   u'subsysID': u'354e1458',\n",
       "   u'vendorID': u'0x10de'},\n",
       "  'buildId': u'20180802100128',\n",
       "  'checkerboardin': None,\n",
       "  'clientId': u'49465b34-1fd4-468d-af82-50fc272deb47',\n",
       "  'composite_time': {u'bucket_count': 50,\n",
       "   u'histogram_type': 0,\n",
       "   u'range': [1, 1000],\n",
       "   u'sum': 1151,\n",
       "   u'values': {u'0': 1812,\n",
       "    u'1': 459,\n",
       "    u'11': 1,\n",
       "    u'152': 1,\n",
       "    u'171': 0,\n",
       "    u'2': 151,\n",
       "    u'20': 1,\n",
       "    u'23': 1,\n",
       "    u'3': 18,\n",
       "    u'4': 6,\n",
       "    u'5': 3,\n",
       "    u'53': 1,\n",
       "    u'8': 1,\n",
       "    u'9': 1}},\n",
       "  'content_paint': {u'0': 14,\n",
       "   u'1': 410,\n",
       "   u'10': 6,\n",
       "   u'11': 3,\n",
       "   u'12': 1,\n",
       "   u'14': 3,\n",
       "   u'16': 2,\n",
       "   u'2': 265,\n",
       "   u'23': 1,\n",
       "   u'26': 1,\n",
       "   u'29': 1,\n",
       "   u'3': 132,\n",
       "   u'33': 0,\n",
       "   u'4': 27,\n",
       "   u'5': 36,\n",
       "   u'6': 19,\n",
       "   u'7': 5,\n",
       "   u'8': 5,\n",
       "   u'9': 5},\n",
       "  'experiments': {u'prefflip-webrender-v1-1-1474484': {u'branch': u'control',\n",
       "    u'type': u'normandy-exp'}},\n",
       "  'frame_time': {u'103': 136,\n",
       "   u'1059': 1,\n",
       "   u'11': 4,\n",
       "   u'120': 10,\n",
       "   u'1237': 0,\n",
       "   u'13': 5,\n",
       "   u'140': 1,\n",
       "   u'15': 20,\n",
       "   u'164': 6,\n",
       "   u'18': 21,\n",
       "   u'192': 2,\n",
       "   u'21': 9,\n",
       "   u'25': 7,\n",
       "   u'262': 3,\n",
       "   u'29': 8,\n",
       "   u'34': 17,\n",
       "   u'357': 1,\n",
       "   u'40': 24,\n",
       "   u'47': 12,\n",
       "   u'55': 6,\n",
       "   u'64': 10,\n",
       "   u'75': 55,\n",
       "   u'777': 1,\n",
       "   u'8': 0,\n",
       "   u'88': 555,\n",
       "   u'9': 3},\n",
       "  'frame_time_sum': 84371,\n",
       "  'gfx': {u'ContentBackend': u'Skia',\n",
       "   u'D2DEnabled': True,\n",
       "   u'DWriteEnabled': True,\n",
       "   u'adapters': [{u'GPUActive': True,\n",
       "     u'RAM': 2048,\n",
       "     u'description': u'NVIDIA GeForce GTX 660',\n",
       "     u'deviceID': u'0x11c0',\n",
       "     u'driver': u'C:\\\\WINDOWS\\\\System32\\\\DriverStore\\\\FileRepository\\\\nv_dispi.inf_amd64_38c9bee769f9ef1f\\\\nvldumdx.dll,C:\\\\WINDOWS\\\\System32\\\\DriverStore\\\\FileRepository\\\\nv_dispi.inf_amd64_38c9bee769f9ef1f\\\\nvldumdx.dll,C:\\\\WINDOWS\\\\System32\\\\DriverStore\\\\FileRepository\\\\nv_dispi.inf_amd64_38c9bee769f9ef1f\\\\nvldumdx.dll,C:\\\\WINDOWS\\\\System32\\\\DriverStore\\\\FileRepository\\\\nv_dispi.inf_amd64_38c9bee769f9ef1f\\\\nvldumdx.dll C:\\\\WINDOWS\\\\System32\\\\DriverStore\\\\FileRepository\\\\nv_dispi.inf_amd64_38c9bee769f9ef1f\\\\nvldumd.dll,C:\\\\WINDOWS\\\\System32\\\\DriverStore\\\\FileRepository\\\\nv_dispi.inf_amd64_38c9bee769f9ef1f\\\\nvldumd.dll,C:\\\\WINDOWS\\\\System32\\\\DriverStore\\\\FileRepository\\\\nv_dispi.inf_amd64_38c9bee769f9ef1f\\\\nvldumd.dll,C:\\\\WINDOWS\\\\System32\\\\DriverStore\\\\FileRepository\\\\nv_dispi.inf_amd64_38c9bee769f9ef1f\\\\nvldumd.dll',\n",
       "     u'driverDate': u'5-7-2018',\n",
       "     u'driverVersion': u'24.21.13.9764',\n",
       "     u'subsysID': u'354e1458',\n",
       "     u'vendorID': u'0x10de'}],\n",
       "   u'features': {u'advancedLayers': {u'status': u'available'},\n",
       "    u'compositor': u'd3d11',\n",
       "    u'd2d': {u'status': u'available', u'version': u'1.1'},\n",
       "    u'd3d11': {u'blacklisted': False,\n",
       "     u'status': u'available',\n",
       "     u'textureSharing': True,\n",
       "     u'version': 45056,\n",
       "     u'warp': False},\n",
       "    u'gpuProcess': {u'status': u'available'},\n",
       "    u'webrender': {u'status': u'opt-in'},\n",
       "    u'wrQualified': {u'status': u'available'}},\n",
       "   u'monitors': [{u'pseudoDisplay': False,\n",
       "     u'refreshRate': 60,\n",
       "     u'screenHeight': 1080,\n",
       "     u'screenWidth': 1920}]},\n",
       "  'osName': u'Windows_NT',\n",
       "  'tab_switch': None}]"
      ]
     },
     "execution_count": 24,
     "metadata": {},
     "output_type": "execute_result"
    }
   ],
   "source": [
    "wrQualified.take(1)"
   ]
  },
  {
   "cell_type": "code",
   "execution_count": 36,
   "metadata": {},
   "outputs": [
    {
     "data": {
      "text/plain": [
       "(271, 476)"
      ]
     },
     "execution_count": 36,
     "metadata": {},
     "output_type": "execute_result"
    }
   ],
   "source": [
    "wrEnabled = treatment.filter(lambda p: p[\"gfx\"][\"features\"][\"compositor\"] == \"webrender\")\n",
    "wrDisabled = control.filter(lambda p: p[\"gfx\"][\"features\"][\"compositor\"] == \"d3d11\")\n",
    "wrEnabled.count(), wrDisabled.count()"
   ]
  },
  {
   "cell_type": "code",
   "execution_count": null,
   "metadata": {},
   "outputs": [],
   "source": []
  },
  {
   "cell_type": "code",
   "execution_count": 37,
   "metadata": {},
   "outputs": [],
   "source": [
    "wrDisabled2 = wrDisabled.sample(False, wrEnabled.count()/(wrDisabled.count()*1.0))\n",
    "wrDisabled3 = wrDisabled.sample(False, wrEnabled.count()/(wrDisabled.count()*1.0))\n",
    "wrDisabled = wrDisabled.sample(False, wrEnabled.count()/(wrDisabled.count()*1.0))"
   ]
  },
  {
   "cell_type": "code",
   "execution_count": 38,
   "metadata": {},
   "outputs": [
    {
     "data": {
      "text/plain": [
       "(273, 280, 260, 271)"
      ]
     },
     "execution_count": 38,
     "metadata": {},
     "output_type": "execute_result"
    }
   ],
   "source": [
    "wrDisabled3.count(), wrDisabled.count(), wrDisabled2.count(), wrEnabled.count()"
   ]
  },
  {
   "cell_type": "code",
   "execution_count": 28,
   "metadata": {},
   "outputs": [
    {
     "data": {
      "text/plain": [
       "defaultdict(int,\n",
       "            {u'20180721220720': 1,\n",
       "             u'20180722100230': 5,\n",
       "             u'20180722220044': 1,\n",
       "             u'20180723100101': 3,\n",
       "             u'20180723220051': 3,\n",
       "             u'20180724100052': 2,\n",
       "             u'20180724223402': 1,\n",
       "             u'20180725103029': 6,\n",
       "             u'20180726001822': 3,\n",
       "             u'20180726100339': 3,\n",
       "             u'20180726220124': 3,\n",
       "             u'20180727103347': 4,\n",
       "             u'20180727231224': 2,\n",
       "             u'20180728101501': 2,\n",
       "             u'20180728220145': 4,\n",
       "             u'20180729100102': 2,\n",
       "             u'20180729220222': 4,\n",
       "             u'20180730100211': 6,\n",
       "             u'20180730221422': 8,\n",
       "             u'20180731105217': 5,\n",
       "             u'20180731220208': 12,\n",
       "             u'20180801100116': 8,\n",
       "             u'20180801223951': 9,\n",
       "             u'20180802100128': 15,\n",
       "             u'20180802220056': 20,\n",
       "             u'20180803104322': 16,\n",
       "             u'20180803220259': 41,\n",
       "             u'20180804124335': 41,\n",
       "             u'20180804220307': 106,\n",
       "             u'20180805100054': 263,\n",
       "             u'20180805231147': 272,\n",
       "             u'20180806100140': 278})"
      ]
     },
     "execution_count": 28,
     "metadata": {},
     "output_type": "execute_result"
    }
   ],
   "source": [
    "wrQualified.map(lambda p: p['buildId']).countByValue()"
   ]
  },
  {
   "cell_type": "code",
   "execution_count": 50,
   "metadata": {},
   "outputs": [
    {
     "data": {
      "text/plain": [
       "defaultdict(int, {u'basic': 64, u'd3d11': 1034, u'webrender': 637})"
      ]
     },
     "execution_count": 50,
     "metadata": {},
     "output_type": "execute_result"
    }
   ],
   "source": [
    "normandy = treatment.filter(lambda p: p['buildId'] == '20180731105217')\n",
    "treatment.map(lambda p: p[\"gfx\"][\"features\"][\"compositor\"]).countByValue()\n",
    "#normandy.count()\n",
    "#normandy.map(lambda p: p[\"adapter\"][\"deviceID\"]).countByValue()\n",
    "#normandy.filter(lambda p: p[\"gfx\"][\"features\"][\"compositor\"] == \"webrender\").take(4)\n"
   ]
  },
  {
   "cell_type": "markdown",
   "metadata": {},
   "source": [
    "Let's group the startup timings by OS:"
   ]
  },
  {
   "cell_type": "code",
   "execution_count": null,
   "metadata": {},
   "outputs": [],
   "source": [
    "grouped = (\n",
    "    cached\n",
    "    .map(lambda p: (p['osName'], p['firstPaint']))\n",
    "    .groupByKey()\n",
    "    .collectAsMap()\n",
    ")"
   ]
  },
  {
   "cell_type": "markdown",
   "metadata": {},
   "source": [
    "And finally plot the data:"
   ]
  },
  {
   "cell_type": "code",
   "execution_count": null,
   "metadata": {},
   "outputs": [],
   "source": [
    "frame = pd.DataFrame({x: np.log10(pd.Series(list(y))) for x, y in grouped.items()})\n",
    "plt.figure(figsize=(17, 7))\n",
    "frame.boxplot(return_type='axes')\n",
    "plt.ylabel('log10(firstPaint)')\n",
    "plt.show()"
   ]
  },
  {
   "cell_type": "code",
   "execution_count": null,
   "metadata": {},
   "outputs": [],
   "source": [
    "plt.title('startup distribution for Windows')\n",
    "plt.ylabel('count')\n",
    "plt.xlabel('log10(firstPaint)')\n",
    "frame['Windows_NT'].plot(kind='hist', bins=50, figsize=(14, 7))"
   ]
  },
  {
   "cell_type": "markdown",
   "metadata": {},
   "source": [
    "### Histograms"
   ]
  },
  {
   "cell_type": "markdown",
   "metadata": {},
   "source": [
    "Let's extract a histogram of GC_MARK_MS (time spent running JS garbage collection mark phase) from the submissions:\n",
    "\n",
    "(see https://developer.mozilla.org/en-US/docs/Web/JavaScript/Memory_Management for more information)"
   ]
  },
  {
   "cell_type": "code",
   "execution_count": null,
   "metadata": {
    "scrolled": true
   },
   "outputs": [],
   "source": [
    "histograms = (\n",
    "    pings_dataset\n",
    "    .select(GC_MARK_MS_content='payload.processes.content.histograms.GC_MARK_MS.values',\n",
    "            GC_MARK_MS_parent='payload.histograms.GC_MARK_MS.values')\n",
    "    .records(sc, sample=0.05)\n",
    ")"
   ]
  },
  {
   "cell_type": "markdown",
   "metadata": {},
   "source": [
    "- `payload.histograms.GC_MARK_MS.values` is a path to the GC_MARK_MS values of the parent (main) process\n",
    "- `payload.processes.content.histograms.GC_MARK_MS.values` is a path to the GC_MARK_MS values of the child processes\n",
    "\n",
    "Let's aggregate the histogram over all submissions and plot it as a histogram.  Since the parent and child processes are recorded separately, we can create a histogram for each one and then add them together.\n",
    "\n",
    "Each histogram is a pandas series where the index is the bucket and the value is the count."
   ]
  },
  {
   "cell_type": "code",
   "execution_count": 66,
   "metadata": {},
   "outputs": [],
   "source": [
    "def aggregate_series(s1, s2):\n",
    "    \"\"\"Function to sum up series; if one is None, return other\"\"\"\n",
    "    if s1 is None:\n",
    "        return s2\n",
    "    if s2 is None:\n",
    "        return s1\n",
    "    return s1.add(s2, fill_value=0)"
   ]
  },
  {
   "cell_type": "code",
   "execution_count": 26,
   "metadata": {
    "scrolled": false
   },
   "outputs": [],
   "source": [
    "\n",
    "\n",
    "aggregated_enabled = (\n",
    "    wrEnabled\n",
    "    .map(lambda p: pd.Series(p['content_paint']))\n",
    "    .reduce(aggregate_series)\n",
    ")\n",
    "aggregated_enabled.index = [int(i) for i in aggregated_enabled.index]\n",
    "aggregated_enabled = aggregated_enabled.sort_index()\n",
    "\n",
    "aggregated_disabled = (\n",
    "    wrDisabled2\n",
    "    .map(lambda p: pd.Series(p['content_paint']))\n",
    "    .reduce(aggregate_series)\n",
    ")\n",
    "aggregated_disabled.index = [int(i) for i in aggregated_disabled.index]\n",
    "aggregated_disabled = aggregated_disabled.sort_index()"
   ]
  },
  {
   "cell_type": "code",
   "execution_count": null,
   "metadata": {},
   "outputs": [],
   "source": [
    "aggregated_disabled.sum()"
   ]
  },
  {
   "cell_type": "code",
   "execution_count": null,
   "metadata": {},
   "outputs": [],
   "source": [
    "aggregated_enabled.sum()"
   ]
  },
  {
   "cell_type": "code",
   "execution_count": null,
   "metadata": {},
   "outputs": [],
   "source": [
    "aggregated_disabled.loc[0:7].sum()/aggregated_disabled.sum()"
   ]
  },
  {
   "cell_type": "code",
   "execution_count": null,
   "metadata": {},
   "outputs": [],
   "source": [
    "aggregated_enabled.loc[0:7].sum()/aggregated_enabled.sum()"
   ]
  },
  {
   "cell_type": "code",
   "execution_count": null,
   "metadata": {},
   "outputs": [],
   "source": [
    "aggregated_disabled.loc[16].sum()/aggregated_disabled.loc[16:].sum()\n"
   ]
  },
  {
   "cell_type": "code",
   "execution_count": null,
   "metadata": {},
   "outputs": [],
   "source": [
    "aggregated_enabled.loc[16].sum()/aggregated_enabled.loc[16:].sum()\n"
   ]
  },
  {
   "cell_type": "code",
   "execution_count": null,
   "metadata": {},
   "outputs": [],
   "source": [
    "aggregated_enabled[22:].sum()"
   ]
  },
  {
   "cell_type": "code",
   "execution_count": null,
   "metadata": {},
   "outputs": [],
   "source": [
    "aggregated_disabled[22:].sum()"
   ]
  },
  {
   "cell_type": "code",
   "execution_count": 47,
   "metadata": {},
   "outputs": [
    {
     "data": {
      "text/plain": [
       "<matplotlib.text.Text at 0x7f24f8b531d0>"
      ]
     },
     "execution_count": 47,
     "metadata": {},
     "output_type": "execute_result"
    },
    {
     "data": {
      "image/png": "[encoded data removed]",
      "text/plain": [
       "<matplotlib.figure.Figure at 0x7f24f8bb8b10>"
      ]
     },
     "metadata": {},
     "output_type": "display_data"
    }
   ],
   "source": [
    "percent_enabled = aggregated_enabled[:].map(lambda x: x/aggregated_enabled[0:].sum())\n",
    "percent_disabled = aggregated_disabled[:].map(lambda x: x/aggregated_disabled[0:].sum())\n",
    "\n",
    "percent = percent_enabled\n",
    "df = pd.DataFrame()\n",
    "df['enabled'] = percent_enabled\n",
    "df['disabled'] = percent_disabled\n",
    "#(percent_enabled - percent_disabled).plot(kind='bar', figsize=(15, 7))\n",
    "p = df.cumsum().plot(kind='bar', figsize=(15, 7))\n",
    "p.set_xlabel(\"ms\")\n",
    "p.set_ylabel(\"percentage of content paints that happen in less than x ms\")\n"
   ]
  },
  {
   "cell_type": "code",
   "execution_count": 49,
   "metadata": {},
   "outputs": [
    {
     "data": {
      "text/plain": [
       "<matplotlib.text.Text at 0x7f24f851db50>"
      ]
     },
     "execution_count": 49,
     "metadata": {},
     "output_type": "execute_result"
    },
    {
     "data": {
      "image/png": "[encoded data removed]",
      "text/plain": [
       "<matplotlib.figure.Figure at 0x7f24f8732f50>"
      ]
     },
     "metadata": {},
     "output_type": "display_data"
    }
   ],
   "source": [
    "p = (100*(percent_enabled - percent_disabled) / percent_enabled).plot(kind='bar', figsize=(15, 7))\n",
    "p.set_xlabel(\"ms\")\n",
    "p.set_ylabel(\"% change in content paint times of x ms from enabling WebRender\")"
   ]
  },
  {
   "cell_type": "code",
   "execution_count": 30,
   "metadata": {},
   "outputs": [],
   "source": [
    "tab_aggregated_enabled = (\n",
    "    wrEnabled\n",
    "    .map(lambda p: pd.Series(p['tab_switch']))\n",
    "    .reduce(aggregate_series)\n",
    ")\n",
    "tab_aggregated_enabled.index = [int(i) for i in tab_aggregated_enabled.index]\n",
    "tab_aggregated_enabled = tab_aggregated_enabled.sort_index()\n",
    "\n",
    "tab_aggregated_disabled = (\n",
    "    wrDisabled2\n",
    "    .map(lambda p: pd.Series(p['tab_switch']))\n",
    "    .reduce(aggregate_series)\n",
    ")\n",
    "tab_aggregated_disabled.index = [int(i) for i in tab_aggregated_disabled.index]\n",
    "tab_aggregated_disabled = tab_aggregated_disabled.sort_index()"
   ]
  },
  {
   "cell_type": "code",
   "execution_count": 45,
   "metadata": {},
   "outputs": [
    {
     "data": {
      "text/plain": [
       "<matplotlib.text.Text at 0x7f24f8f32150>"
      ]
     },
     "execution_count": 45,
     "metadata": {},
     "output_type": "execute_result"
    },
    {
     "data": {
      "image/png": "[encoded data removed]",
      "text/plain": [
       "<matplotlib.figure.Figure at 0x7f24f8ecfa90>"
      ]
     },
     "metadata": {},
     "output_type": "display_data"
    }
   ],
   "source": [
    "percent_enabled = tab_aggregated_enabled[0:].map(lambda x: x/tab_aggregated_enabled[0:].sum())\n",
    "percent_disabled = tab_aggregated_disabled[0:].map(lambda x: x/tab_aggregated_disabled[0:].sum())\n",
    "\n",
    "percent = percent_enabled\n",
    "df = pd.DataFrame()\n",
    "df['enabled'] = percent_enabled\n",
    "df['disabled'] = percent_disabled\n",
    "#(percent_enabled - percent_disabled).plot(kind='bar', figsize=(15, 7))\n",
    "p = df.cumsum().plot(kind='bar', figsize=(15, 7))\n",
    "p.set_ylabel(\"percentage of tab switches that happen in less than x ms\")\n",
    "p.set_xlabel(\"ms\")\n",
    "#df"
   ]
  },
  {
   "cell_type": "code",
   "execution_count": 34,
   "metadata": {},
   "outputs": [
    {
     "data": {
      "text/plain": [
       "<matplotlib.axes._subplots.AxesSubplot at 0x7f24f9f58450>"
      ]
     },
     "execution_count": 34,
     "metadata": {},
     "output_type": "execute_result"
    },
    {
     "data": {
      "image/png": "[encoded data removed]",
      "text/plain": [
       "<matplotlib.figure.Figure at 0x7f24fa82ad90>"
      ]
     },
     "metadata": {},
     "output_type": "display_data"
    }
   ],
   "source": [
    "percent_enabled = tab_aggregated_enabled[0:]\n",
    "percent_disabled = tab_aggregated_disabled[0:]\n",
    "\n",
    "percent = percent_enabled\n",
    "df = pd.DataFrame()\n",
    "df['enabled'] = percent_enabled\n",
    "df['disabled'] = percent_disabled\n",
    "#(percent_enabled - percent_disabled).plot(kind='bar', figsize=(15, 7))\n",
    "df.cumsum().plot(kind='bar', figsize=(15, 7))\n",
    "#df"
   ]
  },
  {
   "cell_type": "code",
   "execution_count": null,
   "metadata": {},
   "outputs": [],
   "source": []
  },
  {
   "cell_type": "code",
   "execution_count": 46,
   "metadata": {},
   "outputs": [
    {
     "data": {
      "text/plain": [
       "<matplotlib.text.Text at 0x7f24f8cffad0>"
      ]
     },
     "execution_count": 46,
     "metadata": {},
     "output_type": "execute_result"
    },
    {
     "data": {
      "image/png": "[encoded data removed]",
      "text/plain": [
       "<matplotlib.figure.Figure at 0x7f24f92b81d0>"
      ]
     },
     "metadata": {},
     "output_type": "display_data"
    }
   ],
   "source": [
    "p = (100*(percent_enabled - percent_disabled) / percent_enabled).plot(kind='bar', figsize=(15, 7))\n",
    "p.set_xlabel(\"ms\")\n",
    "p.set_ylabel(\"% change in tab switches of x ms from enabling WebRender\")"
   ]
  },
  {
   "cell_type": "code",
   "execution_count": null,
   "metadata": {},
   "outputs": [],
   "source": [
    "plt.title('wr_enabled')\n",
    "precent_enabled.plot(kind='bar', figsize=(15, 7))"
   ]
  },
  {
   "cell_type": "code",
   "execution_count": null,
   "metadata": {},
   "outputs": [],
   "source": [
    "plt.title('wr_disabled')\n",
    "aggregated_disabled.plot(kind='bar', figsize=(15, 7))\n",
    "aggregated_enabledd.plot(kind='bar', figs)"
   ]
  },
  {
   "cell_type": "code",
   "execution_count": 183,
   "metadata": {},
   "outputs": [],
   "source": [
    "check_aggregated_enabled = (\n",
    "    wrEnabled\n",
    "    .map(lambda p: pd.Series(p['checkerboardin']))\n",
    "    .reduce(aggregate_series)\n",
    ")\n",
    "check_aggregated_enabled.index = [int(i) for i in check_aggregated_enabled.index]\n",
    "check_aggregated_enabled = check_aggregated_enabled.sort_index()\n",
    "\n",
    "check_aggregated_disabled = (\n",
    "    wrDisabled\n",
    "    .map(lambda p: pd.Series(p['checkerboardin']))\n",
    "    .reduce(aggregate_series)\n",
    ")\n",
    "check_aggregated_disabled.index = [int(i) for i in check_aggregated_disabled.index]\n",
    "check_aggregated_disabled = check_aggregated_disabled.sort_index()\n",
    "\n",
    "check_aggregated_disabled2 = (\n",
    "    wrDisabled2\n",
    "    .map(lambda p: pd.Series(p['checkerboardin']))\n",
    "    .reduce(aggregate_series)\n",
    ")\n",
    "check_aggregated_disabled2.index = [int(i) for i in check_aggregated_disabled2.index]\n",
    "check_aggregated_disabled2 = check_aggregated_disabled2.sort_index()\n",
    "\n",
    "check_aggregated_disabled3 = (\n",
    "    wrDisabled3\n",
    "    .map(lambda p: pd.Series(p['checkerboardin']))\n",
    "    .reduce(aggregate_series)\n",
    ")\n",
    "check_aggregated_disabled3.index = [int(i) for i in check_aggregated_disabled3.index]\n",
    "check_aggregated_disabled3 = check_aggregated_disabled3.sort_index()"
   ]
  },
  {
   "cell_type": "code",
   "execution_count": 184,
   "metadata": {},
   "outputs": [
    {
     "data": {
      "text/html": [
       "<div>\n",
       "<table border=\"1\" class=\"dataframe\">\n",
       "  <thead>\n",
       "    <tr style=\"text-align: right;\">\n",
       "      <th></th>\n",
       "      <th>enabled</th>\n",
       "      <th>disabled</th>\n",
       "      <th>disabled2</th>\n",
       "      <th>disabled3</th>\n",
       "    </tr>\n",
       "  </thead>\n",
       "  <tbody>\n",
       "    <tr>\n",
       "      <th>0</th>\n",
       "      <td>90.0</td>\n",
       "      <td>102.0</td>\n",
       "      <td>159.0</td>\n",
       "      <td>108.0</td>\n",
       "    </tr>\n",
       "    <tr>\n",
       "      <th>1</th>\n",
       "      <td>4.0</td>\n",
       "      <td>3.0</td>\n",
       "      <td>2.0</td>\n",
       "      <td>3.0</td>\n",
       "    </tr>\n",
       "    <tr>\n",
       "      <th>2</th>\n",
       "      <td>11.0</td>\n",
       "      <td>10.0</td>\n",
       "      <td>3.0</td>\n",
       "      <td>4.0</td>\n",
       "    </tr>\n",
       "    <tr>\n",
       "      <th>3</th>\n",
       "      <td>1.0</td>\n",
       "      <td>10.0</td>\n",
       "      <td>13.0</td>\n",
       "      <td>3.0</td>\n",
       "    </tr>\n",
       "    <tr>\n",
       "      <th>5</th>\n",
       "      <td>10.0</td>\n",
       "      <td>12.0</td>\n",
       "      <td>12.0</td>\n",
       "      <td>9.0</td>\n",
       "    </tr>\n",
       "    <tr>\n",
       "      <th>8</th>\n",
       "      <td>8.0</td>\n",
       "      <td>23.0</td>\n",
       "      <td>14.0</td>\n",
       "      <td>4.0</td>\n",
       "    </tr>\n",
       "    <tr>\n",
       "      <th>12</th>\n",
       "      <td>48.0</td>\n",
       "      <td>75.0</td>\n",
       "      <td>61.0</td>\n",
       "      <td>51.0</td>\n",
       "    </tr>\n",
       "    <tr>\n",
       "      <th>18</th>\n",
       "      <td>65.0</td>\n",
       "      <td>240.0</td>\n",
       "      <td>243.0</td>\n",
       "      <td>228.0</td>\n",
       "    </tr>\n",
       "    <tr>\n",
       "      <th>28</th>\n",
       "      <td>38.0</td>\n",
       "      <td>97.0</td>\n",
       "      <td>91.0</td>\n",
       "      <td>90.0</td>\n",
       "    </tr>\n",
       "    <tr>\n",
       "      <th>43</th>\n",
       "      <td>27.0</td>\n",
       "      <td>57.0</td>\n",
       "      <td>49.0</td>\n",
       "      <td>22.0</td>\n",
       "    </tr>\n",
       "    <tr>\n",
       "      <th>66</th>\n",
       "      <td>63.0</td>\n",
       "      <td>69.0</td>\n",
       "      <td>85.0</td>\n",
       "      <td>86.0</td>\n",
       "    </tr>\n",
       "    <tr>\n",
       "      <th>101</th>\n",
       "      <td>170.0</td>\n",
       "      <td>64.0</td>\n",
       "      <td>83.0</td>\n",
       "      <td>84.0</td>\n",
       "    </tr>\n",
       "    <tr>\n",
       "      <th>155</th>\n",
       "      <td>66.0</td>\n",
       "      <td>25.0</td>\n",
       "      <td>15.0</td>\n",
       "      <td>21.0</td>\n",
       "    </tr>\n",
       "    <tr>\n",
       "      <th>237</th>\n",
       "      <td>44.0</td>\n",
       "      <td>45.0</td>\n",
       "      <td>44.0</td>\n",
       "      <td>37.0</td>\n",
       "    </tr>\n",
       "    <tr>\n",
       "      <th>363</th>\n",
       "      <td>136.0</td>\n",
       "      <td>82.0</td>\n",
       "      <td>102.0</td>\n",
       "      <td>82.0</td>\n",
       "    </tr>\n",
       "    <tr>\n",
       "      <th>556</th>\n",
       "      <td>243.0</td>\n",
       "      <td>192.0</td>\n",
       "      <td>169.0</td>\n",
       "      <td>221.0</td>\n",
       "    </tr>\n",
       "    <tr>\n",
       "      <th>851</th>\n",
       "      <td>241.0</td>\n",
       "      <td>180.0</td>\n",
       "      <td>163.0</td>\n",
       "      <td>156.0</td>\n",
       "    </tr>\n",
       "    <tr>\n",
       "      <th>1303</th>\n",
       "      <td>187.0</td>\n",
       "      <td>92.0</td>\n",
       "      <td>115.0</td>\n",
       "      <td>108.0</td>\n",
       "    </tr>\n",
       "    <tr>\n",
       "      <th>1994</th>\n",
       "      <td>197.0</td>\n",
       "      <td>133.0</td>\n",
       "      <td>207.0</td>\n",
       "      <td>138.0</td>\n",
       "    </tr>\n",
       "    <tr>\n",
       "      <th>3052</th>\n",
       "      <td>296.0</td>\n",
       "      <td>436.0</td>\n",
       "      <td>409.0</td>\n",
       "      <td>221.0</td>\n",
       "    </tr>\n",
       "    <tr>\n",
       "      <th>4672</th>\n",
       "      <td>221.0</td>\n",
       "      <td>263.0</td>\n",
       "      <td>335.0</td>\n",
       "      <td>214.0</td>\n",
       "    </tr>\n",
       "    <tr>\n",
       "      <th>7151</th>\n",
       "      <td>210.0</td>\n",
       "      <td>196.0</td>\n",
       "      <td>234.0</td>\n",
       "      <td>193.0</td>\n",
       "    </tr>\n",
       "    <tr>\n",
       "      <th>10946</th>\n",
       "      <td>187.0</td>\n",
       "      <td>159.0</td>\n",
       "      <td>185.0</td>\n",
       "      <td>163.0</td>\n",
       "    </tr>\n",
       "    <tr>\n",
       "      <th>16754</th>\n",
       "      <td>137.0</td>\n",
       "      <td>108.0</td>\n",
       "      <td>131.0</td>\n",
       "      <td>112.0</td>\n",
       "    </tr>\n",
       "    <tr>\n",
       "      <th>25645</th>\n",
       "      <td>68.0</td>\n",
       "      <td>63.0</td>\n",
       "      <td>36.0</td>\n",
       "      <td>51.0</td>\n",
       "    </tr>\n",
       "    <tr>\n",
       "      <th>39254</th>\n",
       "      <td>22.0</td>\n",
       "      <td>13.0</td>\n",
       "      <td>10.0</td>\n",
       "      <td>10.0</td>\n",
       "    </tr>\n",
       "    <tr>\n",
       "      <th>60084</th>\n",
       "      <td>5.0</td>\n",
       "      <td>3.0</td>\n",
       "      <td>5.0</td>\n",
       "      <td>4.0</td>\n",
       "    </tr>\n",
       "    <tr>\n",
       "      <th>91968</th>\n",
       "      <td>3.0</td>\n",
       "      <td>10.0</td>\n",
       "      <td>2.0</td>\n",
       "      <td>3.0</td>\n",
       "    </tr>\n",
       "    <tr>\n",
       "      <th>140771</th>\n",
       "      <td>0.0</td>\n",
       "      <td>1.0</td>\n",
       "      <td>0.0</td>\n",
       "      <td>2.0</td>\n",
       "    </tr>\n",
       "    <tr>\n",
       "      <th>215471</th>\n",
       "      <td>1.0</td>\n",
       "      <td>3.0</td>\n",
       "      <td>1.0</td>\n",
       "      <td>0.0</td>\n",
       "    </tr>\n",
       "    <tr>\n",
       "      <th>329810</th>\n",
       "      <td>0.0</td>\n",
       "      <td>1.0</td>\n",
       "      <td>0.0</td>\n",
       "      <td>NaN</td>\n",
       "    </tr>\n",
       "  </tbody>\n",
       "</table>\n",
       "</div>"
      ],
      "text/plain": [
       "        enabled  disabled  disabled2  disabled3\n",
       "0          90.0     102.0      159.0      108.0\n",
       "1           4.0       3.0        2.0        3.0\n",
       "2          11.0      10.0        3.0        4.0\n",
       "3           1.0      10.0       13.0        3.0\n",
       "5          10.0      12.0       12.0        9.0\n",
       "8           8.0      23.0       14.0        4.0\n",
       "12         48.0      75.0       61.0       51.0\n",
       "18         65.0     240.0      243.0      228.0\n",
       "28         38.0      97.0       91.0       90.0\n",
       "43         27.0      57.0       49.0       22.0\n",
       "66         63.0      69.0       85.0       86.0\n",
       "101       170.0      64.0       83.0       84.0\n",
       "155        66.0      25.0       15.0       21.0\n",
       "237        44.0      45.0       44.0       37.0\n",
       "363       136.0      82.0      102.0       82.0\n",
       "556       243.0     192.0      169.0      221.0\n",
       "851       241.0     180.0      163.0      156.0\n",
       "1303      187.0      92.0      115.0      108.0\n",
       "1994      197.0     133.0      207.0      138.0\n",
       "3052      296.0     436.0      409.0      221.0\n",
       "4672      221.0     263.0      335.0      214.0\n",
       "7151      210.0     196.0      234.0      193.0\n",
       "10946     187.0     159.0      185.0      163.0\n",
       "16754     137.0     108.0      131.0      112.0\n",
       "25645      68.0      63.0       36.0       51.0\n",
       "39254      22.0      13.0       10.0       10.0\n",
       "60084       5.0       3.0        5.0        4.0\n",
       "91968       3.0      10.0        2.0        3.0\n",
       "140771      0.0       1.0        0.0        2.0\n",
       "215471      1.0       3.0        1.0        0.0\n",
       "329810      0.0       1.0        0.0        NaN"
      ]
     },
     "execution_count": 184,
     "metadata": {},
     "output_type": "execute_result"
    },
    {
     "data": {
      "image/png": "[encoded data removed]",
      "text/plain": [
       "<matplotlib.figure.Figure at 0x7fbf0bfa25d0>"
      ]
     },
     "metadata": {},
     "output_type": "display_data"
    }
   ],
   "source": [
    "df = pd.DataFrame()\n",
    "df['enabled'] = check_aggregated_enabled\n",
    "df['disabled'] = check_aggregated_disabled\n",
    "df['disabled2'] = check_aggregated_disabled2\n",
    "df['disabled3'] = check_aggregated_disabled3\n",
    "\n",
    "#(percent_enabled - percent_disabled).plot(kind='bar', figsize=(15, 7))\n",
    "df.cumsum().plot(kind='bar', figsize=(15, 7))\n",
    "df\n",
    "\n",
    "#df"
   ]
  },
  {
   "cell_type": "code",
   "execution_count": 117,
   "metadata": {},
   "outputs": [
    {
     "ename": "Py4JJavaError",
     "evalue": "An error occurred while calling z:org.apache.spark.api.python.PythonRDD.runJob.\n: org.apache.spark.SparkException: Job aborted due to stage failure: Task 15 in stage 257.0 failed 4 times, most recent failure: Lost task 15.3 in stage 257.0 (TID 3764, ip-172-31-3-114.us-west-2.compute.internal, executor 2): org.apache.spark.api.python.PythonException: Traceback (most recent call last):\n  File \"/usr/lib/spark/python/pyspark/worker.py\", line 177, in main\n    process()\n  File \"/usr/lib/spark/python/pyspark/worker.py\", line 172, in process\n    serializer.dump_stream(func(split_index, iterator), outfile)\n  File \"/usr/lib/spark/python/pyspark/rdd.py\", line 2423, in pipeline_func\n    return func(split, prev_func(split, iterator))\n  File \"/usr/lib/spark/python/pyspark/rdd.py\", line 2423, in pipeline_func\n    return func(split, prev_func(split, iterator))\n  File \"/usr/lib/spark/python/pyspark/rdd.py\", line 346, in func\n    return f(iterator)\n  File \"/usr/lib/spark/python/pyspark/rdd.py\", line 1842, in combineLocally\n    merger.mergeValues(iterator)\n  File \"/usr/lib/spark/python/pyspark/shuffle.py\", line 236, in mergeValues\n    for k, v in iterator:\n  File \"<ipython-input-117-6b9aeb4be8a3>\", line 18, in explode_user_agg\nNameError: global name 'histograms' is not defined\n\n\tat org.apache.spark.api.python.PythonRunner$$anon$1.read(PythonRDD.scala:193)\n\tat org.apache.spark.api.python.PythonRunner$$anon$1.<init>(PythonRDD.scala:234)\n\tat org.apache.spark.api.python.PythonRunner.compute(PythonRDD.scala:152)\n\tat org.apache.spark.api.python.PythonRDD.compute(PythonRDD.scala:63)\n\tat org.apache.spark.rdd.RDD.computeOrReadCheckpoint(RDD.scala:323)\n\tat org.apache.spark.rdd.RDD.iterator(RDD.scala:287)\n\tat org.apache.spark.api.python.PairwiseRDD.compute(PythonRDD.scala:404)\n\tat org.apache.spark.rdd.RDD.computeOrReadCheckpoint(RDD.scala:323)\n\tat org.apache.spark.rdd.RDD.iterator(RDD.scala:287)\n\tat org.apache.spark.scheduler.ShuffleMapTask.runTask(ShuffleMapTask.scala:96)\n\tat org.apache.spark.scheduler.ShuffleMapTask.runTask(ShuffleMapTask.scala:53)\n\tat org.apache.spark.scheduler.Task.run(Task.scala:108)\n\tat org.apache.spark.executor.Executor$TaskRunner.run(Executor.scala:338)\n\tat java.util.concurrent.ThreadPoolExecutor.runWorker(ThreadPoolExecutor.java:1149)\n\tat java.util.concurrent.ThreadPoolExecutor$Worker.run(ThreadPoolExecutor.java:624)\n\tat java.lang.Thread.run(Thread.java:748)\n\nDriver stacktrace:\n\tat org.apache.spark.scheduler.DAGScheduler.org$apache$spark$scheduler$DAGScheduler$$failJobAndIndependentStages(DAGScheduler.scala:1708)\n\tat org.apache.spark.scheduler.DAGScheduler$$anonfun$abortStage$1.apply(DAGScheduler.scala:1696)\n\tat org.apache.spark.scheduler.DAGScheduler$$anonfun$abortStage$1.apply(DAGScheduler.scala:1695)\n\tat scala.collection.mutable.ResizableArray$class.foreach(ResizableArray.scala:59)\n\tat scala.collection.mutable.ArrayBuffer.foreach(ArrayBuffer.scala:48)\n\tat org.apache.spark.scheduler.DAGScheduler.abortStage(DAGScheduler.scala:1695)\n\tat org.apache.spark.scheduler.DAGScheduler$$anonfun$handleTaskSetFailed$1.apply(DAGScheduler.scala:855)\n\tat org.apache.spark.scheduler.DAGScheduler$$anonfun$handleTaskSetFailed$1.apply(DAGScheduler.scala:855)\n\tat scala.Option.foreach(Option.scala:257)\n\tat org.apache.spark.scheduler.DAGScheduler.handleTaskSetFailed(DAGScheduler.scala:855)\n\tat org.apache.spark.scheduler.DAGSchedulerEventProcessLoop.doOnReceive(DAGScheduler.scala:1923)\n\tat org.apache.spark.scheduler.DAGSchedulerEventProcessLoop.onReceive(DAGScheduler.scala:1878)\n\tat org.apache.spark.scheduler.DAGSchedulerEventProcessLoop.onReceive(DAGScheduler.scala:1867)\n\tat org.apache.spark.util.EventLoop$$anon$1.run(EventLoop.scala:48)\n\tat org.apache.spark.scheduler.DAGScheduler.runJob(DAGScheduler.scala:671)\n\tat org.apache.spark.SparkContext.runJob(SparkContext.scala:2029)\n\tat org.apache.spark.SparkContext.runJob(SparkContext.scala:2050)\n\tat org.apache.spark.SparkContext.runJob(SparkContext.scala:2069)\n\tat org.apache.spark.api.python.PythonRDD$.runJob(PythonRDD.scala:455)\n\tat org.apache.spark.api.python.PythonRDD.runJob(PythonRDD.scala)\n\tat sun.reflect.GeneratedMethodAccessor82.invoke(Unknown Source)\n\tat sun.reflect.DelegatingMethodAccessorImpl.invoke(DelegatingMethodAccessorImpl.java:43)\n\tat java.lang.reflect.Method.invoke(Method.java:498)\n\tat py4j.reflection.MethodInvoker.invoke(MethodInvoker.java:244)\n\tat py4j.reflection.ReflectionEngine.invoke(ReflectionEngine.java:357)\n\tat py4j.Gateway.invoke(Gateway.java:280)\n\tat py4j.commands.AbstractCommand.invokeMethod(AbstractCommand.java:132)\n\tat py4j.commands.CallCommand.execute(CallCommand.java:79)\n\tat py4j.GatewayConnection.run(GatewayConnection.java:214)\n\tat java.lang.Thread.run(Thread.java:748)\nCaused by: org.apache.spark.api.python.PythonException: Traceback (most recent call last):\n  File \"/usr/lib/spark/python/pyspark/worker.py\", line 177, in main\n    process()\n  File \"/usr/lib/spark/python/pyspark/worker.py\", line 172, in process\n    serializer.dump_stream(func(split_index, iterator), outfile)\n  File \"/usr/lib/spark/python/pyspark/rdd.py\", line 2423, in pipeline_func\n    return func(split, prev_func(split, iterator))\n  File \"/usr/lib/spark/python/pyspark/rdd.py\", line 2423, in pipeline_func\n    return func(split, prev_func(split, iterator))\n  File \"/usr/lib/spark/python/pyspark/rdd.py\", line 346, in func\n    return f(iterator)\n  File \"/usr/lib/spark/python/pyspark/rdd.py\", line 1842, in combineLocally\n    merger.mergeValues(iterator)\n  File \"/usr/lib/spark/python/pyspark/shuffle.py\", line 236, in mergeValues\n    for k, v in iterator:\n  File \"<ipython-input-117-6b9aeb4be8a3>\", line 18, in explode_user_agg\nNameError: global name 'histograms' is not defined\n\n\tat org.apache.spark.api.python.PythonRunner$$anon$1.read(PythonRDD.scala:193)\n\tat org.apache.spark.api.python.PythonRunner$$anon$1.<init>(PythonRDD.scala:234)\n\tat org.apache.spark.api.python.PythonRunner.compute(PythonRDD.scala:152)\n\tat org.apache.spark.api.python.PythonRDD.compute(PythonRDD.scala:63)\n\tat org.apache.spark.rdd.RDD.computeOrReadCheckpoint(RDD.scala:323)\n\tat org.apache.spark.rdd.RDD.iterator(RDD.scala:287)\n\tat org.apache.spark.api.python.PairwiseRDD.compute(PythonRDD.scala:404)\n\tat org.apache.spark.rdd.RDD.computeOrReadCheckpoint(RDD.scala:323)\n\tat org.apache.spark.rdd.RDD.iterator(RDD.scala:287)\n\tat org.apache.spark.scheduler.ShuffleMapTask.runTask(ShuffleMapTask.scala:96)\n\tat org.apache.spark.scheduler.ShuffleMapTask.runTask(ShuffleMapTask.scala:53)\n\tat org.apache.spark.scheduler.Task.run(Task.scala:108)\n\tat org.apache.spark.executor.Executor$TaskRunner.run(Executor.scala:338)\n\tat java.util.concurrent.ThreadPoolExecutor.runWorker(ThreadPoolExecutor.java:1149)\n\tat java.util.concurrent.ThreadPoolExecutor$Worker.run(ThreadPoolExecutor.java:624)\n\t... 1 more\n",
     "output_type": "error",
     "traceback": [
      "\u001b[0;31m\u001b[0m",
      "\u001b[0;31mPy4JJavaError\u001b[0mTraceback (most recent call last)",
      "\u001b[0;32m<ipython-input-117-6b9aeb4be8a3>\u001b[0m in \u001b[0;36m<module>\u001b[0;34m()\u001b[0m\n\u001b[1;32m     49\u001b[0m   \u001b[0;34m.\u001b[0m\u001b[0mmap\u001b[0m\u001b[0;34m(\u001b[0m\u001b[0mdeaggregate\u001b[0m\u001b[0;34m)\u001b[0m\u001b[0;34m\u001b[0m\u001b[0m\n\u001b[1;32m     50\u001b[0m )\n\u001b[0;32m---> 51\u001b[0;31m \u001b[0mper_user_key\u001b[0m\u001b[0;34m.\u001b[0m\u001b[0mtake\u001b[0m\u001b[0;34m(\u001b[0m\u001b[0;36m1\u001b[0m\u001b[0;34m)\u001b[0m\u001b[0;34m\u001b[0m\u001b[0m\n\u001b[0m",
      "\u001b[0;32m/usr/lib/spark/python/pyspark/rdd.py\u001b[0m in \u001b[0;36mtake\u001b[0;34m(self, num)\u001b[0m\n\u001b[1;32m   1341\u001b[0m \u001b[0;34m\u001b[0m\u001b[0m\n\u001b[1;32m   1342\u001b[0m             \u001b[0mp\u001b[0m \u001b[0;34m=\u001b[0m \u001b[0mrange\u001b[0m\u001b[0;34m(\u001b[0m\u001b[0mpartsScanned\u001b[0m\u001b[0;34m,\u001b[0m \u001b[0mmin\u001b[0m\u001b[0;34m(\u001b[0m\u001b[0mpartsScanned\u001b[0m \u001b[0;34m+\u001b[0m \u001b[0mnumPartsToTry\u001b[0m\u001b[0;34m,\u001b[0m \u001b[0mtotalParts\u001b[0m\u001b[0;34m)\u001b[0m\u001b[0;34m)\u001b[0m\u001b[0;34m\u001b[0m\u001b[0m\n\u001b[0;32m-> 1343\u001b[0;31m             \u001b[0mres\u001b[0m \u001b[0;34m=\u001b[0m \u001b[0mself\u001b[0m\u001b[0;34m.\u001b[0m\u001b[0mcontext\u001b[0m\u001b[0;34m.\u001b[0m\u001b[0mrunJob\u001b[0m\u001b[0;34m(\u001b[0m\u001b[0mself\u001b[0m\u001b[0;34m,\u001b[0m \u001b[0mtakeUpToNumLeft\u001b[0m\u001b[0;34m,\u001b[0m \u001b[0mp\u001b[0m\u001b[0;34m)\u001b[0m\u001b[0;34m\u001b[0m\u001b[0m\n\u001b[0m\u001b[1;32m   1344\u001b[0m \u001b[0;34m\u001b[0m\u001b[0m\n\u001b[1;32m   1345\u001b[0m             \u001b[0mitems\u001b[0m \u001b[0;34m+=\u001b[0m \u001b[0mres\u001b[0m\u001b[0;34m\u001b[0m\u001b[0m\n",
      "\u001b[0;32m/usr/lib/spark/python/pyspark/context.py\u001b[0m in \u001b[0;36mrunJob\u001b[0;34m(self, rdd, partitionFunc, partitions, allowLocal)\u001b[0m\n\u001b[1;32m    990\u001b[0m         \u001b[0;31m# SparkContext#runJob.\u001b[0m\u001b[0;34m\u001b[0m\u001b[0;34m\u001b[0m\u001b[0m\n\u001b[1;32m    991\u001b[0m         \u001b[0mmappedRDD\u001b[0m \u001b[0;34m=\u001b[0m \u001b[0mrdd\u001b[0m\u001b[0;34m.\u001b[0m\u001b[0mmapPartitions\u001b[0m\u001b[0;34m(\u001b[0m\u001b[0mpartitionFunc\u001b[0m\u001b[0;34m)\u001b[0m\u001b[0;34m\u001b[0m\u001b[0m\n\u001b[0;32m--> 992\u001b[0;31m         \u001b[0mport\u001b[0m \u001b[0;34m=\u001b[0m \u001b[0mself\u001b[0m\u001b[0;34m.\u001b[0m\u001b[0m_jvm\u001b[0m\u001b[0;34m.\u001b[0m\u001b[0mPythonRDD\u001b[0m\u001b[0;34m.\u001b[0m\u001b[0mrunJob\u001b[0m\u001b[0;34m(\u001b[0m\u001b[0mself\u001b[0m\u001b[0;34m.\u001b[0m\u001b[0m_jsc\u001b[0m\u001b[0;34m.\u001b[0m\u001b[0msc\u001b[0m\u001b[0;34m(\u001b[0m\u001b[0;34m)\u001b[0m\u001b[0;34m,\u001b[0m \u001b[0mmappedRDD\u001b[0m\u001b[0;34m.\u001b[0m\u001b[0m_jrdd\u001b[0m\u001b[0;34m,\u001b[0m \u001b[0mpartitions\u001b[0m\u001b[0;34m)\u001b[0m\u001b[0;34m\u001b[0m\u001b[0m\n\u001b[0m\u001b[1;32m    993\u001b[0m         \u001b[0;32mreturn\u001b[0m \u001b[0mlist\u001b[0m\u001b[0;34m(\u001b[0m\u001b[0m_load_from_socket\u001b[0m\u001b[0;34m(\u001b[0m\u001b[0mport\u001b[0m\u001b[0;34m,\u001b[0m \u001b[0mmappedRDD\u001b[0m\u001b[0;34m.\u001b[0m\u001b[0m_jrdd_deserializer\u001b[0m\u001b[0;34m)\u001b[0m\u001b[0;34m)\u001b[0m\u001b[0;34m\u001b[0m\u001b[0m\n\u001b[1;32m    994\u001b[0m \u001b[0;34m\u001b[0m\u001b[0m\n",
      "\u001b[0;32m/usr/lib/spark/python/lib/py4j-0.10.4-src.zip/py4j/java_gateway.py\u001b[0m in \u001b[0;36m__call__\u001b[0;34m(self, *args)\u001b[0m\n\u001b[1;32m   1131\u001b[0m         \u001b[0manswer\u001b[0m \u001b[0;34m=\u001b[0m \u001b[0mself\u001b[0m\u001b[0;34m.\u001b[0m\u001b[0mgateway_client\u001b[0m\u001b[0;34m.\u001b[0m\u001b[0msend_command\u001b[0m\u001b[0;34m(\u001b[0m\u001b[0mcommand\u001b[0m\u001b[0;34m)\u001b[0m\u001b[0;34m\u001b[0m\u001b[0m\n\u001b[1;32m   1132\u001b[0m         return_value = get_return_value(\n\u001b[0;32m-> 1133\u001b[0;31m             answer, self.gateway_client, self.target_id, self.name)\n\u001b[0m\u001b[1;32m   1134\u001b[0m \u001b[0;34m\u001b[0m\u001b[0m\n\u001b[1;32m   1135\u001b[0m         \u001b[0;32mfor\u001b[0m \u001b[0mtemp_arg\u001b[0m \u001b[0;32min\u001b[0m \u001b[0mtemp_args\u001b[0m\u001b[0;34m:\u001b[0m\u001b[0;34m\u001b[0m\u001b[0m\n",
      "\u001b[0;32m/usr/lib/spark/python/pyspark/sql/utils.py\u001b[0m in \u001b[0;36mdeco\u001b[0;34m(*a, **kw)\u001b[0m\n\u001b[1;32m     61\u001b[0m     \u001b[0;32mdef\u001b[0m \u001b[0mdeco\u001b[0m\u001b[0;34m(\u001b[0m\u001b[0;34m*\u001b[0m\u001b[0ma\u001b[0m\u001b[0;34m,\u001b[0m \u001b[0;34m**\u001b[0m\u001b[0mkw\u001b[0m\u001b[0;34m)\u001b[0m\u001b[0;34m:\u001b[0m\u001b[0;34m\u001b[0m\u001b[0m\n\u001b[1;32m     62\u001b[0m         \u001b[0;32mtry\u001b[0m\u001b[0;34m:\u001b[0m\u001b[0;34m\u001b[0m\u001b[0m\n\u001b[0;32m---> 63\u001b[0;31m             \u001b[0;32mreturn\u001b[0m \u001b[0mf\u001b[0m\u001b[0;34m(\u001b[0m\u001b[0;34m*\u001b[0m\u001b[0ma\u001b[0m\u001b[0;34m,\u001b[0m \u001b[0;34m**\u001b[0m\u001b[0mkw\u001b[0m\u001b[0;34m)\u001b[0m\u001b[0;34m\u001b[0m\u001b[0m\n\u001b[0m\u001b[1;32m     64\u001b[0m         \u001b[0;32mexcept\u001b[0m \u001b[0mpy4j\u001b[0m\u001b[0;34m.\u001b[0m\u001b[0mprotocol\u001b[0m\u001b[0;34m.\u001b[0m\u001b[0mPy4JJavaError\u001b[0m \u001b[0;32mas\u001b[0m \u001b[0me\u001b[0m\u001b[0;34m:\u001b[0m\u001b[0;34m\u001b[0m\u001b[0m\n\u001b[1;32m     65\u001b[0m             \u001b[0ms\u001b[0m \u001b[0;34m=\u001b[0m \u001b[0me\u001b[0m\u001b[0;34m.\u001b[0m\u001b[0mjava_exception\u001b[0m\u001b[0;34m.\u001b[0m\u001b[0mtoString\u001b[0m\u001b[0;34m(\u001b[0m\u001b[0;34m)\u001b[0m\u001b[0;34m\u001b[0m\u001b[0m\n",
      "\u001b[0;32m/usr/lib/spark/python/lib/py4j-0.10.4-src.zip/py4j/protocol.py\u001b[0m in \u001b[0;36mget_return_value\u001b[0;34m(answer, gateway_client, target_id, name)\u001b[0m\n\u001b[1;32m    317\u001b[0m                 raise Py4JJavaError(\n\u001b[1;32m    318\u001b[0m                     \u001b[0;34m\"An error occurred while calling {0}{1}{2}.\\n\"\u001b[0m\u001b[0;34m.\u001b[0m\u001b[0;34m\u001b[0m\u001b[0m\n\u001b[0;32m--> 319\u001b[0;31m                     format(target_id, \".\", name), value)\n\u001b[0m\u001b[1;32m    320\u001b[0m             \u001b[0;32melse\u001b[0m\u001b[0;34m:\u001b[0m\u001b[0;34m\u001b[0m\u001b[0m\n\u001b[1;32m    321\u001b[0m                 raise Py4JError(\n",
      "\u001b[0;31mPy4JJavaError\u001b[0m: An error occurred while calling z:org.apache.spark.api.python.PythonRDD.runJob.\n: org.apache.spark.SparkException: Job aborted due to stage failure: Task 15 in stage 257.0 failed 4 times, most recent failure: Lost task 15.3 in stage 257.0 (TID 3764, ip-172-31-3-114.us-west-2.compute.internal, executor 2): org.apache.spark.api.python.PythonException: Traceback (most recent call last):\n  File \"/usr/lib/spark/python/pyspark/worker.py\", line 177, in main\n    process()\n  File \"/usr/lib/spark/python/pyspark/worker.py\", line 172, in process\n    serializer.dump_stream(func(split_index, iterator), outfile)\n  File \"/usr/lib/spark/python/pyspark/rdd.py\", line 2423, in pipeline_func\n    return func(split, prev_func(split, iterator))\n  File \"/usr/lib/spark/python/pyspark/rdd.py\", line 2423, in pipeline_func\n    return func(split, prev_func(split, iterator))\n  File \"/usr/lib/spark/python/pyspark/rdd.py\", line 346, in func\n    return f(iterator)\n  File \"/usr/lib/spark/python/pyspark/rdd.py\", line 1842, in combineLocally\n    merger.mergeValues(iterator)\n  File \"/usr/lib/spark/python/pyspark/shuffle.py\", line 236, in mergeValues\n    for k, v in iterator:\n  File \"<ipython-input-117-6b9aeb4be8a3>\", line 18, in explode_user_agg\nNameError: global name 'histograms' is not defined\n\n\tat org.apache.spark.api.python.PythonRunner$$anon$1.read(PythonRDD.scala:193)\n\tat org.apache.spark.api.python.PythonRunner$$anon$1.<init>(PythonRDD.scala:234)\n\tat org.apache.spark.api.python.PythonRunner.compute(PythonRDD.scala:152)\n\tat org.apache.spark.api.python.PythonRDD.compute(PythonRDD.scala:63)\n\tat org.apache.spark.rdd.RDD.computeOrReadCheckpoint(RDD.scala:323)\n\tat org.apache.spark.rdd.RDD.iterator(RDD.scala:287)\n\tat org.apache.spark.api.python.PairwiseRDD.compute(PythonRDD.scala:404)\n\tat org.apache.spark.rdd.RDD.computeOrReadCheckpoint(RDD.scala:323)\n\tat org.apache.spark.rdd.RDD.iterator(RDD.scala:287)\n\tat org.apache.spark.scheduler.ShuffleMapTask.runTask(ShuffleMapTask.scala:96)\n\tat org.apache.spark.scheduler.ShuffleMapTask.runTask(ShuffleMapTask.scala:53)\n\tat org.apache.spark.scheduler.Task.run(Task.scala:108)\n\tat org.apache.spark.executor.Executor$TaskRunner.run(Executor.scala:338)\n\tat java.util.concurrent.ThreadPoolExecutor.runWorker(ThreadPoolExecutor.java:1149)\n\tat java.util.concurrent.ThreadPoolExecutor$Worker.run(ThreadPoolExecutor.java:624)\n\tat java.lang.Thread.run(Thread.java:748)\n\nDriver stacktrace:\n\tat org.apache.spark.scheduler.DAGScheduler.org$apache$spark$scheduler$DAGScheduler$$failJobAndIndependentStages(DAGScheduler.scala:1708)\n\tat org.apache.spark.scheduler.DAGScheduler$$anonfun$abortStage$1.apply(DAGScheduler.scala:1696)\n\tat org.apache.spark.scheduler.DAGScheduler$$anonfun$abortStage$1.apply(DAGScheduler.scala:1695)\n\tat scala.collection.mutable.ResizableArray$class.foreach(ResizableArray.scala:59)\n\tat scala.collection.mutable.ArrayBuffer.foreach(ArrayBuffer.scala:48)\n\tat org.apache.spark.scheduler.DAGScheduler.abortStage(DAGScheduler.scala:1695)\n\tat org.apache.spark.scheduler.DAGScheduler$$anonfun$handleTaskSetFailed$1.apply(DAGScheduler.scala:855)\n\tat org.apache.spark.scheduler.DAGScheduler$$anonfun$handleTaskSetFailed$1.apply(DAGScheduler.scala:855)\n\tat scala.Option.foreach(Option.scala:257)\n\tat org.apache.spark.scheduler.DAGScheduler.handleTaskSetFailed(DAGScheduler.scala:855)\n\tat org.apache.spark.scheduler.DAGSchedulerEventProcessLoop.doOnReceive(DAGScheduler.scala:1923)\n\tat org.apache.spark.scheduler.DAGSchedulerEventProcessLoop.onReceive(DAGScheduler.scala:1878)\n\tat org.apache.spark.scheduler.DAGSchedulerEventProcessLoop.onReceive(DAGScheduler.scala:1867)\n\tat org.apache.spark.util.EventLoop$$anon$1.run(EventLoop.scala:48)\n\tat org.apache.spark.scheduler.DAGScheduler.runJob(DAGScheduler.scala:671)\n\tat org.apache.spark.SparkContext.runJob(SparkContext.scala:2029)\n\tat org.apache.spark.SparkContext.runJob(SparkContext.scala:2050)\n\tat org.apache.spark.SparkContext.runJob(SparkContext.scala:2069)\n\tat org.apache.spark.api.python.PythonRDD$.runJob(PythonRDD.scala:455)\n\tat org.apache.spark.api.python.PythonRDD.runJob(PythonRDD.scala)\n\tat sun.reflect.GeneratedMethodAccessor82.invoke(Unknown Source)\n\tat sun.reflect.DelegatingMethodAccessorImpl.invoke(DelegatingMethodAccessorImpl.java:43)\n\tat java.lang.reflect.Method.invoke(Method.java:498)\n\tat py4j.reflection.MethodInvoker.invoke(MethodInvoker.java:244)\n\tat py4j.reflection.ReflectionEngine.invoke(ReflectionEngine.java:357)\n\tat py4j.Gateway.invoke(Gateway.java:280)\n\tat py4j.commands.AbstractCommand.invokeMethod(AbstractCommand.java:132)\n\tat py4j.commands.CallCommand.execute(CallCommand.java:79)\n\tat py4j.GatewayConnection.run(GatewayConnection.java:214)\n\tat java.lang.Thread.run(Thread.java:748)\nCaused by: org.apache.spark.api.python.PythonException: Traceback (most recent call last):\n  File \"/usr/lib/spark/python/pyspark/worker.py\", line 177, in main\n    process()\n  File \"/usr/lib/spark/python/pyspark/worker.py\", line 172, in process\n    serializer.dump_stream(func(split_index, iterator), outfile)\n  File \"/usr/lib/spark/python/pyspark/rdd.py\", line 2423, in pipeline_func\n    return func(split, prev_func(split, iterator))\n  File \"/usr/lib/spark/python/pyspark/rdd.py\", line 2423, in pipeline_func\n    return func(split, prev_func(split, iterator))\n  File \"/usr/lib/spark/python/pyspark/rdd.py\", line 346, in func\n    return f(iterator)\n  File \"/usr/lib/spark/python/pyspark/rdd.py\", line 1842, in combineLocally\n    merger.mergeValues(iterator)\n  File \"/usr/lib/spark/python/pyspark/shuffle.py\", line 236, in mergeValues\n    for k, v in iterator:\n  File \"<ipython-input-117-6b9aeb4be8a3>\", line 18, in explode_user_agg\nNameError: global name 'histograms' is not defined\n\n\tat org.apache.spark.api.python.PythonRunner$$anon$1.read(PythonRDD.scala:193)\n\tat org.apache.spark.api.python.PythonRunner$$anon$1.<init>(PythonRDD.scala:234)\n\tat org.apache.spark.api.python.PythonRunner.compute(PythonRDD.scala:152)\n\tat org.apache.spark.api.python.PythonRDD.compute(PythonRDD.scala:63)\n\tat org.apache.spark.rdd.RDD.computeOrReadCheckpoint(RDD.scala:323)\n\tat org.apache.spark.rdd.RDD.iterator(RDD.scala:287)\n\tat org.apache.spark.api.python.PairwiseRDD.compute(PythonRDD.scala:404)\n\tat org.apache.spark.rdd.RDD.computeOrReadCheckpoint(RDD.scala:323)\n\tat org.apache.spark.rdd.RDD.iterator(RDD.scala:287)\n\tat org.apache.spark.scheduler.ShuffleMapTask.runTask(ShuffleMapTask.scala:96)\n\tat org.apache.spark.scheduler.ShuffleMapTask.runTask(ShuffleMapTask.scala:53)\n\tat org.apache.spark.scheduler.Task.run(Task.scala:108)\n\tat org.apache.spark.executor.Executor$TaskRunner.run(Executor.scala:338)\n\tat java.util.concurrent.ThreadPoolExecutor.runWorker(ThreadPoolExecutor.java:1149)\n\tat java.util.concurrent.ThreadPoolExecutor$Worker.run(ThreadPoolExecutor.java:624)\n\t... 1 more\n"
     ]
    }
   ],
   "source": [
    "def add_pair(x, y):\n",
    "  if x[0] is None and y[0] is None:\n",
    "    return (None, x[1]+y[1])\n",
    "  return (x[0]+y[0], x[1]+y[1])\n",
    "\n",
    "preserve = [\"client_id\", \"branch\", \"compositor\", \"wrQualified\", \"wrStatus\"]\n",
    "\n",
    "def explode_user_agg(x):\n",
    "  \"\"\"Explodes our selected histograms from each ping into key-value pairs like\n",
    "  [(client_id, probe_name), (sum_values, n_values)].\n",
    "  \n",
    "  For distributions, sum and n are meaningful. For counts, sum_values is 0 or None.\n",
    "  \"\"\"\n",
    "  def key_for_label(label):\n",
    "    return tuple([x[i] for i in preserve] + [label])\n",
    "  \n",
    "  rows = []\n",
    "  for label, procs, method in histograms:\n",
    "    key = key_for_label(label)\n",
    "    value = (0, 0)\n",
    "    for proc in procs:\n",
    "      v_sum = x[\"{}/{}/{}\".format(label, proc, \"sum\")] or 0\n",
    "      # count the number of recorded events\n",
    "      v_values = sum((x[\"{}/{}/{}\".format(label, proc, \"values\")] or {0: 0}).values())\n",
    "      value = add_pair(value, (v_sum, v_values))\n",
    "    rows.append([key, value])\n",
    "  \n",
    "  for label, procs, method in keyedHistograms:\n",
    "    key = key_for_label(label)\n",
    "    for proc in procs:\n",
    "      probe = x[\"{}/{}\".format(label, proc)]\n",
    "      if not probe:\n",
    "        continue\n",
    "      first_key = list(probe.values())[0]\n",
    "      n_events = sum(first_key[\"values\"].values())\n",
    "      rows.append([key, (None, n_events)])\n",
    "\n",
    "  return rows\n",
    "\n",
    "def deaggregate(x):\n",
    "  fields = {k: v for k, v in zip(preserve + [\"probe\"], x[0])}\n",
    "  fields[\"sum_values\"], fields[\"n_values\"] = x[1]\n",
    "  return Row(**fields)\n",
    "\n",
    "per_user_key = (\n",
    "  wrDisabled\n",
    "  .flatMap(explode_user_agg)\n",
    "  .reduceByKey(add_pair)\n",
    "  .map(deaggregate)\n",
    ")\n",
    "per_user_key.take(1)"
   ]
  },
  {
   "cell_type": "code",
   "execution_count": 115,
   "metadata": {},
   "outputs": [
    {
     "data": {
      "text/plain": [
       "[{'adapter': {u'GPUActive': True,\n",
       "   u'RAM': 2048,\n",
       "   u'description': u'NVIDIA GeForce GTX 660',\n",
       "   u'deviceID': u'0x11c0',\n",
       "   u'driver': u'C:\\\\WINDOWS\\\\System32\\\\DriverStore\\\\FileRepository\\\\nv_dispi.inf_amd64_38c9bee769f9ef1f\\\\nvldumdx.dll,C:\\\\WINDOWS\\\\System32\\\\DriverStore\\\\FileRepository\\\\nv_dispi.inf_amd64_38c9bee769f9ef1f\\\\nvldumdx.dll,C:\\\\WINDOWS\\\\System32\\\\DriverStore\\\\FileRepository\\\\nv_dispi.inf_amd64_38c9bee769f9ef1f\\\\nvldumdx.dll,C:\\\\WINDOWS\\\\System32\\\\DriverStore\\\\FileRepository\\\\nv_dispi.inf_amd64_38c9bee769f9ef1f\\\\nvldumdx.dll C:\\\\WINDOWS\\\\System32\\\\DriverStore\\\\FileRepository\\\\nv_dispi.inf_amd64_38c9bee769f9ef1f\\\\nvldumd.dll,C:\\\\WINDOWS\\\\System32\\\\DriverStore\\\\FileRepository\\\\nv_dispi.inf_amd64_38c9bee769f9ef1f\\\\nvldumd.dll,C:\\\\WINDOWS\\\\System32\\\\DriverStore\\\\FileRepository\\\\nv_dispi.inf_amd64_38c9bee769f9ef1f\\\\nvldumd.dll,C:\\\\WINDOWS\\\\System32\\\\DriverStore\\\\FileRepository\\\\nv_dispi.inf_amd64_38c9bee769f9ef1f\\\\nvldumd.dll',\n",
       "   u'driverDate': u'5-7-2018',\n",
       "   u'driverVersion': u'24.21.13.9764',\n",
       "   u'subsysID': u'354e1458',\n",
       "   u'vendorID': u'0x10de'},\n",
       "  'buildId': u'20180802100128',\n",
       "  'checkerboardin': None,\n",
       "  'clientId': u'49465b34-1fd4-468d-af82-50fc272deb47',\n",
       "  'content_paint': {u'0': 14,\n",
       "   u'1': 410,\n",
       "   u'10': 6,\n",
       "   u'11': 3,\n",
       "   u'12': 1,\n",
       "   u'14': 3,\n",
       "   u'16': 2,\n",
       "   u'2': 265,\n",
       "   u'23': 1,\n",
       "   u'26': 1,\n",
       "   u'29': 1,\n",
       "   u'3': 132,\n",
       "   u'33': 0,\n",
       "   u'4': 27,\n",
       "   u'5': 36,\n",
       "   u'6': 19,\n",
       "   u'7': 5,\n",
       "   u'8': 5,\n",
       "   u'9': 5},\n",
       "  'experiments': {u'prefflip-webrender-v1-1-1474484': {u'branch': u'control',\n",
       "    u'type': u'normandy-exp'}},\n",
       "  'frame_time': {u'103': 136,\n",
       "   u'1059': 1,\n",
       "   u'11': 4,\n",
       "   u'120': 10,\n",
       "   u'1237': 0,\n",
       "   u'13': 5,\n",
       "   u'140': 1,\n",
       "   u'15': 20,\n",
       "   u'164': 6,\n",
       "   u'18': 21,\n",
       "   u'192': 2,\n",
       "   u'21': 9,\n",
       "   u'25': 7,\n",
       "   u'262': 3,\n",
       "   u'29': 8,\n",
       "   u'34': 17,\n",
       "   u'357': 1,\n",
       "   u'40': 24,\n",
       "   u'47': 12,\n",
       "   u'55': 6,\n",
       "   u'64': 10,\n",
       "   u'75': 55,\n",
       "   u'777': 1,\n",
       "   u'8': 0,\n",
       "   u'88': 555,\n",
       "   u'9': 3},\n",
       "  'gfx': {u'ContentBackend': u'Skia',\n",
       "   u'D2DEnabled': True,\n",
       "   u'DWriteEnabled': True,\n",
       "   u'adapters': [{u'GPUActive': True,\n",
       "     u'RAM': 2048,\n",
       "     u'description': u'NVIDIA GeForce GTX 660',\n",
       "     u'deviceID': u'0x11c0',\n",
       "     u'driver': u'C:\\\\WINDOWS\\\\System32\\\\DriverStore\\\\FileRepository\\\\nv_dispi.inf_amd64_38c9bee769f9ef1f\\\\nvldumdx.dll,C:\\\\WINDOWS\\\\System32\\\\DriverStore\\\\FileRepository\\\\nv_dispi.inf_amd64_38c9bee769f9ef1f\\\\nvldumdx.dll,C:\\\\WINDOWS\\\\System32\\\\DriverStore\\\\FileRepository\\\\nv_dispi.inf_amd64_38c9bee769f9ef1f\\\\nvldumdx.dll,C:\\\\WINDOWS\\\\System32\\\\DriverStore\\\\FileRepository\\\\nv_dispi.inf_amd64_38c9bee769f9ef1f\\\\nvldumdx.dll C:\\\\WINDOWS\\\\System32\\\\DriverStore\\\\FileRepository\\\\nv_dispi.inf_amd64_38c9bee769f9ef1f\\\\nvldumd.dll,C:\\\\WINDOWS\\\\System32\\\\DriverStore\\\\FileRepository\\\\nv_dispi.inf_amd64_38c9bee769f9ef1f\\\\nvldumd.dll,C:\\\\WINDOWS\\\\System32\\\\DriverStore\\\\FileRepository\\\\nv_dispi.inf_amd64_38c9bee769f9ef1f\\\\nvldumd.dll,C:\\\\WINDOWS\\\\System32\\\\DriverStore\\\\FileRepository\\\\nv_dispi.inf_amd64_38c9bee769f9ef1f\\\\nvldumd.dll',\n",
       "     u'driverDate': u'5-7-2018',\n",
       "     u'driverVersion': u'24.21.13.9764',\n",
       "     u'subsysID': u'354e1458',\n",
       "     u'vendorID': u'0x10de'}],\n",
       "   u'features': {u'advancedLayers': {u'status': u'available'},\n",
       "    u'compositor': u'd3d11',\n",
       "    u'd2d': {u'status': u'available', u'version': u'1.1'},\n",
       "    u'd3d11': {u'blacklisted': False,\n",
       "     u'status': u'available',\n",
       "     u'textureSharing': True,\n",
       "     u'version': 45056,\n",
       "     u'warp': False},\n",
       "    u'gpuProcess': {u'status': u'available'},\n",
       "    u'webrender': {u'status': u'opt-in'},\n",
       "    u'wrQualified': {u'status': u'available'}},\n",
       "   u'monitors': [{u'pseudoDisplay': False,\n",
       "     u'refreshRate': 60,\n",
       "     u'screenHeight': 1080,\n",
       "     u'screenWidth': 1920}]},\n",
       "  'osName': u'Windows_NT',\n",
       "  'tab_switch': None}]"
      ]
     },
     "execution_count": 115,
     "metadata": {},
     "output_type": "execute_result"
    }
   ],
   "source": [
    "wrDisabled.filter(lambda p: p['frame_time']).take(1)"
   ]
  },
  {
   "cell_type": "code",
   "execution_count": null,
   "metadata": {},
   "outputs": [],
   "source": [
    "int(5) < 100"
   ]
  },
  {
   "cell_type": "code",
   "execution_count": 48,
   "metadata": {},
   "outputs": [],
   "source": [
    "from collections import Counter"
   ]
  },
  {
   "cell_type": "code",
   "execution_count": 58,
   "metadata": {},
   "outputs": [],
   "source": [
    "def roundDict(x):\n",
    "    d = {}\n",
    "    for (key, value) in x.iteritems():\n",
    "        if int(key) < 100:\n",
    "            continue\n",
    "        rounded = int(key)/100\n",
    "        if rounded in d:\n",
    "            d[rounded] += value\n",
    "        else:\n",
    "            d[rounded] = value\n",
    "    return d\n",
    "def sumHist(x):\n",
    "    s = 0\n",
    "    for (key, value) in x.iteritems():\n",
    "        s += key * value\n",
    "    return s\n",
    "def countHist(x):\n",
    "    s = 0\n",
    "    for (key, value) in x.iteritems():\n",
    "        s += value\n",
    "    return s"
   ]
  },
  {
   "cell_type": "code",
   "execution_count": 62,
   "metadata": {},
   "outputs": [
    {
     "data": {
      "text/plain": [
       "[5,\n",
       " 1,\n",
       " 1,\n",
       " 1,\n",
       " 1,\n",
       " 1,\n",
       " 2,\n",
       " 1,\n",
       " 1,\n",
       " 1,\n",
       " 1,\n",
       " 1,\n",
       " 1,\n",
       " 1,\n",
       " 1,\n",
       " 1,\n",
       " 1,\n",
       " 1,\n",
       " 1,\n",
       " 1,\n",
       " 1,\n",
       " 2,\n",
       " 3,\n",
       " 1,\n",
       " 1,\n",
       " 1,\n",
       " 1,\n",
       " 1,\n",
       " 1,\n",
       " 1,\n",
       " 1,\n",
       " 1,\n",
       " 1,\n",
       " 1,\n",
       " 2,\n",
       " 1,\n",
       " 1,\n",
       " 9,\n",
       " 1,\n",
       " 1,\n",
       " 1,\n",
       " 1,\n",
       " 1,\n",
       " 1,\n",
       " 1,\n",
       " 1,\n",
       " 1,\n",
       " 2,\n",
       " 1,\n",
       " 1,\n",
       " 1,\n",
       " 1,\n",
       " 1,\n",
       " 1,\n",
       " 1,\n",
       " 1,\n",
       " 1,\n",
       " 1,\n",
       " 1,\n",
       " 1,\n",
       " 1,\n",
       " 1,\n",
       " 1,\n",
       " 1,\n",
       " 1,\n",
       " 1,\n",
       " 1,\n",
       " 1,\n",
       " 1,\n",
       " 3,\n",
       " 1,\n",
       " 1,\n",
       " 1,\n",
       " 1,\n",
       " 1,\n",
       " 1,\n",
       " 1,\n",
       " 1,\n",
       " 1,\n",
       " 1,\n",
       " 1,\n",
       " 1,\n",
       " 1,\n",
       " 2,\n",
       " 1,\n",
       " 1,\n",
       " 1,\n",
       " 1,\n",
       " 1,\n",
       " 1,\n",
       " 1,\n",
       " 1,\n",
       " 5,\n",
       " 1,\n",
       " 1,\n",
       " 2,\n",
       " 1,\n",
       " 1,\n",
       " 1,\n",
       " 1,\n",
       " 1,\n",
       " 1,\n",
       " 1,\n",
       " 1,\n",
       " 1,\n",
       " 1,\n",
       " 1,\n",
       " 1,\n",
       " 16,\n",
       " 1,\n",
       " 2,\n",
       " 1,\n",
       " 1,\n",
       " 1,\n",
       " 1,\n",
       " 1,\n",
       " 1,\n",
       " 1,\n",
       " 8,\n",
       " 1,\n",
       " 1,\n",
       " 1,\n",
       " 1,\n",
       " 1,\n",
       " 1,\n",
       " 1,\n",
       " 1,\n",
       " 2,\n",
       " 1,\n",
       " 1,\n",
       " 1,\n",
       " 1,\n",
       " 1,\n",
       " 1,\n",
       " 16,\n",
       " 1,\n",
       " 1,\n",
       " 1,\n",
       " 1,\n",
       " 1,\n",
       " 1,\n",
       " 1,\n",
       " 1,\n",
       " 1,\n",
       " 1,\n",
       " 8,\n",
       " 1,\n",
       " 1,\n",
       " 1,\n",
       " 1,\n",
       " 1,\n",
       " 1,\n",
       " 1,\n",
       " 1,\n",
       " 1,\n",
       " 1,\n",
       " 8,\n",
       " 1,\n",
       " 1,\n",
       " 1,\n",
       " 1,\n",
       " 1,\n",
       " 1,\n",
       " 1,\n",
       " 1,\n",
       " 1,\n",
       " 1,\n",
       " 1,\n",
       " 1,\n",
       " 1,\n",
       " 1,\n",
       " 1,\n",
       " 1,\n",
       " 1,\n",
       " 1,\n",
       " 1,\n",
       " 1,\n",
       " 1,\n",
       " 1,\n",
       " 1,\n",
       " 1,\n",
       " 4,\n",
       " 1,\n",
       " 1,\n",
       " 1,\n",
       " 7,\n",
       " 1,\n",
       " 1,\n",
       " 1,\n",
       " 1,\n",
       " 1,\n",
       " 1,\n",
       " 1,\n",
       " 1,\n",
       " 3,\n",
       " 1,\n",
       " 1,\n",
       " 1,\n",
       " 1,\n",
       " 1]"
      ]
     },
     "execution_count": 62,
     "metadata": {},
     "output_type": "execute_result"
    }
   ],
   "source": [
    "wrEnabled.filter(lambda p: p['frame_time']).map(lambda p: roundDict(p['frame_time'])).filter(lambda p: countHist(p) != 0).map(lambda p: sumHist(p)/countHist(p)).take(200)"
   ]
  },
  {
   "cell_type": "code",
   "execution_count": 63,
   "metadata": {},
   "outputs": [
    {
     "data": {
      "text/plain": [
       "<matplotlib.axes._subplots.AxesSubplot at 0x7f44262b24d0>"
      ]
     },
     "execution_count": 63,
     "metadata": {},
     "output_type": "execute_result"
    },
    {
     "data": {
      "image/png": "[encoded data removed]",
      "text/plain": [
       "<matplotlib.figure.Figure at 0x7f44262b2350>"
      ]
     },
     "metadata": {},
     "output_type": "display_data"
    }
   ],
   "source": [
    "#means = (\n",
    "#    wrEnabled.filter(lambda p: p['frame_time']).map(lambda p: p['frame_time_sum']/sum(p['frame_time'].values()))\n",
    "#    .filter(lambda p: p< 1000)\n",
    "#)\n",
    "means = (wrEnabled.filter(lambda p: p['frame_time']).map(lambda p: roundDict(p['frame_time']))\n",
    "         .filter(lambda p: countHist(p) != 0)\n",
    "         .map(lambda p: sumHist(p)/countHist(p))\n",
    "        )\n",
    "means = means.map(lambda x: (x, )).toDF()\n",
    "means = means.toPandas()\n",
    "df = pd.DataFrame()\n",
    "df['enabled'] = means\n",
    "means = (wrDisabled.filter(lambda p: p['frame_time']).map(lambda p: roundDict(p['frame_time']))\n",
    "         .filter(lambda p: countHist(p) != 0)\n",
    "         .map(lambda p: sumHist(p)/countHist(p))\n",
    "        )\n",
    "means = means.map(lambda x: (x, )).toDF()\n",
    "means = means.toPandas()\n",
    "df['disabled'] = means\n",
    "df.plot.density()#means.take(4)"
   ]
  },
  {
   "cell_type": "code",
   "execution_count": 47,
   "metadata": {},
   "outputs": [
    {
     "data": {
      "text/html": [
       "<div>\n",
       "<table border=\"1\" class=\"dataframe\">\n",
       "  <thead>\n",
       "    <tr style=\"text-align: right;\">\n",
       "      <th></th>\n",
       "      <th>_1</th>\n",
       "    </tr>\n",
       "  </thead>\n",
       "  <tbody>\n",
       "    <tr>\n",
       "      <th>0</th>\n",
       "      <td>0</td>\n",
       "    </tr>\n",
       "    <tr>\n",
       "      <th>1</th>\n",
       "      <td>0</td>\n",
       "    </tr>\n",
       "    <tr>\n",
       "      <th>2</th>\n",
       "      <td>0</td>\n",
       "    </tr>\n",
       "    <tr>\n",
       "      <th>3</th>\n",
       "      <td>0</td>\n",
       "    </tr>\n",
       "    <tr>\n",
       "      <th>4</th>\n",
       "      <td>0</td>\n",
       "    </tr>\n",
       "    <tr>\n",
       "      <th>5</th>\n",
       "      <td>0</td>\n",
       "    </tr>\n",
       "    <tr>\n",
       "      <th>6</th>\n",
       "      <td>0</td>\n",
       "    </tr>\n",
       "    <tr>\n",
       "      <th>7</th>\n",
       "      <td>0</td>\n",
       "    </tr>\n",
       "    <tr>\n",
       "      <th>8</th>\n",
       "      <td>0</td>\n",
       "    </tr>\n",
       "    <tr>\n",
       "      <th>9</th>\n",
       "      <td>0</td>\n",
       "    </tr>\n",
       "    <tr>\n",
       "      <th>10</th>\n",
       "      <td>0</td>\n",
       "    </tr>\n",
       "    <tr>\n",
       "      <th>11</th>\n",
       "      <td>0</td>\n",
       "    </tr>\n",
       "    <tr>\n",
       "      <th>12</th>\n",
       "      <td>0</td>\n",
       "    </tr>\n",
       "    <tr>\n",
       "      <th>13</th>\n",
       "      <td>0</td>\n",
       "    </tr>\n",
       "    <tr>\n",
       "      <th>14</th>\n",
       "      <td>0</td>\n",
       "    </tr>\n",
       "    <tr>\n",
       "      <th>15</th>\n",
       "      <td>0</td>\n",
       "    </tr>\n",
       "    <tr>\n",
       "      <th>16</th>\n",
       "      <td>0</td>\n",
       "    </tr>\n",
       "    <tr>\n",
       "      <th>17</th>\n",
       "      <td>0</td>\n",
       "    </tr>\n",
       "    <tr>\n",
       "      <th>18</th>\n",
       "      <td>0</td>\n",
       "    </tr>\n",
       "    <tr>\n",
       "      <th>19</th>\n",
       "      <td>0</td>\n",
       "    </tr>\n",
       "    <tr>\n",
       "      <th>20</th>\n",
       "      <td>0</td>\n",
       "    </tr>\n",
       "    <tr>\n",
       "      <th>21</th>\n",
       "      <td>0</td>\n",
       "    </tr>\n",
       "    <tr>\n",
       "      <th>22</th>\n",
       "      <td>0</td>\n",
       "    </tr>\n",
       "    <tr>\n",
       "      <th>23</th>\n",
       "      <td>0</td>\n",
       "    </tr>\n",
       "    <tr>\n",
       "      <th>24</th>\n",
       "      <td>0</td>\n",
       "    </tr>\n",
       "    <tr>\n",
       "      <th>25</th>\n",
       "      <td>1</td>\n",
       "    </tr>\n",
       "    <tr>\n",
       "      <th>26</th>\n",
       "      <td>0</td>\n",
       "    </tr>\n",
       "    <tr>\n",
       "      <th>27</th>\n",
       "      <td>0</td>\n",
       "    </tr>\n",
       "    <tr>\n",
       "      <th>28</th>\n",
       "      <td>0</td>\n",
       "    </tr>\n",
       "    <tr>\n",
       "      <th>29</th>\n",
       "      <td>0</td>\n",
       "    </tr>\n",
       "    <tr>\n",
       "      <th>...</th>\n",
       "      <td>...</td>\n",
       "    </tr>\n",
       "    <tr>\n",
       "      <th>234</th>\n",
       "      <td>0</td>\n",
       "    </tr>\n",
       "    <tr>\n",
       "      <th>235</th>\n",
       "      <td>0</td>\n",
       "    </tr>\n",
       "    <tr>\n",
       "      <th>236</th>\n",
       "      <td>0</td>\n",
       "    </tr>\n",
       "    <tr>\n",
       "      <th>237</th>\n",
       "      <td>0</td>\n",
       "    </tr>\n",
       "    <tr>\n",
       "      <th>238</th>\n",
       "      <td>0</td>\n",
       "    </tr>\n",
       "    <tr>\n",
       "      <th>239</th>\n",
       "      <td>0</td>\n",
       "    </tr>\n",
       "    <tr>\n",
       "      <th>240</th>\n",
       "      <td>0</td>\n",
       "    </tr>\n",
       "    <tr>\n",
       "      <th>241</th>\n",
       "      <td>0</td>\n",
       "    </tr>\n",
       "    <tr>\n",
       "      <th>242</th>\n",
       "      <td>0</td>\n",
       "    </tr>\n",
       "    <tr>\n",
       "      <th>243</th>\n",
       "      <td>0</td>\n",
       "    </tr>\n",
       "    <tr>\n",
       "      <th>244</th>\n",
       "      <td>0</td>\n",
       "    </tr>\n",
       "    <tr>\n",
       "      <th>245</th>\n",
       "      <td>0</td>\n",
       "    </tr>\n",
       "    <tr>\n",
       "      <th>246</th>\n",
       "      <td>0</td>\n",
       "    </tr>\n",
       "    <tr>\n",
       "      <th>247</th>\n",
       "      <td>0</td>\n",
       "    </tr>\n",
       "    <tr>\n",
       "      <th>248</th>\n",
       "      <td>5</td>\n",
       "    </tr>\n",
       "    <tr>\n",
       "      <th>249</th>\n",
       "      <td>0</td>\n",
       "    </tr>\n",
       "    <tr>\n",
       "      <th>250</th>\n",
       "      <td>2</td>\n",
       "    </tr>\n",
       "    <tr>\n",
       "      <th>251</th>\n",
       "      <td>0</td>\n",
       "    </tr>\n",
       "    <tr>\n",
       "      <th>252</th>\n",
       "      <td>0</td>\n",
       "    </tr>\n",
       "    <tr>\n",
       "      <th>253</th>\n",
       "      <td>3</td>\n",
       "    </tr>\n",
       "    <tr>\n",
       "      <th>254</th>\n",
       "      <td>0</td>\n",
       "    </tr>\n",
       "    <tr>\n",
       "      <th>255</th>\n",
       "      <td>0</td>\n",
       "    </tr>\n",
       "    <tr>\n",
       "      <th>256</th>\n",
       "      <td>0</td>\n",
       "    </tr>\n",
       "    <tr>\n",
       "      <th>257</th>\n",
       "      <td>0</td>\n",
       "    </tr>\n",
       "    <tr>\n",
       "      <th>258</th>\n",
       "      <td>0</td>\n",
       "    </tr>\n",
       "    <tr>\n",
       "      <th>259</th>\n",
       "      <td>0</td>\n",
       "    </tr>\n",
       "    <tr>\n",
       "      <th>260</th>\n",
       "      <td>0</td>\n",
       "    </tr>\n",
       "    <tr>\n",
       "      <th>261</th>\n",
       "      <td>0</td>\n",
       "    </tr>\n",
       "    <tr>\n",
       "      <th>262</th>\n",
       "      <td>2</td>\n",
       "    </tr>\n",
       "    <tr>\n",
       "      <th>263</th>\n",
       "      <td>0</td>\n",
       "    </tr>\n",
       "  </tbody>\n",
       "</table>\n",
       "<p>264 rows × 1 columns</p>\n",
       "</div>"
      ],
      "text/plain": [
       "     _1\n",
       "0     0\n",
       "1     0\n",
       "2     0\n",
       "3     0\n",
       "4     0\n",
       "5     0\n",
       "6     0\n",
       "7     0\n",
       "8     0\n",
       "9     0\n",
       "10    0\n",
       "11    0\n",
       "12    0\n",
       "13    0\n",
       "14    0\n",
       "15    0\n",
       "16    0\n",
       "17    0\n",
       "18    0\n",
       "19    0\n",
       "20    0\n",
       "21    0\n",
       "22    0\n",
       "23    0\n",
       "24    0\n",
       "25    1\n",
       "26    0\n",
       "27    0\n",
       "28    0\n",
       "29    0\n",
       "..   ..\n",
       "234   0\n",
       "235   0\n",
       "236   0\n",
       "237   0\n",
       "238   0\n",
       "239   0\n",
       "240   0\n",
       "241   0\n",
       "242   0\n",
       "243   0\n",
       "244   0\n",
       "245   0\n",
       "246   0\n",
       "247   0\n",
       "248   5\n",
       "249   0\n",
       "250   2\n",
       "251   0\n",
       "252   0\n",
       "253   3\n",
       "254   0\n",
       "255   0\n",
       "256   0\n",
       "257   0\n",
       "258   0\n",
       "259   0\n",
       "260   0\n",
       "261   0\n",
       "262   2\n",
       "263   0\n",
       "\n",
       "[264 rows x 1 columns]"
      ]
     },
     "execution_count": 47,
     "metadata": {},
     "output_type": "execute_result"
    }
   ],
   "source": [
    "means = (\n",
    "    wrDisabled.filter(lambda p: p['composite_time']).map(lambda p: p['composite_time']['sum']/sum(p['composite_time']['values'].values()))\n",
    "    .filter(lambda p: p< 1000)\n",
    ")\n",
    "means = means.map(lambda x: (x, )).toDF()\n",
    "means = means.toPandas()\n",
    "means"
   ]
  },
  {
   "cell_type": "code",
   "execution_count": 48,
   "metadata": {},
   "outputs": [
    {
     "data": {
      "text/plain": [
       "<matplotlib.axes._subplots.AxesSubplot at 0x7f5a840cfdd0>"
      ]
     },
     "execution_count": 48,
     "metadata": {},
     "output_type": "execute_result"
    },
    {
     "data": {
      "image/png": "[encoded data removed]",
      "text/plain": [
       "<matplotlib.figure.Figure at 0x7f5a7f211c90>"
      ]
     },
     "metadata": {},
     "output_type": "display_data"
    }
   ],
   "source": [
    "means = (\n",
    "    wrEnabled.filter(lambda p: p['composite_time']).map(lambda p: p['composite_time']['sum']/sum(p['composite_time']['values'].values()))\n",
    "    .filter(lambda p: p< 1000)\n",
    ")\n",
    "means = means.map(lambda x: (x, )).toDF()\n",
    "means = means.toPandas()\n",
    "df = pd.DataFrame()\n",
    "df['enabled'] = means\n",
    "means = (\n",
    "    wrDisabled.filter(lambda p: p['composite_time']).map(lambda p: p['composite_time']['sum']/sum(p['composite_time']['values'].values()))\n",
    "    .filter(lambda p: p< 1000)\n",
    ")\n",
    "means = means.map(lambda x: (x, )).toDF()\n",
    "means = means.toPandas()\n",
    "df['disabled'] = means\n",
    "df.plot.density()#means.take(4)"
   ]
  },
  {
   "cell_type": "code",
   "execution_count": 61,
   "metadata": {},
   "outputs": [],
   "source": [
    "aggregated_enabled = (\n",
    "    wrEnabled\n",
    "    .filter(lambda p: p['composite_time'])\n",
    "    .map(lambda p: pd.Series(p['composite_time']['values']))\n",
    "    .reduce(aggregate_series)\n",
    ")\n",
    "aggregated_enabled.index = [int(i) for i in aggregated_enabled.index]\n",
    "aggregated_enabled = aggregated_enabled.sort_index()\n",
    "\n",
    "aggregated_disabled = (\n",
    "    wrDisabled2\n",
    "    .filter(lambda p: p['composite_time'])\n",
    "    .map(lambda p: pd.Series(p['composite_time']['values']))\n",
    "    .reduce(aggregate_series)\n",
    ")\n",
    "aggregated_disabled.index = [int(i) for i in aggregated_disabled.index]\n",
    "aggregated_disabled = aggregated_disabled.sort_index()"
   ]
  },
  {
   "cell_type": "code",
   "execution_count": 62,
   "metadata": {},
   "outputs": [
    {
     "data": {
      "text/plain": [
       "(59394031.0, 87039907.0, 284, 271)"
      ]
     },
     "execution_count": 62,
     "metadata": {},
     "output_type": "execute_result"
    },
    {
     "data": {
      "image/png": "[encoded data removed]",
      "text/plain": [
       "<matplotlib.figure.Figure at 0x7f5a7f21a450>"
      ]
     },
     "metadata": {},
     "output_type": "display_data"
    }
   ],
   "source": [
    "percent_enabled = aggregated_enabled\n",
    "percent_disabled = aggregated_disabled\n",
    "\n",
    "percent = percent_enabled\n",
    "df = pd.DataFrame()\n",
    "df['enabled'] = percent_enabled\n",
    "df['disabled'] = percent_disabled\n",
    "#(percent_enabled - percent_disabled).plot(kind='bar', figsize=(15, 7))\n",
    "p = df.cumsum().plot(kind='bar', figsize=(15, 7))\n",
    "p.set_xlabel(\"ms\")\n",
    "p.set_ylabel(\"composite times\")\n",
    "(aggregated_enabled.sum(), aggregated_disabled.sum(), wrEnabled.count(), wrDisabled.count())"
   ]
  },
  {
   "cell_type": "code",
   "execution_count": 70,
   "metadata": {},
   "outputs": [],
   "source": [
    "aggregated_enabled = (\n",
    "    wrEnabled\n",
    "    .filter(lambda p: p['frame_time'])\n",
    "    .map(lambda p: pd.Series(roundDict(p['frame_time'])))\n",
    "    .reduce(aggregate_series)\n",
    ")\n",
    "aggregated_enabled.index = [int(i) for i in aggregated_enabled.index]\n",
    "aggregated_enabled = aggregated_enabled.sort_index()\n",
    "\n",
    "aggregated_disabled = (\n",
    "    wrDisabled2\n",
    "    .filter(lambda p: p['frame_time'])\n",
    "    .map(lambda p: pd.Series(roundDict(p['frame_time'])))\n",
    "    .reduce(aggregate_series)\n",
    ")\n",
    "aggregated_disabled.index = [int(i) for i in aggregated_disabled.index]\n",
    "aggregated_disabled = aggregated_disabled.sort_index()"
   ]
  },
  {
   "cell_type": "code",
   "execution_count": 71,
   "metadata": {},
   "outputs": [
    {
     "data": {
      "text/plain": [
       "1     3514425.0\n",
       "2       25249.0\n",
       "3       15626.0\n",
       "4        5743.0\n",
       "5        1518.0\n",
       "6        1014.0\n",
       "7         721.0\n",
       "9         478.0\n",
       "10        363.0\n",
       "12        263.0\n",
       "14        197.0\n",
       "16        155.0\n",
       "19        118.0\n",
       "23        107.0\n",
       "26         76.0\n",
       "31         71.0\n",
       "36         34.0\n",
       "42         26.0\n",
       "50        101.0\n",
       "dtype: float64"
      ]
     },
     "execution_count": 71,
     "metadata": {},
     "output_type": "execute_result"
    }
   ],
   "source": [
    "aggregated_disabled"
   ]
  },
  {
   "cell_type": "code",
   "execution_count": 87,
   "metadata": {},
   "outputs": [
    {
     "data": {
      "text/plain": [
       "<matplotlib.text.Text at 0x7f4415038150>"
      ]
     },
     "execution_count": 87,
     "metadata": {},
     "output_type": "execute_result"
    },
    {
     "data": {
      "image/png": "[encoded data removed]",
      "text/plain": [
       "<matplotlib.figure.Figure at 0x7f4414ef1550>"
      ]
     },
     "metadata": {},
     "output_type": "display_data"
    }
   ],
   "source": [
    "percent_enabled = aggregated_enabled[1:].map(lambda x: x/aggregated_enabled[0:].sum())\n",
    "percent_disabled = aggregated_disabled[1:].map(lambda x: x/aggregated_disabled[0:].sum())\n",
    "\n",
    "percent = percent_enabled\n",
    "df = pd.DataFrame()\n",
    "df['enabled'] = percent_enabled\n",
    "df['disabled'] = percent_disabled\n",
    "#(percent_enabled - percent_disabled).plot(kind='bar', figsize=(15, 7))\n",
    "p = df.plot(kind='bar', figsize=(15, 7))\n",
    "p.set_xlabel(\"ms\")\n",
    "p.set_ylabel(\"percentage of content paints that happen in x frames\")"
   ]
  },
  {
   "cell_type": "code",
   "execution_count": 84,
   "metadata": {},
   "outputs": [
    {
     "data": {
      "text/plain": [
       "<matplotlib.text.Text at 0x7f442636dc10>"
      ]
     },
     "execution_count": 84,
     "metadata": {},
     "output_type": "execute_result"
    },
    {
     "data": {
      "image/png": "[encoded data removed]",
      "text/plain": [
       "<matplotlib.figure.Figure at 0x7f4415872d90>"
      ]
     },
     "metadata": {},
     "output_type": "display_data"
    }
   ],
   "source": [
    "p = (100*(percent_enabled - percent_disabled) / percent_enabled).plot(kind='bar', figsize=(15, 7))\n",
    "p.set_xlabel(\"ms\")\n",
    "p.set_ylabel(\"% change in content paints of x frames from enabling WebRender\")"
   ]
  },
  {
   "cell_type": "markdown",
   "metadata": {},
   "source": [
    "We can also aggregate the values of the parent and children processes:"
   ]
  },
  {
   "cell_type": "code",
   "execution_count": null,
   "metadata": {},
   "outputs": [],
   "source": [
    "plt.title('GC_MARK_MS')\n",
    "(aggregated_content + aggregated_parent).plot(kind='bar', figsize=(15, 7))"
   ]
  },
  {
   "cell_type": "markdown",
   "metadata": {},
   "source": [
    "Keyed histograms follow a similar pattern. To extract a keyed histogram for which we know the key/label we are interested in:"
   ]
  },
  {
   "cell_type": "code",
   "execution_count": null,
   "metadata": {
    "scrolled": true
   },
   "outputs": [],
   "source": [
    "keyed_hist = (\n",
    "    pings_dataset\n",
    "    .select(redirects='payload.keyedHistograms.NETWORK_HTTP_REDIRECT_TO_SCHEME.https.values')\n",
    "    .records(sc, sample=0.05)\n",
    ")"
   ]
  },
  {
   "cell_type": "markdown",
   "metadata": {},
   "source": [
    "Add up the counts of every ping and plot it:"
   ]
  },
  {
   "cell_type": "code",
   "execution_count": null,
   "metadata": {
    "scrolled": true
   },
   "outputs": [],
   "source": [
    "aggregated = (\n",
    "    keyed_hist\n",
    "    .filter(lambda p: p['redirects'] is not None)\n",
    "    .map(lambda p: pd.Series(p['redirects']))\n",
    "    .reduce(lambda c1, c2: c1 + c2)\n",
    ")"
   ]
  },
  {
   "cell_type": "code",
   "execution_count": null,
   "metadata": {
    "scrolled": true
   },
   "outputs": [],
   "source": [
    "aggregated.plot(kind='bar', figsize=(15, 7))"
   ]
  }
 ],
 "metadata": {
  "anaconda-cloud": {},
  "kernelspec": {
   "display_name": "Python [default]",
   "language": "python",
   "name": "python2"
  },
  "language_info": {
   "codemirror_mode": {
    "name": "ipython",
    "version": 2
   },
   "file_extension": ".py",
   "mimetype": "text/x-python",
   "name": "python",
   "nbconvert_exporter": "python",
   "pygments_lexer": "ipython2",
   "version": "2.7.12"
  }
 },
 "nbformat": 4,
 "nbformat_minor": 1
}
