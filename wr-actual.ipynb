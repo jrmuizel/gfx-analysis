{
 "cells": [
  {
   "cell_type": "code",
   "execution_count": 1,
   "metadata": {
    "scrolled": true
   },
   "outputs": [],
   "source": [
    "import ujson as json\n",
    "import matplotlib.pyplot as plt\n",
    "import pandas as pd\n",
    "import numpy as np\n",
    "\n",
    "from moztelemetry.dataset import Dataset\n",
    "\n",
    "%matplotlib inline"
   ]
  },
  {
   "cell_type": "markdown",
   "metadata": {},
   "source": [
    "### Basics"
   ]
  },
  {
   "cell_type": "markdown",
   "metadata": {},
   "source": [
    "We will use the Dataset API to fetch data.  Documentation can be found at: https://python-moztelemetry.readthedocs.io/en/stable/api.html#dataset"
   ]
  },
  {
   "cell_type": "markdown",
   "metadata": {},
   "source": [
    "The goal of this example is to plot the startup distribution for each OS. Let's see how many parallel workers we have at our disposal:"
   ]
  },
  {
   "cell_type": "code",
   "execution_count": 2,
   "metadata": {},
   "outputs": [
    {
     "data": {
      "text/plain": [
       "32"
      ]
     },
     "execution_count": 2,
     "metadata": {},
     "output_type": "execute_result"
    }
   ],
   "source": [
    "sc.defaultParallelism"
   ]
  },
  {
   "cell_type": "markdown",
   "metadata": {},
   "source": [
    "We can look at the schema of the dataset we are interested in:"
   ]
  },
  {
   "cell_type": "code",
   "execution_count": 3,
   "metadata": {},
   "outputs": [
    {
     "data": {
      "text/plain": [
       "[u'submissionDate',\n",
       " u'sourceName',\n",
       " u'sourceVersion',\n",
       " u'docType',\n",
       " u'appName',\n",
       " u'appUpdateChannel',\n",
       " u'appVersion',\n",
       " u'appBuildId']"
      ]
     },
     "execution_count": 3,
     "metadata": {},
     "output_type": "execute_result"
    }
   ],
   "source": [
    "Dataset.from_source('telemetry').schema"
   ]
  },
  {
   "cell_type": "markdown",
   "metadata": {},
   "source": [
    "Let's create a Dataset of Telemetry submissions for a given submission date:"
   ]
  },
  {
   "cell_type": "code",
   "execution_count": 4,
   "metadata": {},
   "outputs": [],
   "source": [
    "pings_dataset = (\n",
    "    Dataset.from_source('telemetry')\n",
    "    .where(docType='main')\n",
    "    #.where(appBuildId='20180721100146')\n",
    "    .where(submissionDate=lambda x: int(x) == 20180927 or int(x) == 20180926 or int(x) == 20180928 or int(x) == 20180929)\n",
    "    .where(appUpdateChannel=\"nightly\")\n",
    ")"
   ]
  },
  {
   "cell_type": "markdown",
   "metadata": {},
   "source": [
    "Select only the properties we need and then take a 10% sample:"
   ]
  },
  {
   "cell_type": "code",
   "execution_count": 7,
   "metadata": {
    "scrolled": true
   },
   "outputs": [
    {
     "name": "stdout",
     "output_type": "stream",
     "text": [
      "fetching 26054.85692MB in 94826 files...\n"
     ]
    }
   ],
   "source": [
    "pings = (\n",
    "    pings_dataset\n",
    "    .select(\n",
    "        'clientId',\n",
    "        buildId='application.buildId',\n",
    "        content_paint='payload.processes.content.histograms.CONTENT_PAINT_TIME.values',\n",
    "        content_paint_phase='payload.processes.content.keyedHistograms.CONTENT_LARGE_PAINT_PHASE_WEIGHT',\n",
    "        tab_switch='payload.histograms.FX_TAB_SWITCH_COMPOSITE_E10S_MS.values',\n",
    "        tab_switch_sum='payload.histograms.FX_TAB_SWITCH_COMPOSITE_E10S_MS.sum',\n",
    "        frame_time='payload.processes.gpu.histograms.CONTENT_FRAME_TIME.values',\n",
    "        frame_time_sum='payload.processes.gpu.histograms.CONTENT_FRAME_TIME.sum',\n",
    "        composite_time='payload.processes.gpu.histograms.COMPOSITE_TIME',\n",
    "        checkerboardin='payload.processes.gpu.histograms.CHECKERBOARD_SEVERITY.values',\n",
    "        experiments='environment.experiments',\n",
    "        settings='environment.settings',\n",
    "        osName='environment.system.os.name',\n",
    "        gfx='environment.system.gfx')\n",
    "    .records(sc, sample=1.)\n",
    ")"
   ]
  },
  {
   "cell_type": "code",
   "execution_count": 8,
   "metadata": {},
   "outputs": [],
   "source": [
    "#pings = (\n",
    "#    pings_dataset\n",
    "#    .records(sc, sample=0.01)\n",
    "#)\n",
    "#pings.take(1)"
   ]
  },
  {
   "cell_type": "code",
   "execution_count": 9,
   "metadata": {},
   "outputs": [],
   "source": [
    "pings = pings.filter(lambda p: \"experiments\" in p and p[\"experiments\"]).filter(lambda p: \"prefflip-webrender-v1-2-1492568\" in p[\"experiments\"])"
   ]
  },
  {
   "cell_type": "code",
   "execution_count": null,
   "metadata": {},
   "outputs": [],
   "source": [
    "pings = pings.cache()"
   ]
  },
  {
   "cell_type": "markdown",
   "metadata": {},
   "source": []
  },
  {
   "cell_type": "code",
   "execution_count": null,
   "metadata": {},
   "outputs": [],
   "source": [
    "pings.take(4)"
   ]
  },
  {
   "cell_type": "code",
   "execution_count": null,
   "metadata": {},
   "outputs": [],
   "source": [
    "# We add two extra steps. The first rewrites the ping to have some\n",
    "# information more easily accessible (like the primary adapter),\n",
    "# and the second step removes any pings that don't have adapter\n",
    "# information.\n",
    "def rewrite_ping(p):\n",
    "    adapters = p.get('gfx', None).get('adapters', None)\n",
    "    if not adapters:\n",
    "        return None\n",
    "    adapter = adapters[0]\n",
    "            \n",
    "    p['adapter'] = adapter\n",
    "            \n",
    "    # Convert the version to a tuple of integers.\n",
    "    #if 'driverVersion' in adapter:\n",
    "    #    p['driverVersion'] = [int(n) for n in adapter['driverVersion'].split('.') if n.isdigit()]\n",
    "    return p\n",
    "\n",
    "def filter_ping(p):\n",
    "    return 'adapter' in p\n",
    "rpings = pings.map(rewrite_ping).filter(filter_ping)\n",
    "rpings = rpings.cache()\n",
    "rpings.count()"
   ]
  },
  {
   "cell_type": "markdown",
   "metadata": {},
   "source": [
    "To prevent pseudoreplication, let's consider only a single submission for each client. As this step requires a distributed shuffle, it should always be run only after extracting the attributes of interest with *Dataset.select()*."
   ]
  },
  {
   "cell_type": "code",
   "execution_count": null,
   "metadata": {},
   "outputs": [],
   "source": [
    "# we don't want to ignore separate pings from the same users\n",
    "#subset = (\n",
    "#    rpings\n",
    "#    .map(lambda p: (p['clientId'], p))\n",
    "#    .reduceByKey(lambda p1, p2: p1)\n",
    "#    .map(lambda p: p[1])\n",
    "#)"
   ]
  },
  {
   "cell_type": "markdown",
   "metadata": {},
   "source": [
    "Caching is fundamental as it allows for an iterative, real-time development workflow:"
   ]
  },
  {
   "cell_type": "code",
   "execution_count": null,
   "metadata": {},
   "outputs": [],
   "source": [
    "cached = rpings"
   ]
  },
  {
   "cell_type": "code",
   "execution_count": null,
   "metadata": {},
   "outputs": [],
   "source": [
    "#cached = subset.cache()"
   ]
  },
  {
   "cell_type": "markdown",
   "metadata": {},
   "source": [
    "How many pings are we looking at?"
   ]
  },
  {
   "cell_type": "code",
   "execution_count": null,
   "metadata": {},
   "outputs": [],
   "source": [
    "cached.count()"
   ]
  },
  {
   "cell_type": "code",
   "execution_count": null,
   "metadata": {},
   "outputs": [],
   "source": [
    "cached.filter(lambda p: p['checkerboardin']).count()"
   ]
  },
  {
   "cell_type": "code",
   "execution_count": 14,
   "metadata": {},
   "outputs": [
    {
     "data": {
      "text/plain": [
       "37028"
      ]
     },
     "execution_count": 14,
     "metadata": {},
     "output_type": "execute_result"
    }
   ],
   "source": [
    "cached = cached.filter(lambda p: \"features\" in p[\"gfx\"])\n",
    "cached = cached.filter(lambda p: \"wrQualified\" in p[\"gfx\"][\"features\"])\n",
    "cached.count()"
   ]
  },
  {
   "cell_type": "code",
   "execution_count": 15,
   "metadata": {},
   "outputs": [],
   "source": [
    "wrQualified = cached.filter(lambda p: p[\"gfx\"][\"features\"][\"wrQualified\"][\"status\"] == \"available\" )\n",
    "wrQualified.count()\n",
    "wrQualified = wrQualified.filter(lambda p: len(p[\"gfx\"][\"monitors\"]) == 1 and p[\"gfx\"][\"monitors\"][0][\"refreshRate\"] == 60)"
   ]
  },
  {
   "cell_type": "code",
   "execution_count": 16,
   "metadata": {},
   "outputs": [
    {
     "data": {
      "text/plain": [
       "[{u'prefflip-webrender-v1-2-1492568': {u'branch': u'disabled',\n",
       "   u'type': u'normandy-exp'}},\n",
       " {u'prefflip-webrender-v1-2-1492568': {u'branch': u'enabled',\n",
       "   u'type': u'normandy-exp'}},\n",
       " {u'prefflip-webrender-v1-2-1492568': {u'branch': u'disabled',\n",
       "   u'type': u'normandy-exp'}},\n",
       " {u'prefflip-webrender-v1-2-1492568': {u'branch': u'disabled',\n",
       "   u'type': u'normandy-exp'}},\n",
       " {u'prefflip-webrender-v1-2-1492568': {u'branch': u'disabled',\n",
       "   u'type': u'normandy-exp'}}]"
      ]
     },
     "execution_count": 16,
     "metadata": {},
     "output_type": "execute_result"
    }
   ],
   "source": [
    "wrQualified.filter(lambda p: \"experiments\" in p and p[\"experiments\"]).map(lambda p: p[\"experiments\"]).take(5)"
   ]
  },
  {
   "cell_type": "code",
   "execution_count": 17,
   "metadata": {},
   "outputs": [
    {
     "data": {
      "text/plain": [
       "defaultdict(int, {u'basic': 1304, u'd3d11': 12482, u'webrender': 23242})"
      ]
     },
     "execution_count": 17,
     "metadata": {},
     "output_type": "execute_result"
    }
   ],
   "source": [
    "wrExperiment = cached.filter(lambda p: \"experiments\" in p and p[\"experiments\"]).filter(lambda p: \"prefflip-webrender-v1-2-1492568\" in p[\"experiments\"])\n",
    "wrExperiment.map(lambda p: p[\"gfx\"][\"features\"][\"compositor\"]).countByValue()"
   ]
  },
  {
   "cell_type": "code",
   "execution_count": 18,
   "metadata": {},
   "outputs": [],
   "source": [
    "wrExperiment = wrExperiment.filter(lambda p: p[\"gfx\"][\"features\"][\"wrQualified\"][\"status\"] == \"available\")\n",
    "wrExperiment = wrExperiment.filter(lambda p: len(p[\"gfx\"][\"monitors\"]) == 1 and p[\"gfx\"][\"monitors\"][0][\"refreshRate\"] == 60)"
   ]
  },
  {
   "cell_type": "code",
   "execution_count": 19,
   "metadata": {},
   "outputs": [
    {
     "data": {
      "text/plain": [
       "defaultdict(int, {u'disabled': 7915, u'enabled': 8761})"
      ]
     },
     "execution_count": 19,
     "metadata": {},
     "output_type": "execute_result"
    }
   ],
   "source": [
    "wrExperiment.map(lambda p: p[\"experiments\"][\"prefflip-webrender-v1-2-1492568\"][\"branch\"]).countByValue()"
   ]
  },
  {
   "cell_type": "code",
   "execution_count": null,
   "metadata": {},
   "outputs": [],
   "source": []
  },
  {
   "cell_type": "code",
   "execution_count": 20,
   "metadata": {},
   "outputs": [
    {
     "data": {
      "text/plain": [
       "(8761, 7915)"
      ]
     },
     "execution_count": 20,
     "metadata": {},
     "output_type": "execute_result"
    }
   ],
   "source": [
    "treatment = wrExperiment.filter(lambda p: p[\"experiments\"][\"prefflip-webrender-v1-2-1492568\"][\"branch\"] == \"enabled\")\n",
    "control = wrExperiment.filter(lambda p: p[\"experiments\"][\"prefflip-webrender-v1-2-1492568\"][\"branch\"] == \"disabled\")\n",
    "(treatment.count(), control.count())"
   ]
  },
  {
   "cell_type": "code",
   "execution_count": 21,
   "metadata": {},
   "outputs": [],
   "source": [
    "#wrt = qTreatment.filter(lambda p: p[\"gfx\"][\"features\"][\"compositor\"] == 'd3d11').filter(lambda p: 'webrender' in p[\"gfx\"][\"features\"])\n",
    "#wrt.map(lambda p: p[\"gfx\"][\"features\"][\"webrender\"][\"status\"]).countByValue()\n",
    "#wrt.count()"
   ]
  },
  {
   "cell_type": "code",
   "execution_count": 22,
   "metadata": {},
   "outputs": [
    {
     "data": {
      "text/plain": [
       "defaultdict(int, {u'basic': 457, u'd3d11': 5979, u'webrender': 10944})"
      ]
     },
     "execution_count": 22,
     "metadata": {},
     "output_type": "execute_result"
    }
   ],
   "source": [
    "cached.filter(lambda p: p['checkerboardin']).map(lambda p: p[\"gfx\"][\"features\"][\"compositor\"]).countByValue()"
   ]
  },
  {
   "cell_type": "code",
   "execution_count": 23,
   "metadata": {},
   "outputs": [
    {
     "data": {
      "text/plain": [
       "defaultdict(int, {False: 1592, True: 9352})"
      ]
     },
     "execution_count": 23,
     "metadata": {},
     "output_type": "execute_result"
    }
   ],
   "source": [
    "checked = cached.filter(lambda p: p['checkerboardin']).filter(lambda p: p[\"gfx\"][\"features\"][\"compositor\"] == \"webrender\")\n",
    "checked.map(lambda p: p[\"gfx\"][\"D2DEnabled\"]).countByValue()"
   ]
  },
  {
   "cell_type": "code",
   "execution_count": 24,
   "metadata": {},
   "outputs": [
    {
     "data": {
      "text/plain": [
       "defaultdict(int, {u'basic': 261, u'd3d11': 167, u'webrender': 8333})"
      ]
     },
     "execution_count": 24,
     "metadata": {},
     "output_type": "execute_result"
    }
   ],
   "source": [
    "treatment.map(lambda p: p[\"gfx\"][\"features\"][\"compositor\"]).countByValue()"
   ]
  },
  {
   "cell_type": "code",
   "execution_count": 25,
   "metadata": {},
   "outputs": [
    {
     "data": {
      "text/plain": [
       "defaultdict(int, {True: 6552})"
      ]
     },
     "execution_count": 25,
     "metadata": {},
     "output_type": "execute_result"
    }
   ],
   "source": [
    "(treatment\n",
    " #.filter(lambda p: p[\"gfx\"][\"features\"][\"compositor\"] == \"webrender\")\n",
    ".filter(lambda p: 'gfx.webrender.all.qualified' in p['settings']['userPrefs'])\n",
    " .map(lambda p: p['settings']['userPrefs']['gfx.webrender.all.qualified']).countByValue()\n",
    ")"
   ]
  },
  {
   "cell_type": "code",
   "execution_count": 26,
   "metadata": {},
   "outputs": [
    {
     "data": {
      "text/plain": [
       "defaultdict(int,\n",
       "            {u'20180913100107': 30,\n",
       "             u'20180914100156': 7,\n",
       "             u'20180914220208': 4,\n",
       "             u'20180915115425': 3,\n",
       "             u'20180915220059': 8,\n",
       "             u'20180916100118': 2,\n",
       "             u'20180916220033': 15,\n",
       "             u'20180917100342': 8,\n",
       "             u'20180918075510': 50,\n",
       "             u'20180919003800': 17,\n",
       "             u'20180919123806': 2,\n",
       "             u'20180919220108': 4,\n",
       "             u'20180920100522': 13,\n",
       "             u'20180920220102': 8,\n",
       "             u'20180921100113': 14,\n",
       "             u'20180921220134': 8,\n",
       "             u'20180922100157': 19,\n",
       "             u'20180922220057': 47,\n",
       "             u'20180923100316': 43,\n",
       "             u'20180923220427': 29,\n",
       "             u'20180924100354': 97,\n",
       "             u'20180924220042': 26,\n",
       "             u'20180925100100': 134,\n",
       "             u'20180925220052': 276,\n",
       "             u'20180926142037': 7,\n",
       "             u'20180926142055': 137,\n",
       "             u'20180926220146': 157,\n",
       "             u'20180927100044': 196,\n",
       "             u'20180927220034': 167,\n",
       "             u'20180928100051': 260,\n",
       "             u'20180928220433': 146,\n",
       "             u'20180929100556': 98})"
      ]
     },
     "execution_count": 26,
     "metadata": {},
     "output_type": "execute_result"
    }
   ],
   "source": [
    "(control.filter(lambda p: p[\"gfx\"][\"features\"][\"compositor\"] == \"webrender\").map(lambda p: p['buildId']).countByValue())"
   ]
  },
  {
   "cell_type": "code",
   "execution_count": 27,
   "metadata": {},
   "outputs": [
    {
     "data": {
      "text/plain": [
       "0.25214016664764294"
      ]
     },
     "execution_count": 27,
     "metadata": {},
     "output_type": "execute_result"
    }
   ],
   "source": [
    "(treatment\n",
    " #.filter(lambda p: p[\"gfx\"][\"features\"][\"compositor\"] == \"webrender\")\n",
    ".filter(lambda p: 'gfx.webrender.all.qualified' not in p['settings']['userPrefs'])\n",
    " # .map(lambda p: p[\"gfx\"][\"features\"][\"wrQualified\"]['status']).countByValue()\n",
    " #.filter(lambda p: int(p['buildId']) > 20180913100107  )\n",
    " #.map(lambda p: p['experiments']).take(8)\n",
    " #.map(lambda p: int(p['buildId'])).countByValue()\n",
    "\n",
    " #.map(lambda p: p[\"gfx\"][\"features\"][\"compositor\"]).countByValue()\n",
    " #.filter(lambda p: p[\"gfx\"][\"features\"][\"compositor\"] =='d3d11')\n",
    "\n",
    "#.map(lambda p: (p['buildId'], p['adapter']['description'], p['settings']['userPrefs'])).take(9)\n",
    ".count()\n",
    ")*1./treatment.count()"
   ]
  },
  {
   "cell_type": "code",
   "execution_count": 28,
   "metadata": {},
   "outputs": [],
   "source": [
    "control = control.filter(lambda p: p[\"gfx\"][\"features\"][\"compositor\"] == \"d3d11\")"
   ]
  },
  {
   "cell_type": "code",
   "execution_count": 144,
   "metadata": {},
   "outputs": [
    {
     "data": {
      "text/plain": [
       "[{'adapter': {u'GPUActive': True,\n",
       "   u'RAM': 4096,\n",
       "   u'description': u'NVIDIA GeForce GTX 1050 Ti',\n",
       "   u'deviceID': u'0x1c82',\n",
       "   u'driver': u'C:\\\\Windows\\\\System32\\\\DriverStore\\\\FileRepository\\\\nv_dispi.inf_amd64_cad5fc8f5ca41c15\\\\nvldumdx.dll,C:\\\\Windows\\\\System32\\\\DriverStore\\\\FileRepository\\\\nv_dispi.inf_amd64_cad5fc8f5ca41c15\\\\nvldumdx.dll,C:\\\\Windows\\\\System32\\\\DriverStore\\\\FileRepository\\\\nv_dispi.inf_amd64_cad5fc8f5ca41c15\\\\nvldumdx.dll,C:\\\\Windows\\\\System32\\\\DriverStore\\\\FileRepository\\\\nv_dispi.inf_amd64_cad5fc8f5ca41c15\\\\nvldumdx.dll C:\\\\Windows\\\\System32\\\\DriverStore\\\\FileRepository\\\\nv_dispi.inf_amd64_cad5fc8f5ca41c15\\\\nvldumd.dll,C:\\\\Windows\\\\System32\\\\DriverStore\\\\FileRepository\\\\nv_dispi.inf_amd64_cad5fc8f5ca41c15\\\\nvldumd.dll,C:\\\\Windows\\\\System32\\\\DriverStore\\\\FileRepository\\\\nv_dispi.inf_amd64_cad5fc8f5ca41c15\\\\nvldumd.dll,C:\\\\Windows\\\\System32\\\\DriverStore\\\\FileRepository\\\\nv_dispi.inf_amd64_cad5fc8f5ca41c15\\\\nvldumd.dll',\n",
       "   u'driverDate': u'9-18-2018',\n",
       "   u'driverVersion': u'24.21.14.1163',\n",
       "   u'subsysID': u'37331458',\n",
       "   u'vendorID': u'0x10de'},\n",
       "  'buildId': u'20180924100354',\n",
       "  'checkerboardin': {u'10946': 2, u'25645': 1, u'39254': 0, u'7151': 0},\n",
       "  'clientId': u'b5e18c1f-e160-4192-9d8e-49f4235b4bf2',\n",
       "  'composite_time': {u'bucket_count': 50,\n",
       "   u'histogram_type': 0,\n",
       "   u'range': [1, 1000],\n",
       "   u'sum': 220641,\n",
       "   u'values': {u'0': 18504,\n",
       "    u'1': 89883,\n",
       "    u'10': 18,\n",
       "    u'107': 3,\n",
       "    u'11': 8,\n",
       "    u'12': 10,\n",
       "    u'120': 0,\n",
       "    u'14': 7,\n",
       "    u'16': 5,\n",
       "    u'18': 4,\n",
       "    u'2': 29190,\n",
       "    u'20': 3,\n",
       "    u'23': 1,\n",
       "    u'26': 2,\n",
       "    u'29': 3,\n",
       "    u'3': 18922,\n",
       "    u'37': 1,\n",
       "    u'4': 2466,\n",
       "    u'42': 1,\n",
       "    u'47': 2,\n",
       "    u'5': 363,\n",
       "    u'53': 2,\n",
       "    u'6': 139,\n",
       "    u'67': 3,\n",
       "    u'7': 62,\n",
       "    u'75': 1,\n",
       "    u'8': 42,\n",
       "    u'84': 4,\n",
       "    u'9': 18}},\n",
       "  'content_paint': {u'0': 13236,\n",
       "   u'1': 11040,\n",
       "   u'10': 1,\n",
       "   u'11': 1,\n",
       "   u'12': 1,\n",
       "   u'16': 1,\n",
       "   u'18': 0,\n",
       "   u'2': 8182,\n",
       "   u'3': 3400,\n",
       "   u'4': 531,\n",
       "   u'5': 180,\n",
       "   u'6': 37,\n",
       "   u'7': 3,\n",
       "   u'8': 1,\n",
       "   u'9': 2},\n",
       "  'content_paint_phase': {u'dl': {u'bucket_count': 10,\n",
       "    u'histogram_type': 1,\n",
       "    u'range': [1, 100],\n",
       "    u'sum': 11,\n",
       "    u'values': {u'0': 0, u'1': 1, u'13': 0}},\n",
       "   u'flb': {u'bucket_count': 10,\n",
       "    u'histogram_type': 1,\n",
       "    u'range': [1, 100],\n",
       "    u'sum': 88,\n",
       "    u'values': {u'100': 0, u'75': 0, u'88': 1}},\n",
       "   u'fr': {u'bucket_count': 10,\n",
       "    u'histogram_type': 1,\n",
       "    u'range': [1, 100],\n",
       "    u'sum': 0,\n",
       "    u'values': {u'0': 1, u'1': 0}},\n",
       "   u'r': {u'bucket_count': 10,\n",
       "    u'histogram_type': 1,\n",
       "    u'range': [1, 100],\n",
       "    u'sum': 0,\n",
       "    u'values': {u'0': 1, u'1': 0}}},\n",
       "  'experiments': None,\n",
       "  'frame_time': {u'103': 24854,\n",
       "   u'11': 0,\n",
       "   u'120': 887,\n",
       "   u'13': 1,\n",
       "   u'140': 169,\n",
       "   u'15': 18,\n",
       "   u'164': 39,\n",
       "   u'18': 57,\n",
       "   u'192': 16,\n",
       "   u'21': 95,\n",
       "   u'224': 3,\n",
       "   u'25': 111,\n",
       "   u'262': 1,\n",
       "   u'2688': 1,\n",
       "   u'29': 133,\n",
       "   u'306': 2,\n",
       "   u'34': 266,\n",
       "   u'40': 351,\n",
       "   u'417': 3,\n",
       "   u'47': 438,\n",
       "   u'487': 1,\n",
       "   u'5000': 5,\n",
       "   u'55': 325,\n",
       "   u'569': 4,\n",
       "   u'64': 377,\n",
       "   u'665': 2,\n",
       "   u'75': 807,\n",
       "   u'88': 3291},\n",
       "  'frame_time_sum': 4335093,\n",
       "  'gfx': {u'ContentBackend': u'Skia',\n",
       "   u'D2DEnabled': False,\n",
       "   u'DWriteEnabled': True,\n",
       "   u'adapters': [{u'GPUActive': True,\n",
       "     u'RAM': 4096,\n",
       "     u'description': u'NVIDIA GeForce GTX 1050 Ti',\n",
       "     u'deviceID': u'0x1c82',\n",
       "     u'driver': u'C:\\\\Windows\\\\System32\\\\DriverStore\\\\FileRepository\\\\nv_dispi.inf_amd64_cad5fc8f5ca41c15\\\\nvldumdx.dll,C:\\\\Windows\\\\System32\\\\DriverStore\\\\FileRepository\\\\nv_dispi.inf_amd64_cad5fc8f5ca41c15\\\\nvldumdx.dll,C:\\\\Windows\\\\System32\\\\DriverStore\\\\FileRepository\\\\nv_dispi.inf_amd64_cad5fc8f5ca41c15\\\\nvldumdx.dll,C:\\\\Windows\\\\System32\\\\DriverStore\\\\FileRepository\\\\nv_dispi.inf_amd64_cad5fc8f5ca41c15\\\\nvldumdx.dll C:\\\\Windows\\\\System32\\\\DriverStore\\\\FileRepository\\\\nv_dispi.inf_amd64_cad5fc8f5ca41c15\\\\nvldumd.dll,C:\\\\Windows\\\\System32\\\\DriverStore\\\\FileRepository\\\\nv_dispi.inf_amd64_cad5fc8f5ca41c15\\\\nvldumd.dll,C:\\\\Windows\\\\System32\\\\DriverStore\\\\FileRepository\\\\nv_dispi.inf_amd64_cad5fc8f5ca41c15\\\\nvldumd.dll,C:\\\\Windows\\\\System32\\\\DriverStore\\\\FileRepository\\\\nv_dispi.inf_amd64_cad5fc8f5ca41c15\\\\nvldumd.dll',\n",
       "     u'driverDate': u'9-18-2018',\n",
       "     u'driverVersion': u'24.21.14.1163',\n",
       "     u'subsysID': u'37331458',\n",
       "     u'vendorID': u'0x10de'}],\n",
       "   u'features': {u'advancedLayers': {u'status': u'available'},\n",
       "    u'compositor': u'webrender',\n",
       "    u'd2d': {u'status': u'available', u'version': u'1.1'},\n",
       "    u'd3d11': {u'blacklisted': False,\n",
       "     u'status': u'available',\n",
       "     u'textureSharing': True,\n",
       "     u'version': 45312,\n",
       "     u'warp': False},\n",
       "    u'gpuProcess': {u'status': u'available'},\n",
       "    u'webrender': {u'status': u'available'},\n",
       "    u'wrQualified': {u'status': u'available'}},\n",
       "   u'monitors': [{u'pseudoDisplay': False,\n",
       "     u'refreshRate': 60,\n",
       "     u'screenHeight': 1080,\n",
       "     u'screenWidth': 1920}]},\n",
       "  'osName': u'Windows_NT',\n",
       "  'settings': {u'addonCompatibilityCheckEnabled': True,\n",
       "   u'attribution': {u'campaign': u'%2528not%2Bset%2529',\n",
       "    u'content': u'%2528not%2Bset%2529',\n",
       "    u'medium': u'referral',\n",
       "    u'source': u'duckduckgo.com'},\n",
       "   u'blocklistEnabled': True,\n",
       "   u'defaultSearchEngine': u'ddg',\n",
       "   u'defaultSearchEngineData': {u'loadPath': u'jar:[app]/omni.ja!/ddg.xml',\n",
       "    u'name': u'DuckDuckGo',\n",
       "    u'origin': u'default',\n",
       "    u'submissionURL': u'https://duckduckgo.com/?q=&t=ffsb'},\n",
       "   u'e10sEnabled': True,\n",
       "   u'e10sMultiProcesses': 7,\n",
       "   u'isDefaultBrowser': True,\n",
       "   u'locale': u'en-US',\n",
       "   u'sandbox': {u'effectiveContentProcessLevel': 5},\n",
       "   u'telemetryEnabled': True,\n",
       "   u'update': {u'autoDownload': True,\n",
       "    u'channel': u'nightly',\n",
       "    u'enabled': True},\n",
       "   u'userPrefs': {u'accessibility.force_disabled': 1,\n",
       "    u'browser.cache.disk.capacity': 1048576,\n",
       "    u'browser.search.region': u'DK',\n",
       "    u'browser.search.widget.inNavBar': False,\n",
       "    u'browser.startup.page': 3,\n",
       "    u'dom.ipc.processCount': 7}},\n",
       "  'tab_switch': {u'0': 0,\n",
       "   u'1': 78,\n",
       "   u'13': 0,\n",
       "   u'2': 33,\n",
       "   u'3': 5,\n",
       "   u'4': 3,\n",
       "   u'6': 1,\n",
       "   u'9': 1}}]"
      ]
     },
     "execution_count": 144,
     "metadata": {},
     "output_type": "execute_result"
    }
   ],
   "source": [
    "wrQualified.take(1)"
   ]
  },
  {
   "cell_type": "code",
   "execution_count": 25,
   "metadata": {},
   "outputs": [
    {
     "data": {
      "text/plain": [
       "(8333, 5712)"
      ]
     },
     "execution_count": 25,
     "metadata": {},
     "output_type": "execute_result"
    }
   ],
   "source": [
    "wrEnabled = treatment.filter(lambda p: p[\"gfx\"][\"features\"][\"compositor\"] == \"webrender\")\n",
    "wrDisabled = control.filter(lambda p: p[\"gfx\"][\"features\"][\"compositor\"] == \"d3d11\")\n",
    "wrEnabled.count(), wrDisabled.count()"
   ]
  },
  {
   "cell_type": "code",
   "execution_count": 25,
   "metadata": {},
   "outputs": [],
   "source": [
    "def aggregateHist(p, hist):\n",
    "    aggregated = p.map(hist).map(lambda p: pd.Series(p)).reduce(aggregate_series)\n",
    "    aggregated.index = [int(i) for i in aggregated.index]\n",
    "    aggregated = aggregated.sort_index()\n",
    "    return aggregated"
   ]
  },
  {
   "cell_type": "code",
   "execution_count": 82,
   "metadata": {},
   "outputs": [
    {
     "data": {
      "text/plain": [
       "<matplotlib.axes._subplots.AxesSubplot at 0x7fba58bfba50>"
      ]
     },
     "execution_count": 82,
     "metadata": {},
     "output_type": "execute_result"
    },
    {
     "data": {
      "image/png": "[encoded data removed]",
      "text/plain": [
       "<matplotlib.figure.Figure at 0x7fba588c5250>"
      ]
     },
     "metadata": {},
     "output_type": "display_data"
    }
   ],
   "source": [
    "df = pd.DataFrame()\n",
    "target = wrDisabled\n",
    "df['flb'] = aggregateHist(target.filter(lambda p: p['content_paint_phase']),\n",
    "              lambda p: p['content_paint_phase']['flb']['values'])\n",
    "df['r'] = aggregateHist(target.filter(lambda p: p['content_paint_phase']),\n",
    "              lambda p: p['content_paint_phase']['r']['values'])\n",
    "df['fr'] = aggregateHist(target.filter(lambda p: p['content_paint_phase']),\n",
    "              lambda p: p['content_paint_phase']['fr']['values'])\n",
    "df['dl'] = aggregateHist(target.filter(lambda p: p['content_paint_phase']),\n",
    "              lambda p: p['content_paint_phase']['dl']['values'])\n",
    "df.plot(kind='bar')"
   ]
  },
  {
   "cell_type": "code",
   "execution_count": 84,
   "metadata": {},
   "outputs": [
    {
     "data": {
      "text/plain": [
       "<matplotlib.axes._subplots.AxesSubplot at 0x7fba5acc8cd0>"
      ]
     },
     "execution_count": 84,
     "metadata": {},
     "output_type": "execute_result"
    },
    {
     "data": {
      "image/png": "[encoded data removed]",
      "text/plain": [
       "<matplotlib.figure.Figure at 0x7fba59135690>"
      ]
     },
     "metadata": {},
     "output_type": "display_data"
    }
   ],
   "source": [
    "df = pd.DataFrame()\n",
    "target = wrEnabled\n",
    "df['flb'] = aggregateHist(target.filter(lambda p: p['content_paint_phase']),\n",
    "              lambda p: p['content_paint_phase']['flb']['values'])\n",
    "df['dl'] = aggregateHist(target.filter(lambda p: p['content_paint_phase']),\n",
    "              lambda p: p['content_paint_phase']['dl']['values'])\n",
    "df.plot(kind='bar')"
   ]
  },
  {
   "cell_type": "code",
   "execution_count": 68,
   "metadata": {},
   "outputs": [
    {
     "data": {
      "text/plain": [
       "0       6421.0\n",
       "1      67671.0\n",
       "13     31523.0\n",
       "26      9367.0\n",
       "38      1228.0\n",
       "51       300.0\n",
       "63       187.0\n",
       "75       164.0\n",
       "88        71.0\n",
       "100        0.0\n",
       "dtype: float64"
      ]
     },
     "execution_count": 68,
     "metadata": {},
     "output_type": "execute_result"
    }
   ],
   "source": [
    "\n",
    "\n",
    "    \n",
    "\n",
    "aggregated_enabled = (wrDisabled\n",
    " .filter(lambda p: p['content_paint_phase'])\n",
    " .map(lambda p: p['content_paint_phase'])\n",
    " .map(lambda p: p['flb']['values'])\n",
    " .map(lambda p: pd.Series(p))\n",
    " .reduce(aggregate_series)\n",
    " #.map(lambda p: [sum(v[\"values\"].values()) for k, v in p.items()])\n",
    ")\n",
    "aggregated_enabled.index = [int(i) for i in aggregated_enabled.index]\n",
    "aggregated_enabled = aggregated_enabled.sort_index()\n",
    "aggregated_enabled"
   ]
  },
  {
   "cell_type": "code",
   "execution_count": 30,
   "metadata": {},
   "outputs": [
    {
     "data": {
      "text/plain": [
       "0.6519803675379523"
      ]
     },
     "execution_count": 30,
     "metadata": {},
     "output_type": "execute_result"
    }
   ],
   "source": [
    "control.count()/(treatment.count()*1.)"
   ]
  },
  {
   "cell_type": "code",
   "execution_count": 31,
   "metadata": {},
   "outputs": [
    {
     "data": {
      "text/plain": [
       "[0.32599018376897615,\n",
       " 0.32599018376897615,\n",
       " 0.32599018376897615,\n",
       " 0.02202944869307155]"
      ]
     },
     "execution_count": 31,
     "metadata": {},
     "output_type": "execute_result"
    }
   ],
   "source": [
    "treatment1 = treatment.sample(False, control.count()/(treatment.count()*1.0))\n",
    "treatment2 = treatment.sample(False, control.count()/(treatment.count()*1.0))\n",
    "treatment3 = treatment.sample(False, control.count()/(treatment.count()*1.0))\n",
    "(control1,control2) = control.randomSplit([0.5, 0.5])\n",
    "ratio = control.count()/(treatment.count()*1.)\n",
    "(treatment1,treatment2,treatment3, treatment4) = treatment.randomSplit([ratio*.5,ratio*.5, ratio*.5, 1-ratio*.5*3])\n",
    "[ratio*.5,ratio*.5, ratio*.5, 1-ratio*.5*3]\n",
    "\n",
    "\n"
   ]
  },
  {
   "cell_type": "code",
   "execution_count": 32,
   "metadata": {},
   "outputs": [
    {
     "data": {
      "text/plain": [
       "(8761, 2807, 2901, 2869, 2884, 2828)"
      ]
     },
     "execution_count": 32,
     "metadata": {},
     "output_type": "execute_result"
    }
   ],
   "source": [
    "treatment.count(), treatment1.count(), treatment2.count(), treatment3.count(),  control1.count(), control2.count()"
   ]
  },
  {
   "cell_type": "code",
   "execution_count": 28,
   "metadata": {},
   "outputs": [
    {
     "data": {
      "text/plain": [
       "defaultdict(int,\n",
       "            {u'20180721220720': 1,\n",
       "             u'20180722100230': 5,\n",
       "             u'20180722220044': 1,\n",
       "             u'20180723100101': 3,\n",
       "             u'20180723220051': 3,\n",
       "             u'20180724100052': 2,\n",
       "             u'20180724223402': 1,\n",
       "             u'20180725103029': 6,\n",
       "             u'20180726001822': 3,\n",
       "             u'20180726100339': 3,\n",
       "             u'20180726220124': 3,\n",
       "             u'20180727103347': 4,\n",
       "             u'20180727231224': 2,\n",
       "             u'20180728101501': 2,\n",
       "             u'20180728220145': 4,\n",
       "             u'20180729100102': 2,\n",
       "             u'20180729220222': 4,\n",
       "             u'20180730100211': 6,\n",
       "             u'20180730221422': 8,\n",
       "             u'20180731105217': 5,\n",
       "             u'20180731220208': 12,\n",
       "             u'20180801100116': 8,\n",
       "             u'20180801223951': 9,\n",
       "             u'20180802100128': 15,\n",
       "             u'20180802220056': 20,\n",
       "             u'20180803104322': 16,\n",
       "             u'20180803220259': 41,\n",
       "             u'20180804124335': 41,\n",
       "             u'20180804220307': 106,\n",
       "             u'20180805100054': 263,\n",
       "             u'20180805231147': 272,\n",
       "             u'20180806100140': 278})"
      ]
     },
     "execution_count": 28,
     "metadata": {},
     "output_type": "execute_result"
    }
   ],
   "source": [
    "wrQualified.map(lambda p: p['buildId']).countByValue()"
   ]
  },
  {
   "cell_type": "code",
   "execution_count": 50,
   "metadata": {},
   "outputs": [
    {
     "data": {
      "text/plain": [
       "defaultdict(int, {u'basic': 64, u'd3d11': 1034, u'webrender': 637})"
      ]
     },
     "execution_count": 50,
     "metadata": {},
     "output_type": "execute_result"
    }
   ],
   "source": [
    "normandy = treatment.filter(lambda p: p['buildId'] == '20180731105217')\n",
    "treatment.map(lambda p: p[\"gfx\"][\"features\"][\"compositor\"]).countByValue()\n",
    "#normandy.count()\n",
    "#normandy.map(lambda p: p[\"adapter\"][\"deviceID\"]).countByValue()\n",
    "#normandy.filter(lambda p: p[\"gfx\"][\"features\"][\"compositor\"] == \"webrender\").take(4)\n"
   ]
  },
  {
   "cell_type": "markdown",
   "metadata": {},
   "source": [
    "Let's group the startup timings by OS:"
   ]
  },
  {
   "cell_type": "code",
   "execution_count": null,
   "metadata": {},
   "outputs": [],
   "source": [
    "grouped = (\n",
    "    cached\n",
    "    .map(lambda p: (p['osName'], p['firstPaint']))\n",
    "    .groupByKey()\n",
    "    .collectAsMap()\n",
    ")"
   ]
  },
  {
   "cell_type": "markdown",
   "metadata": {},
   "source": [
    "And finally plot the data:"
   ]
  },
  {
   "cell_type": "code",
   "execution_count": null,
   "metadata": {},
   "outputs": [],
   "source": [
    "frame = pd.DataFrame({x: np.log10(pd.Series(list(y))) for x, y in grouped.items()})\n",
    "plt.figure(figsize=(17, 7))\n",
    "frame.boxplot(return_type='axes')\n",
    "plt.ylabel('log10(firstPaint)')\n",
    "plt.show()"
   ]
  },
  {
   "cell_type": "code",
   "execution_count": null,
   "metadata": {},
   "outputs": [],
   "source": [
    "plt.title('startup distribution for Windows')\n",
    "plt.ylabel('count')\n",
    "plt.xlabel('log10(firstPaint)')\n",
    "frame['Windows_NT'].plot(kind='hist', bins=50, figsize=(14, 7))"
   ]
  },
  {
   "cell_type": "markdown",
   "metadata": {},
   "source": [
    "### Histograms"
   ]
  },
  {
   "cell_type": "markdown",
   "metadata": {},
   "source": [
    "Let's extract a histogram of GC_MARK_MS (time spent running JS garbage collection mark phase) from the submissions:\n",
    "\n",
    "(see https://developer.mozilla.org/en-US/docs/Web/JavaScript/Memory_Management for more information)"
   ]
  },
  {
   "cell_type": "code",
   "execution_count": null,
   "metadata": {
    "scrolled": true
   },
   "outputs": [],
   "source": [
    "histograms = (\n",
    "    pings_dataset\n",
    "    .select(GC_MARK_MS_content='payload.processes.content.histograms.GC_MARK_MS.values',\n",
    "            GC_MARK_MS_parent='payload.histograms.GC_MARK_MS.values')\n",
    "    .records(sc, sample=0.05)\n",
    ")"
   ]
  },
  {
   "cell_type": "markdown",
   "metadata": {},
   "source": [
    "- `payload.histograms.GC_MARK_MS.values` is a path to the GC_MARK_MS values of the parent (main) process\n",
    "- `payload.processes.content.histograms.GC_MARK_MS.values` is a path to the GC_MARK_MS values of the child processes\n",
    "\n",
    "Let's aggregate the histogram over all submissions and plot it as a histogram.  Since the parent and child processes are recorded separately, we can create a histogram for each one and then add them together.\n",
    "\n",
    "Each histogram is a pandas series where the index is the bucket and the value is the count."
   ]
  },
  {
   "cell_type": "code",
   "execution_count": 34,
   "metadata": {},
   "outputs": [],
   "source": [
    "def aggregate_series(s1, s2):\n",
    "    \"\"\"Function to sum up series; if one is None, return other\"\"\"\n",
    "    if s1 is None:\n",
    "        return s2\n",
    "    if s2 is None:\n",
    "        return s1\n",
    "    return s1.add(s2, fill_value=0)"
   ]
  },
  {
   "cell_type": "code",
   "execution_count": 39,
   "metadata": {
    "scrolled": false
   },
   "outputs": [],
   "source": [
    "aggregated_enabled = (\n",
    "    treatment1\n",
    "    .map(lambda p: pd.Series(p['content_paint']))\n",
    "    .reduce(aggregate_series)\n",
    ")\n",
    "aggregated_enabled.index = [int(i) for i in aggregated_enabled.index]\n",
    "aggregated_enabled = aggregated_enabled.sort_index()\n",
    "\n",
    "aggregated_disabled = (\n",
    "    control1\n",
    "    .map(lambda p: pd.Series(p['content_paint']))\n",
    "    .reduce(aggregate_series)\n",
    ")\n",
    "aggregated_disabled.index = [int(i) for i in aggregated_disabled.index]\n",
    "aggregated_disabled = aggregated_disabled.sort_index()"
   ]
  },
  {
   "cell_type": "code",
   "execution_count": 88,
   "metadata": {},
   "outputs": [
    {
     "data": {
      "text/plain": [
       "14608178.0"
      ]
     },
     "execution_count": 88,
     "metadata": {},
     "output_type": "execute_result"
    }
   ],
   "source": [
    "aggregated_disabled.sum()"
   ]
  },
  {
   "cell_type": "code",
   "execution_count": 89,
   "metadata": {},
   "outputs": [
    {
     "data": {
      "text/plain": [
       "13402149.0"
      ]
     },
     "execution_count": 89,
     "metadata": {},
     "output_type": "execute_result"
    }
   ],
   "source": [
    "aggregated_enabled.sum()"
   ]
  },
  {
   "cell_type": "code",
   "execution_count": 90,
   "metadata": {},
   "outputs": [
    {
     "data": {
      "text/plain": [
       "0.9505665935888787"
      ]
     },
     "execution_count": 90,
     "metadata": {},
     "output_type": "execute_result"
    }
   ],
   "source": [
    "aggregated_disabled.loc[0:7].sum()/aggregated_disabled.sum()"
   ]
  },
  {
   "cell_type": "code",
   "execution_count": 91,
   "metadata": {},
   "outputs": [
    {
     "data": {
      "text/plain": [
       "0.9224537796140007"
      ]
     },
     "execution_count": 91,
     "metadata": {},
     "output_type": "execute_result"
    }
   ],
   "source": [
    "aggregated_enabled.loc[0:7].sum()/aggregated_enabled.sum()"
   ]
  },
  {
   "cell_type": "code",
   "execution_count": 92,
   "metadata": {},
   "outputs": [
    {
     "data": {
      "text/plain": [
       "0.32160110420979987"
      ]
     },
     "execution_count": 92,
     "metadata": {},
     "output_type": "execute_result"
    }
   ],
   "source": [
    "aggregated_disabled.loc[16].sum()/aggregated_disabled.loc[16:].sum()\n"
   ]
  },
  {
   "cell_type": "code",
   "execution_count": 93,
   "metadata": {},
   "outputs": [
    {
     "data": {
      "text/plain": [
       "0.33562027031006153"
      ]
     },
     "execution_count": 93,
     "metadata": {},
     "output_type": "execute_result"
    }
   ],
   "source": [
    "aggregated_enabled.loc[16].sum()/aggregated_enabled.loc[16:].sum()\n"
   ]
  },
  {
   "cell_type": "code",
   "execution_count": 94,
   "metadata": {},
   "outputs": [
    {
     "data": {
      "text/plain": [
       "3710.0"
      ]
     },
     "execution_count": 94,
     "metadata": {},
     "output_type": "execute_result"
    }
   ],
   "source": [
    "aggregated_enabled[22:].sum()"
   ]
  },
  {
   "cell_type": "code",
   "execution_count": 95,
   "metadata": {},
   "outputs": [
    {
     "data": {
      "text/plain": [
       "5287.0"
      ]
     },
     "execution_count": 95,
     "metadata": {},
     "output_type": "execute_result"
    }
   ],
   "source": [
    "aggregated_disabled[22:].sum()"
   ]
  },
  {
   "cell_type": "code",
   "execution_count": 43,
   "metadata": {},
   "outputs": [
    {
     "data": {
      "text/plain": [
       "(85764050.0, 93993025.0)"
      ]
     },
     "execution_count": 43,
     "metadata": {},
     "output_type": "execute_result"
    }
   ],
   "source": [
    "aggregated_disabled.sum(), aggregated_enabled.sum()\n"
   ]
  },
  {
   "cell_type": "code",
   "execution_count": 51,
   "metadata": {},
   "outputs": [
    {
     "data": {
      "text/plain": [
       "(189655.0, 347631.0)"
      ]
     },
     "execution_count": 51,
     "metadata": {},
     "output_type": "execute_result"
    }
   ],
   "source": [
    "aggregated_disabled[18:].sum(), aggregated_enabled[18:].sum()\n"
   ]
  },
  {
   "cell_type": "code",
   "execution_count": 61,
   "metadata": {},
   "outputs": [
    {
     "data": {
      "text/plain": [
       "0.0017410121655303677"
      ]
     },
     "execution_count": 61,
     "metadata": {},
     "output_type": "execute_result"
    }
   ],
   "source": [
    "aggregated_enabled[20:].sum()/aggregated_enabled[0:].sum()"
   ]
  },
  {
   "cell_type": "code",
   "execution_count": 62,
   "metadata": {},
   "outputs": [
    {
     "data": {
      "text/plain": [
       "0.0012687600457301166"
      ]
     },
     "execution_count": 62,
     "metadata": {},
     "output_type": "execute_result"
    }
   ],
   "source": [
    "aggregated_disabled[20:].sum()/aggregated_disabled[0:].sum()"
   ]
  },
  {
   "cell_type": "code",
   "execution_count": 1,
   "metadata": {},
   "outputs": [
    {
     "ename": "NameError",
     "evalue": "name 'aggregated_enabled' is not defined",
     "output_type": "error",
     "traceback": [
      "\u001b[0;31m\u001b[0m",
      "\u001b[0;31mNameError\u001b[0mTraceback (most recent call last)",
      "\u001b[0;32m<ipython-input-1-4d115c0883d1>\u001b[0m in \u001b[0;36m<module>\u001b[0;34m()\u001b[0m\n\u001b[0;32m----> 1\u001b[0;31m \u001b[0mpercent_enabled\u001b[0m \u001b[0;34m=\u001b[0m \u001b[0maggregated_enabled\u001b[0m\u001b[0;34m[\u001b[0m\u001b[0;36m20\u001b[0m\u001b[0;34m:\u001b[0m\u001b[0;34m]\u001b[0m\u001b[0;34m.\u001b[0m\u001b[0mmap\u001b[0m\u001b[0;34m(\u001b[0m\u001b[0;32mlambda\u001b[0m \u001b[0mx\u001b[0m\u001b[0;34m:\u001b[0m \u001b[0mx\u001b[0m\u001b[0;34m/\u001b[0m\u001b[0maggregated_enabled\u001b[0m\u001b[0;34m[\u001b[0m\u001b[0;36m0\u001b[0m\u001b[0;34m:\u001b[0m\u001b[0;34m]\u001b[0m\u001b[0;34m.\u001b[0m\u001b[0msum\u001b[0m\u001b[0;34m(\u001b[0m\u001b[0;34m)\u001b[0m\u001b[0;34m)\u001b[0m\u001b[0;34m\u001b[0m\u001b[0m\n\u001b[0m\u001b[1;32m      2\u001b[0m \u001b[0mpercent_disabled\u001b[0m \u001b[0;34m=\u001b[0m \u001b[0maggregated_disabled\u001b[0m\u001b[0;34m[\u001b[0m\u001b[0;36m20\u001b[0m\u001b[0;34m:\u001b[0m\u001b[0;34m]\u001b[0m\u001b[0;34m.\u001b[0m\u001b[0mmap\u001b[0m\u001b[0;34m(\u001b[0m\u001b[0;32mlambda\u001b[0m \u001b[0mx\u001b[0m\u001b[0;34m:\u001b[0m \u001b[0mx\u001b[0m\u001b[0;34m/\u001b[0m\u001b[0maggregated_disabled\u001b[0m\u001b[0;34m[\u001b[0m\u001b[0;36m0\u001b[0m\u001b[0;34m:\u001b[0m\u001b[0;34m]\u001b[0m\u001b[0;34m.\u001b[0m\u001b[0msum\u001b[0m\u001b[0;34m(\u001b[0m\u001b[0;34m)\u001b[0m\u001b[0;34m)\u001b[0m\u001b[0;34m\u001b[0m\u001b[0m\n\u001b[1;32m      3\u001b[0m \u001b[0;31m#percent_enabled = aggregated_enabled[23:]\u001b[0m\u001b[0;34m\u001b[0m\u001b[0;34m\u001b[0m\u001b[0m\n\u001b[1;32m      4\u001b[0m \u001b[0;31m#percent_disabled = aggregated_disabled[23:]\u001b[0m\u001b[0;34m\u001b[0m\u001b[0;34m\u001b[0m\u001b[0m\n\u001b[1;32m      5\u001b[0m \u001b[0;34m\u001b[0m\u001b[0m\n",
      "\u001b[0;31mNameError\u001b[0m: name 'aggregated_enabled' is not defined"
     ]
    }
   ],
   "source": [
    "percent_enabled = aggregated_enabled[20:].map(lambda x: x/aggregated_enabled[0:].sum())\n",
    "percent_disabled = aggregated_disabled[20:].map(lambda x: x/aggregated_disabled[0:].sum())\n",
    "#percent_enabled = aggregated_enabled[23:]\n",
    "#percent_disabled = aggregated_disabled[23:]\n",
    "\n",
    "percent = percent_enabled\n",
    "df = pd.DataFrame()\n",
    "df['enabled'] = percent_enabled\n",
    "df['disabled'] = percent_disabled\n",
    "#(percent_enabled - percent_disabled).plot(kind='bar', figsize=(15, 7))\n",
    "p = df.plot(kind='bar', figsize=(15, 7))\n",
    "p.set_xlabel(\"ms\")\n",
    "p.set_ylabel(\"percentage of content paints that happen in less than x ms\")\n"
   ]
  },
  {
   "cell_type": "code",
   "execution_count": null,
   "metadata": {},
   "outputs": [],
   "source": []
  },
  {
   "cell_type": "code",
   "execution_count": null,
   "metadata": {},
   "outputs": [],
   "source": []
  },
  {
   "cell_type": "code",
   "execution_count": 53,
   "metadata": {},
   "outputs": [
    {
     "data": {
      "text/plain": [
       "<matplotlib.text.Text at 0x7f56b8575350>"
      ]
     },
     "execution_count": 53,
     "metadata": {},
     "output_type": "execute_result"
    },
    {
     "data": {
      "image/png": "[encoded data removed]",
      "text/plain": [
       "<matplotlib.figure.Figure at 0x7f56bc854210>"
      ]
     },
     "metadata": {},
     "output_type": "display_data"
    }
   ],
   "source": [
    "p = (100*(percent_disabled - percent_enabled)/percent_disabled).plot(kind='bar', figsize=(15, 7))\n",
    "p.set_xlabel(\"ms\")\n",
    "p.set_ylabel(\"% change in content paint times of x ms from enabling WebRender\")"
   ]
  },
  {
   "cell_type": "code",
   "execution_count": 40,
   "metadata": {},
   "outputs": [],
   "source": [
    "tab_aggregated_enabled = (\n",
    "    treatment1\n",
    "    .map(lambda p: pd.Series(p['tab_switch']))\n",
    "    .reduce(aggregate_series)\n",
    ")\n",
    "tab_aggregated_enabled.index = [int(i) for i in tab_aggregated_enabled.index]\n",
    "tab_aggregated_enabled = tab_aggregated_enabled.sort_index()\n",
    "\n",
    "tab_aggregated_disabled = (\n",
    "    control1\n",
    "    .map(lambda p: pd.Series(p['tab_switch']))\n",
    "    .reduce(aggregate_series)\n",
    ")\n",
    "tab_aggregated_disabled.index = [int(i) for i in tab_aggregated_disabled.index]\n",
    "tab_aggregated_disabled = tab_aggregated_disabled.sort_index()"
   ]
  },
  {
   "cell_type": "code",
   "execution_count": 39,
   "metadata": {},
   "outputs": [
    {
     "data": {
      "text/plain": [
       "<matplotlib.text.Text at 0x7f9ecd51bf50>"
      ]
     },
     "execution_count": 39,
     "metadata": {},
     "output_type": "execute_result"
    },
    {
     "data": {
      "image/png": "[encoded data removed]",
      "text/plain": [
       "<matplotlib.figure.Figure at 0x7f9ecd534650>"
      ]
     },
     "metadata": {},
     "output_type": "display_data"
    }
   ],
   "source": [
    "percent_enabled = tab_aggregated_enabled[0:].map(lambda x: x/tab_aggregated_enabled[0:].sum())\n",
    "percent_disabled = tab_aggregated_disabled[0:].map(lambda x: x/tab_aggregated_disabled[0:].sum())\n",
    "\n",
    "percent = percent_enabled\n",
    "df = pd.DataFrame()\n",
    "df['enabled'] = percent_enabled\n",
    "df['disabled'] = percent_disabled\n",
    "#(percent_enabled - percent_disabled).plot(kind='bar', figsize=(15, 7))\n",
    "p = df.cumsum().plot(kind='bar', figsize=(15, 7))\n",
    "p.set_ylabel(\"percentage of tab switches that happen in less than x ms\")\n",
    "p.set_xlabel(\"ms\")\n",
    "#df"
   ]
  },
  {
   "cell_type": "code",
   "execution_count": 82,
   "metadata": {},
   "outputs": [
    {
     "data": {
      "text/html": [
       "<div>\n",
       "<table border=\"1\" class=\"dataframe\">\n",
       "  <thead>\n",
       "    <tr style=\"text-align: right;\">\n",
       "      <th></th>\n",
       "      <th>enabled</th>\n",
       "      <th>disabled</th>\n",
       "    </tr>\n",
       "  </thead>\n",
       "  <tbody>\n",
       "    <tr>\n",
       "      <th>6</th>\n",
       "      <td>0.000000</td>\n",
       "      <td>0.000013</td>\n",
       "    </tr>\n",
       "    <tr>\n",
       "      <th>9</th>\n",
       "      <td>0.000057</td>\n",
       "      <td>0.000000</td>\n",
       "    </tr>\n",
       "  </tbody>\n",
       "</table>\n",
       "</div>"
      ],
      "text/plain": [
       "    enabled  disabled\n",
       "6  0.000000  0.000013\n",
       "9  0.000057  0.000000"
      ]
     },
     "execution_count": 82,
     "metadata": {},
     "output_type": "execute_result"
    }
   ],
   "source": [
    "percent_enabled = tab_aggregated_enabled[:2].map(lambda x: x/tab_aggregated_enabled[0:].sum())\n",
    "percent_disabled = tab_aggregated_disabled[1:3].map(lambda x: x/tab_aggregated_disabled[0:].sum())\n",
    "\n",
    "percent = percent_enabled\n",
    "df = pd.DataFrame()\n",
    "df['enabled'] = percent_enabled\n",
    "df['disabled'] = percent_disabled\n",
    "df"
   ]
  },
  {
   "cell_type": "code",
   "execution_count": 96,
   "metadata": {},
   "outputs": [
    {
     "data": {
      "text/plain": [
       "<matplotlib.text.Text at 0x7f9ecc89b910>"
      ]
     },
     "execution_count": 96,
     "metadata": {},
     "output_type": "execute_result"
    },
    {
     "data": {
      "image/png": "[encoded data removed]",
      "text/plain": [
       "<matplotlib.figure.Figure at 0x7f9ebff80c10>"
      ]
     },
     "metadata": {},
     "output_type": "display_data"
    }
   ],
   "source": [
    "percent_enabled = tab_aggregated_enabled[:7].map(lambda x: x/tab_aggregated_enabled[0:].sum())\n",
    "percent_disabled = tab_aggregated_disabled[1:8].map(lambda x: x/tab_aggregated_disabled[0:].sum())\n",
    "\n",
    "percent = percent_enabled\n",
    "df = pd.DataFrame()\n",
    "df['enabled'] = percent_enabled\n",
    "df['disabled'] = percent_disabled\n",
    "#(percent_enabled - percent_disabled).plot(kind='bar', figsize=(15, 7))\n",
    "p = df.cumsum().plot(kind='bar', figsize=(15, 7))\n",
    "p.set_ylabel(\"percentage of tab switches that happen in less than x ms\")\n",
    "p.set_xlabel(\"ms\")\n",
    "#df"
   ]
  },
  {
   "cell_type": "code",
   "execution_count": 94,
   "metadata": {},
   "outputs": [
    {
     "data": {
      "text/plain": [
       "0.2990898925705227"
      ]
     },
     "execution_count": 94,
     "metadata": {},
     "output_type": "execute_result"
    }
   ],
   "source": [
    "tab_aggregated_enabled[6:].sum()/tab_aggregated_enabled[0:].sum()"
   ]
  },
  {
   "cell_type": "code",
   "execution_count": 95,
   "metadata": {},
   "outputs": [
    {
     "data": {
      "text/plain": [
       "0.3348200748003639"
      ]
     },
     "execution_count": 95,
     "metadata": {},
     "output_type": "execute_result"
    }
   ],
   "source": [
    "tab_aggregated_disabled[7:].sum()/tab_aggregated_disabled[0:].sum()"
   ]
  },
  {
   "cell_type": "code",
   "execution_count": 93,
   "metadata": {},
   "outputs": [
    {
     "data": {
      "text/plain": [
       "1.1666666666666667"
      ]
     },
     "execution_count": 93,
     "metadata": {},
     "output_type": "execute_result"
    }
   ],
   "source": [
    "0.7/0.6"
   ]
  },
  {
   "cell_type": "code",
   "execution_count": 37,
   "metadata": {},
   "outputs": [
    {
     "data": {
      "text/plain": [
       "<matplotlib.axes._subplots.AxesSubplot at 0x7f9eccf27e10>"
      ]
     },
     "execution_count": 37,
     "metadata": {},
     "output_type": "execute_result"
    },
    {
     "data": {
      "image/png": "[encoded data removed]",
      "text/plain": [
       "<matplotlib.figure.Figure at 0x7f9eccb33310>"
      ]
     },
     "metadata": {},
     "output_type": "display_data"
    }
   ],
   "source": [
    "percent_enabled = tab_aggregated_enabled[0:]\n",
    "percent_disabled = tab_aggregated_disabled[0:]\n",
    "\n",
    "percent = percent_enabled\n",
    "df = pd.DataFrame()\n",
    "df['enabled'] = percent_enabled\n",
    "df['disabled'] = percent_disabled\n",
    "#(percent_enabled - percent_disabled).plot(kind='bar', figsize=(15, 7))\n",
    "df.cumsum().plot(kind='bar', figsize=(15, 7))\n",
    "#df"
   ]
  },
  {
   "cell_type": "code",
   "execution_count": null,
   "metadata": {},
   "outputs": [],
   "source": []
  },
  {
   "cell_type": "code",
   "execution_count": 46,
   "metadata": {},
   "outputs": [
    {
     "data": {
      "text/plain": [
       "<matplotlib.text.Text at 0x7f24f8cffad0>"
      ]
     },
     "execution_count": 46,
     "metadata": {},
     "output_type": "execute_result"
    },
    {
     "data": {
      "image/png": "[encoded data removed]",
      "text/plain": [
       "<matplotlib.figure.Figure at 0x7f24f92b81d0>"
      ]
     },
     "metadata": {},
     "output_type": "display_data"
    }
   ],
   "source": [
    "p = (100*(percent_enabled - percent_disabled) / percent_enabled).plot(kind='bar', figsize=(15, 7))\n",
    "p.set_xlabel(\"ms\")\n",
    "p.set_ylabel(\"% change in tab switches of x ms from enabling WebRender\")"
   ]
  },
  {
   "cell_type": "code",
   "execution_count": null,
   "metadata": {},
   "outputs": [],
   "source": [
    "plt.title('wr_enabled')\n",
    "precent_enabled.plot(kind='bar', figsize=(15, 7))"
   ]
  },
  {
   "cell_type": "code",
   "execution_count": null,
   "metadata": {},
   "outputs": [],
   "source": [
    "plt.title('wr_disabled')\n",
    "aggregated_disabled.plot(kind='bar', figsize=(15, 7))\n",
    "aggregated_enabledd.plot(kind='bar', figs)"
   ]
  },
  {
   "cell_type": "code",
   "execution_count": 36,
   "metadata": {},
   "outputs": [],
   "source": [
    "check_aggregated_enabled = (\n",
    "    treatment1\n",
    "    .map(lambda p: pd.Series(p['checkerboardin']))\n",
    "    .reduce(aggregate_series)\n",
    ")\n",
    "check_aggregated_enabled.index = [int(i) for i in check_aggregated_enabled.index]\n",
    "check_aggregated_enabled = check_aggregated_enabled.sort_index()\n",
    "\n",
    "check_aggregated_disabled = (\n",
    "    control1\n",
    "    .map(lambda p: pd.Series(p['checkerboardin']))\n",
    "    .reduce(aggregate_series)\n",
    ")\n",
    "check_aggregated_disabled.index = [int(i) for i in check_aggregated_disabled.index]\n",
    "check_aggregated_disabled = check_aggregated_disabled.sort_index()\n",
    "\n",
    "check_aggregated_disabled2 = (\n",
    "    treatment2\n",
    "    .map(lambda p: pd.Series(p['checkerboardin']))\n",
    "    .reduce(aggregate_series)\n",
    ")\n",
    "check_aggregated_disabled2.index = [int(i) for i in check_aggregated_disabled2.index]\n",
    "check_aggregated_disabled2 = check_aggregated_disabled2.sort_index()\n",
    "\n",
    "check_aggregated_disabled3 = (\n",
    "    treatment3\n",
    "    .map(lambda p: pd.Series(p['checkerboardin']))\n",
    "    .reduce(aggregate_series)\n",
    ")\n",
    "check_aggregated_disabled3.index = [int(i) for i in check_aggregated_disabled3.index]\n",
    "check_aggregated_disabled3 = check_aggregated_disabled3.sort_index()\n",
    "\n",
    "check_aggregated_disabled4 = (\n",
    "    control2\n",
    "    .map(lambda p: pd.Series(p['checkerboardin']))\n",
    "    .reduce(aggregate_series)\n",
    ")\n",
    "check_aggregated_disabled4.index = [int(i) for i in check_aggregated_disabled4.index]\n",
    "check_aggregated_disabled4 = check_aggregated_disabled4.sort_index()"
   ]
  },
  {
   "cell_type": "code",
   "execution_count": 37,
   "metadata": {},
   "outputs": [
    {
     "data": {
      "text/html": [
       "<div>\n",
       "<table border=\"1\" class=\"dataframe\">\n",
       "  <thead>\n",
       "    <tr style=\"text-align: right;\">\n",
       "      <th></th>\n",
       "      <th>enabled</th>\n",
       "      <th>enabled2</th>\n",
       "      <th>enabled3</th>\n",
       "      <th>disabled</th>\n",
       "      <th>disabled2</th>\n",
       "    </tr>\n",
       "  </thead>\n",
       "  <tbody>\n",
       "    <tr>\n",
       "      <th>0</th>\n",
       "      <td>191.0</td>\n",
       "      <td>169.0</td>\n",
       "      <td>234.0</td>\n",
       "      <td>173.0</td>\n",
       "      <td>202.0</td>\n",
       "    </tr>\n",
       "    <tr>\n",
       "      <th>1</th>\n",
       "      <td>2.0</td>\n",
       "      <td>13.0</td>\n",
       "      <td>1.0</td>\n",
       "      <td>2.0</td>\n",
       "      <td>1.0</td>\n",
       "    </tr>\n",
       "    <tr>\n",
       "      <th>2</th>\n",
       "      <td>4.0</td>\n",
       "      <td>6.0</td>\n",
       "      <td>6.0</td>\n",
       "      <td>3.0</td>\n",
       "      <td>2.0</td>\n",
       "    </tr>\n",
       "    <tr>\n",
       "      <th>3</th>\n",
       "      <td>16.0</td>\n",
       "      <td>13.0</td>\n",
       "      <td>9.0</td>\n",
       "      <td>7.0</td>\n",
       "      <td>7.0</td>\n",
       "    </tr>\n",
       "    <tr>\n",
       "      <th>5</th>\n",
       "      <td>7.0</td>\n",
       "      <td>10.0</td>\n",
       "      <td>15.0</td>\n",
       "      <td>9.0</td>\n",
       "      <td>15.0</td>\n",
       "    </tr>\n",
       "    <tr>\n",
       "      <th>8</th>\n",
       "      <td>18.0</td>\n",
       "      <td>24.0</td>\n",
       "      <td>21.0</td>\n",
       "      <td>23.0</td>\n",
       "      <td>33.0</td>\n",
       "    </tr>\n",
       "    <tr>\n",
       "      <th>12</th>\n",
       "      <td>90.0</td>\n",
       "      <td>86.0</td>\n",
       "      <td>85.0</td>\n",
       "      <td>202.0</td>\n",
       "      <td>187.0</td>\n",
       "    </tr>\n",
       "    <tr>\n",
       "      <th>18</th>\n",
       "      <td>156.0</td>\n",
       "      <td>154.0</td>\n",
       "      <td>167.0</td>\n",
       "      <td>450.0</td>\n",
       "      <td>431.0</td>\n",
       "    </tr>\n",
       "    <tr>\n",
       "      <th>28</th>\n",
       "      <td>70.0</td>\n",
       "      <td>48.0</td>\n",
       "      <td>63.0</td>\n",
       "      <td>97.0</td>\n",
       "      <td>72.0</td>\n",
       "    </tr>\n",
       "    <tr>\n",
       "      <th>43</th>\n",
       "      <td>54.0</td>\n",
       "      <td>54.0</td>\n",
       "      <td>47.0</td>\n",
       "      <td>21.0</td>\n",
       "      <td>23.0</td>\n",
       "    </tr>\n",
       "    <tr>\n",
       "      <th>66</th>\n",
       "      <td>164.0</td>\n",
       "      <td>159.0</td>\n",
       "      <td>123.0</td>\n",
       "      <td>114.0</td>\n",
       "      <td>97.0</td>\n",
       "    </tr>\n",
       "    <tr>\n",
       "      <th>101</th>\n",
       "      <td>294.0</td>\n",
       "      <td>246.0</td>\n",
       "      <td>235.0</td>\n",
       "      <td>138.0</td>\n",
       "      <td>146.0</td>\n",
       "    </tr>\n",
       "    <tr>\n",
       "      <th>155</th>\n",
       "      <td>113.0</td>\n",
       "      <td>122.0</td>\n",
       "      <td>90.0</td>\n",
       "      <td>32.0</td>\n",
       "      <td>20.0</td>\n",
       "    </tr>\n",
       "    <tr>\n",
       "      <th>237</th>\n",
       "      <td>56.0</td>\n",
       "      <td>69.0</td>\n",
       "      <td>33.0</td>\n",
       "      <td>41.0</td>\n",
       "      <td>45.0</td>\n",
       "    </tr>\n",
       "    <tr>\n",
       "      <th>363</th>\n",
       "      <td>137.0</td>\n",
       "      <td>169.0</td>\n",
       "      <td>142.0</td>\n",
       "      <td>170.0</td>\n",
       "      <td>183.0</td>\n",
       "    </tr>\n",
       "    <tr>\n",
       "      <th>556</th>\n",
       "      <td>273.0</td>\n",
       "      <td>324.0</td>\n",
       "      <td>296.0</td>\n",
       "      <td>473.0</td>\n",
       "      <td>452.0</td>\n",
       "    </tr>\n",
       "    <tr>\n",
       "      <th>851</th>\n",
       "      <td>242.0</td>\n",
       "      <td>250.0</td>\n",
       "      <td>242.0</td>\n",
       "      <td>302.0</td>\n",
       "      <td>310.0</td>\n",
       "    </tr>\n",
       "    <tr>\n",
       "      <th>1303</th>\n",
       "      <td>163.0</td>\n",
       "      <td>175.0</td>\n",
       "      <td>174.0</td>\n",
       "      <td>186.0</td>\n",
       "      <td>121.0</td>\n",
       "    </tr>\n",
       "    <tr>\n",
       "      <th>1994</th>\n",
       "      <td>221.0</td>\n",
       "      <td>222.0</td>\n",
       "      <td>254.0</td>\n",
       "      <td>164.0</td>\n",
       "      <td>153.0</td>\n",
       "    </tr>\n",
       "    <tr>\n",
       "      <th>3052</th>\n",
       "      <td>474.0</td>\n",
       "      <td>627.0</td>\n",
       "      <td>536.0</td>\n",
       "      <td>584.0</td>\n",
       "      <td>558.0</td>\n",
       "    </tr>\n",
       "    <tr>\n",
       "      <th>4672</th>\n",
       "      <td>410.0</td>\n",
       "      <td>307.0</td>\n",
       "      <td>356.0</td>\n",
       "      <td>295.0</td>\n",
       "      <td>306.0</td>\n",
       "    </tr>\n",
       "    <tr>\n",
       "      <th>7151</th>\n",
       "      <td>358.0</td>\n",
       "      <td>286.0</td>\n",
       "      <td>354.0</td>\n",
       "      <td>318.0</td>\n",
       "      <td>368.0</td>\n",
       "    </tr>\n",
       "    <tr>\n",
       "      <th>10946</th>\n",
       "      <td>274.0</td>\n",
       "      <td>241.0</td>\n",
       "      <td>247.0</td>\n",
       "      <td>291.0</td>\n",
       "      <td>277.0</td>\n",
       "    </tr>\n",
       "    <tr>\n",
       "      <th>16754</th>\n",
       "      <td>232.0</td>\n",
       "      <td>200.0</td>\n",
       "      <td>199.0</td>\n",
       "      <td>199.0</td>\n",
       "      <td>259.0</td>\n",
       "    </tr>\n",
       "    <tr>\n",
       "      <th>25645</th>\n",
       "      <td>291.0</td>\n",
       "      <td>260.0</td>\n",
       "      <td>227.0</td>\n",
       "      <td>238.0</td>\n",
       "      <td>253.0</td>\n",
       "    </tr>\n",
       "    <tr>\n",
       "      <th>39254</th>\n",
       "      <td>441.0</td>\n",
       "      <td>389.0</td>\n",
       "      <td>302.0</td>\n",
       "      <td>345.0</td>\n",
       "      <td>324.0</td>\n",
       "    </tr>\n",
       "    <tr>\n",
       "      <th>60084</th>\n",
       "      <td>734.0</td>\n",
       "      <td>590.0</td>\n",
       "      <td>538.0</td>\n",
       "      <td>826.0</td>\n",
       "      <td>684.0</td>\n",
       "    </tr>\n",
       "    <tr>\n",
       "      <th>91968</th>\n",
       "      <td>858.0</td>\n",
       "      <td>732.0</td>\n",
       "      <td>749.0</td>\n",
       "      <td>924.0</td>\n",
       "      <td>999.0</td>\n",
       "    </tr>\n",
       "    <tr>\n",
       "      <th>140771</th>\n",
       "      <td>100.0</td>\n",
       "      <td>25.0</td>\n",
       "      <td>32.0</td>\n",
       "      <td>36.0</td>\n",
       "      <td>17.0</td>\n",
       "    </tr>\n",
       "    <tr>\n",
       "      <th>215471</th>\n",
       "      <td>5.0</td>\n",
       "      <td>7.0</td>\n",
       "      <td>10.0</td>\n",
       "      <td>1.0</td>\n",
       "      <td>3.0</td>\n",
       "    </tr>\n",
       "    <tr>\n",
       "      <th>329810</th>\n",
       "      <td>2.0</td>\n",
       "      <td>6.0</td>\n",
       "      <td>4.0</td>\n",
       "      <td>0.0</td>\n",
       "      <td>0.0</td>\n",
       "    </tr>\n",
       "    <tr>\n",
       "      <th>504823</th>\n",
       "      <td>1.0</td>\n",
       "      <td>1.0</td>\n",
       "      <td>0.0</td>\n",
       "      <td>NaN</td>\n",
       "      <td>1.0</td>\n",
       "    </tr>\n",
       "    <tr>\n",
       "      <th>772707</th>\n",
       "      <td>0.0</td>\n",
       "      <td>3.0</td>\n",
       "      <td>NaN</td>\n",
       "      <td>NaN</td>\n",
       "      <td>0.0</td>\n",
       "    </tr>\n",
       "    <tr>\n",
       "      <th>1182743</th>\n",
       "      <td>1.0</td>\n",
       "      <td>0.0</td>\n",
       "      <td>NaN</td>\n",
       "      <td>NaN</td>\n",
       "      <td>NaN</td>\n",
       "    </tr>\n",
       "    <tr>\n",
       "      <th>1810364</th>\n",
       "      <td>2.0</td>\n",
       "      <td>NaN</td>\n",
       "      <td>NaN</td>\n",
       "      <td>NaN</td>\n",
       "      <td>NaN</td>\n",
       "    </tr>\n",
       "    <tr>\n",
       "      <th>2771032</th>\n",
       "      <td>0.0</td>\n",
       "      <td>NaN</td>\n",
       "      <td>NaN</td>\n",
       "      <td>NaN</td>\n",
       "      <td>NaN</td>\n",
       "    </tr>\n",
       "  </tbody>\n",
       "</table>\n",
       "</div>"
      ],
      "text/plain": [
       "         enabled  enabled2  enabled3  disabled  disabled2\n",
       "0          191.0     169.0     234.0     173.0      202.0\n",
       "1            2.0      13.0       1.0       2.0        1.0\n",
       "2            4.0       6.0       6.0       3.0        2.0\n",
       "3           16.0      13.0       9.0       7.0        7.0\n",
       "5            7.0      10.0      15.0       9.0       15.0\n",
       "8           18.0      24.0      21.0      23.0       33.0\n",
       "12          90.0      86.0      85.0     202.0      187.0\n",
       "18         156.0     154.0     167.0     450.0      431.0\n",
       "28          70.0      48.0      63.0      97.0       72.0\n",
       "43          54.0      54.0      47.0      21.0       23.0\n",
       "66         164.0     159.0     123.0     114.0       97.0\n",
       "101        294.0     246.0     235.0     138.0      146.0\n",
       "155        113.0     122.0      90.0      32.0       20.0\n",
       "237         56.0      69.0      33.0      41.0       45.0\n",
       "363        137.0     169.0     142.0     170.0      183.0\n",
       "556        273.0     324.0     296.0     473.0      452.0\n",
       "851        242.0     250.0     242.0     302.0      310.0\n",
       "1303       163.0     175.0     174.0     186.0      121.0\n",
       "1994       221.0     222.0     254.0     164.0      153.0\n",
       "3052       474.0     627.0     536.0     584.0      558.0\n",
       "4672       410.0     307.0     356.0     295.0      306.0\n",
       "7151       358.0     286.0     354.0     318.0      368.0\n",
       "10946      274.0     241.0     247.0     291.0      277.0\n",
       "16754      232.0     200.0     199.0     199.0      259.0\n",
       "25645      291.0     260.0     227.0     238.0      253.0\n",
       "39254      441.0     389.0     302.0     345.0      324.0\n",
       "60084      734.0     590.0     538.0     826.0      684.0\n",
       "91968      858.0     732.0     749.0     924.0      999.0\n",
       "140771     100.0      25.0      32.0      36.0       17.0\n",
       "215471       5.0       7.0      10.0       1.0        3.0\n",
       "329810       2.0       6.0       4.0       0.0        0.0\n",
       "504823       1.0       1.0       0.0       NaN        1.0\n",
       "772707       0.0       3.0       NaN       NaN        0.0\n",
       "1182743      1.0       0.0       NaN       NaN        NaN\n",
       "1810364      2.0       NaN       NaN       NaN        NaN\n",
       "2771032      0.0       NaN       NaN       NaN        NaN"
      ]
     },
     "execution_count": 37,
     "metadata": {},
     "output_type": "execute_result"
    },
    {
     "data": {
      "image/png": "[encoded data removed]",
      "text/plain": [
       "<matplotlib.figure.Figure at 0x7f56bc834d90>"
      ]
     },
     "metadata": {},
     "output_type": "display_data"
    }
   ],
   "source": [
    "df = pd.DataFrame()\n",
    "df['enabled'] = check_aggregated_enabled\n",
    "df['enabled2'] = check_aggregated_disabled2\n",
    "df['enabled3'] = check_aggregated_disabled3\n",
    "df['disabled'] = check_aggregated_disabled\n",
    "df['disabled2'] = check_aggregated_disabled4\n",
    "\n",
    "\n",
    "\n",
    "#(percent_enabled - percent_disabled).plot(kind='bar', figsize=(15, 7))\n",
    "df.plot(kind='bar', figsize=(15, 7))\n",
    "df\n",
    "\n",
    "#df"
   ]
  },
  {
   "cell_type": "code",
   "execution_count": 82,
   "metadata": {},
   "outputs": [
    {
     "ename": "Py4JJavaError",
     "evalue": "An error occurred while calling z:org.apache.spark.api.python.PythonRDD.runJob.\n: org.apache.spark.SparkException: Job aborted due to stage failure: Task 2 in stage 237.0 failed 4 times, most recent failure: Lost task 2.3 in stage 237.0 (TID 4527, ip-172-31-13-115.us-west-2.compute.internal, executor 2): org.apache.spark.api.python.PythonException: Traceback (most recent call last):\n  File \"/usr/lib/spark/python/pyspark/worker.py\", line 177, in main\n    process()\n  File \"/usr/lib/spark/python/pyspark/worker.py\", line 172, in process\n    serializer.dump_stream(func(split_index, iterator), outfile)\n  File \"/usr/lib/spark/python/pyspark/rdd.py\", line 2423, in pipeline_func\n    return func(split, prev_func(split, iterator))\n  File \"/usr/lib/spark/python/pyspark/rdd.py\", line 2423, in pipeline_func\n    return func(split, prev_func(split, iterator))\n  File \"/usr/lib/spark/python/pyspark/rdd.py\", line 346, in func\n    return f(iterator)\n  File \"/usr/lib/spark/python/pyspark/rdd.py\", line 1842, in combineLocally\n    merger.mergeValues(iterator)\n  File \"/usr/lib/spark/python/pyspark/shuffle.py\", line 236, in mergeValues\n    for k, v in iterator:\n  File \"<ipython-input-82-6b9aeb4be8a3>\", line 18, in explode_user_agg\nNameError: global name 'histograms' is not defined\n\n\tat org.apache.spark.api.python.PythonRunner$$anon$1.read(PythonRDD.scala:193)\n\tat org.apache.spark.api.python.PythonRunner$$anon$1.<init>(PythonRDD.scala:234)\n\tat org.apache.spark.api.python.PythonRunner.compute(PythonRDD.scala:152)\n\tat org.apache.spark.api.python.PythonRDD.compute(PythonRDD.scala:63)\n\tat org.apache.spark.rdd.RDD.computeOrReadCheckpoint(RDD.scala:323)\n\tat org.apache.spark.rdd.RDD.iterator(RDD.scala:287)\n\tat org.apache.spark.api.python.PairwiseRDD.compute(PythonRDD.scala:404)\n\tat org.apache.spark.rdd.RDD.computeOrReadCheckpoint(RDD.scala:323)\n\tat org.apache.spark.rdd.RDD.iterator(RDD.scala:287)\n\tat org.apache.spark.scheduler.ShuffleMapTask.runTask(ShuffleMapTask.scala:96)\n\tat org.apache.spark.scheduler.ShuffleMapTask.runTask(ShuffleMapTask.scala:53)\n\tat org.apache.spark.scheduler.Task.run(Task.scala:108)\n\tat org.apache.spark.executor.Executor$TaskRunner.run(Executor.scala:338)\n\tat java.util.concurrent.ThreadPoolExecutor.runWorker(ThreadPoolExecutor.java:1149)\n\tat java.util.concurrent.ThreadPoolExecutor$Worker.run(ThreadPoolExecutor.java:624)\n\tat java.lang.Thread.run(Thread.java:748)\n\nDriver stacktrace:\n\tat org.apache.spark.scheduler.DAGScheduler.org$apache$spark$scheduler$DAGScheduler$$failJobAndIndependentStages(DAGScheduler.scala:1708)\n\tat org.apache.spark.scheduler.DAGScheduler$$anonfun$abortStage$1.apply(DAGScheduler.scala:1696)\n\tat org.apache.spark.scheduler.DAGScheduler$$anonfun$abortStage$1.apply(DAGScheduler.scala:1695)\n\tat scala.collection.mutable.ResizableArray$class.foreach(ResizableArray.scala:59)\n\tat scala.collection.mutable.ArrayBuffer.foreach(ArrayBuffer.scala:48)\n\tat org.apache.spark.scheduler.DAGScheduler.abortStage(DAGScheduler.scala:1695)\n\tat org.apache.spark.scheduler.DAGScheduler$$anonfun$handleTaskSetFailed$1.apply(DAGScheduler.scala:855)\n\tat org.apache.spark.scheduler.DAGScheduler$$anonfun$handleTaskSetFailed$1.apply(DAGScheduler.scala:855)\n\tat scala.Option.foreach(Option.scala:257)\n\tat org.apache.spark.scheduler.DAGScheduler.handleTaskSetFailed(DAGScheduler.scala:855)\n\tat org.apache.spark.scheduler.DAGSchedulerEventProcessLoop.doOnReceive(DAGScheduler.scala:1923)\n\tat org.apache.spark.scheduler.DAGSchedulerEventProcessLoop.onReceive(DAGScheduler.scala:1878)\n\tat org.apache.spark.scheduler.DAGSchedulerEventProcessLoop.onReceive(DAGScheduler.scala:1867)\n\tat org.apache.spark.util.EventLoop$$anon$1.run(EventLoop.scala:48)\n\tat org.apache.spark.scheduler.DAGScheduler.runJob(DAGScheduler.scala:671)\n\tat org.apache.spark.SparkContext.runJob(SparkContext.scala:2029)\n\tat org.apache.spark.SparkContext.runJob(SparkContext.scala:2050)\n\tat org.apache.spark.SparkContext.runJob(SparkContext.scala:2069)\n\tat org.apache.spark.api.python.PythonRDD$.runJob(PythonRDD.scala:455)\n\tat org.apache.spark.api.python.PythonRDD.runJob(PythonRDD.scala)\n\tat sun.reflect.GeneratedMethodAccessor219.invoke(Unknown Source)\n\tat sun.reflect.DelegatingMethodAccessorImpl.invoke(DelegatingMethodAccessorImpl.java:43)\n\tat java.lang.reflect.Method.invoke(Method.java:498)\n\tat py4j.reflection.MethodInvoker.invoke(MethodInvoker.java:244)\n\tat py4j.reflection.ReflectionEngine.invoke(ReflectionEngine.java:357)\n\tat py4j.Gateway.invoke(Gateway.java:280)\n\tat py4j.commands.AbstractCommand.invokeMethod(AbstractCommand.java:132)\n\tat py4j.commands.CallCommand.execute(CallCommand.java:79)\n\tat py4j.GatewayConnection.run(GatewayConnection.java:214)\n\tat java.lang.Thread.run(Thread.java:748)\nCaused by: org.apache.spark.api.python.PythonException: Traceback (most recent call last):\n  File \"/usr/lib/spark/python/pyspark/worker.py\", line 177, in main\n    process()\n  File \"/usr/lib/spark/python/pyspark/worker.py\", line 172, in process\n    serializer.dump_stream(func(split_index, iterator), outfile)\n  File \"/usr/lib/spark/python/pyspark/rdd.py\", line 2423, in pipeline_func\n    return func(split, prev_func(split, iterator))\n  File \"/usr/lib/spark/python/pyspark/rdd.py\", line 2423, in pipeline_func\n    return func(split, prev_func(split, iterator))\n  File \"/usr/lib/spark/python/pyspark/rdd.py\", line 346, in func\n    return f(iterator)\n  File \"/usr/lib/spark/python/pyspark/rdd.py\", line 1842, in combineLocally\n    merger.mergeValues(iterator)\n  File \"/usr/lib/spark/python/pyspark/shuffle.py\", line 236, in mergeValues\n    for k, v in iterator:\n  File \"<ipython-input-82-6b9aeb4be8a3>\", line 18, in explode_user_agg\nNameError: global name 'histograms' is not defined\n\n\tat org.apache.spark.api.python.PythonRunner$$anon$1.read(PythonRDD.scala:193)\n\tat org.apache.spark.api.python.PythonRunner$$anon$1.<init>(PythonRDD.scala:234)\n\tat org.apache.spark.api.python.PythonRunner.compute(PythonRDD.scala:152)\n\tat org.apache.spark.api.python.PythonRDD.compute(PythonRDD.scala:63)\n\tat org.apache.spark.rdd.RDD.computeOrReadCheckpoint(RDD.scala:323)\n\tat org.apache.spark.rdd.RDD.iterator(RDD.scala:287)\n\tat org.apache.spark.api.python.PairwiseRDD.compute(PythonRDD.scala:404)\n\tat org.apache.spark.rdd.RDD.computeOrReadCheckpoint(RDD.scala:323)\n\tat org.apache.spark.rdd.RDD.iterator(RDD.scala:287)\n\tat org.apache.spark.scheduler.ShuffleMapTask.runTask(ShuffleMapTask.scala:96)\n\tat org.apache.spark.scheduler.ShuffleMapTask.runTask(ShuffleMapTask.scala:53)\n\tat org.apache.spark.scheduler.Task.run(Task.scala:108)\n\tat org.apache.spark.executor.Executor$TaskRunner.run(Executor.scala:338)\n\tat java.util.concurrent.ThreadPoolExecutor.runWorker(ThreadPoolExecutor.java:1149)\n\tat java.util.concurrent.ThreadPoolExecutor$Worker.run(ThreadPoolExecutor.java:624)\n\t... 1 more\n",
     "output_type": "error",
     "traceback": [
      "\u001b[0;31m\u001b[0m",
      "\u001b[0;31mPy4JJavaError\u001b[0mTraceback (most recent call last)",
      "\u001b[0;32m<ipython-input-82-6b9aeb4be8a3>\u001b[0m in \u001b[0;36m<module>\u001b[0;34m()\u001b[0m\n\u001b[1;32m     49\u001b[0m   \u001b[0;34m.\u001b[0m\u001b[0mmap\u001b[0m\u001b[0;34m(\u001b[0m\u001b[0mdeaggregate\u001b[0m\u001b[0;34m)\u001b[0m\u001b[0;34m\u001b[0m\u001b[0m\n\u001b[1;32m     50\u001b[0m )\n\u001b[0;32m---> 51\u001b[0;31m \u001b[0mper_user_key\u001b[0m\u001b[0;34m.\u001b[0m\u001b[0mtake\u001b[0m\u001b[0;34m(\u001b[0m\u001b[0;36m1\u001b[0m\u001b[0;34m)\u001b[0m\u001b[0;34m\u001b[0m\u001b[0m\n\u001b[0m",
      "\u001b[0;32m/usr/lib/spark/python/pyspark/rdd.py\u001b[0m in \u001b[0;36mtake\u001b[0;34m(self, num)\u001b[0m\n\u001b[1;32m   1341\u001b[0m \u001b[0;34m\u001b[0m\u001b[0m\n\u001b[1;32m   1342\u001b[0m             \u001b[0mp\u001b[0m \u001b[0;34m=\u001b[0m \u001b[0mrange\u001b[0m\u001b[0;34m(\u001b[0m\u001b[0mpartsScanned\u001b[0m\u001b[0;34m,\u001b[0m \u001b[0mmin\u001b[0m\u001b[0;34m(\u001b[0m\u001b[0mpartsScanned\u001b[0m \u001b[0;34m+\u001b[0m \u001b[0mnumPartsToTry\u001b[0m\u001b[0;34m,\u001b[0m \u001b[0mtotalParts\u001b[0m\u001b[0;34m)\u001b[0m\u001b[0;34m)\u001b[0m\u001b[0;34m\u001b[0m\u001b[0m\n\u001b[0;32m-> 1343\u001b[0;31m             \u001b[0mres\u001b[0m \u001b[0;34m=\u001b[0m \u001b[0mself\u001b[0m\u001b[0;34m.\u001b[0m\u001b[0mcontext\u001b[0m\u001b[0;34m.\u001b[0m\u001b[0mrunJob\u001b[0m\u001b[0;34m(\u001b[0m\u001b[0mself\u001b[0m\u001b[0;34m,\u001b[0m \u001b[0mtakeUpToNumLeft\u001b[0m\u001b[0;34m,\u001b[0m \u001b[0mp\u001b[0m\u001b[0;34m)\u001b[0m\u001b[0;34m\u001b[0m\u001b[0m\n\u001b[0m\u001b[1;32m   1344\u001b[0m \u001b[0;34m\u001b[0m\u001b[0m\n\u001b[1;32m   1345\u001b[0m             \u001b[0mitems\u001b[0m \u001b[0;34m+=\u001b[0m \u001b[0mres\u001b[0m\u001b[0;34m\u001b[0m\u001b[0m\n",
      "\u001b[0;32m/usr/lib/spark/python/pyspark/context.py\u001b[0m in \u001b[0;36mrunJob\u001b[0;34m(self, rdd, partitionFunc, partitions, allowLocal)\u001b[0m\n\u001b[1;32m    990\u001b[0m         \u001b[0;31m# SparkContext#runJob.\u001b[0m\u001b[0;34m\u001b[0m\u001b[0;34m\u001b[0m\u001b[0m\n\u001b[1;32m    991\u001b[0m         \u001b[0mmappedRDD\u001b[0m \u001b[0;34m=\u001b[0m \u001b[0mrdd\u001b[0m\u001b[0;34m.\u001b[0m\u001b[0mmapPartitions\u001b[0m\u001b[0;34m(\u001b[0m\u001b[0mpartitionFunc\u001b[0m\u001b[0;34m)\u001b[0m\u001b[0;34m\u001b[0m\u001b[0m\n\u001b[0;32m--> 992\u001b[0;31m         \u001b[0mport\u001b[0m \u001b[0;34m=\u001b[0m \u001b[0mself\u001b[0m\u001b[0;34m.\u001b[0m\u001b[0m_jvm\u001b[0m\u001b[0;34m.\u001b[0m\u001b[0mPythonRDD\u001b[0m\u001b[0;34m.\u001b[0m\u001b[0mrunJob\u001b[0m\u001b[0;34m(\u001b[0m\u001b[0mself\u001b[0m\u001b[0;34m.\u001b[0m\u001b[0m_jsc\u001b[0m\u001b[0;34m.\u001b[0m\u001b[0msc\u001b[0m\u001b[0;34m(\u001b[0m\u001b[0;34m)\u001b[0m\u001b[0;34m,\u001b[0m \u001b[0mmappedRDD\u001b[0m\u001b[0;34m.\u001b[0m\u001b[0m_jrdd\u001b[0m\u001b[0;34m,\u001b[0m \u001b[0mpartitions\u001b[0m\u001b[0;34m)\u001b[0m\u001b[0;34m\u001b[0m\u001b[0m\n\u001b[0m\u001b[1;32m    993\u001b[0m         \u001b[0;32mreturn\u001b[0m \u001b[0mlist\u001b[0m\u001b[0;34m(\u001b[0m\u001b[0m_load_from_socket\u001b[0m\u001b[0;34m(\u001b[0m\u001b[0mport\u001b[0m\u001b[0;34m,\u001b[0m \u001b[0mmappedRDD\u001b[0m\u001b[0;34m.\u001b[0m\u001b[0m_jrdd_deserializer\u001b[0m\u001b[0;34m)\u001b[0m\u001b[0;34m)\u001b[0m\u001b[0;34m\u001b[0m\u001b[0m\n\u001b[1;32m    994\u001b[0m \u001b[0;34m\u001b[0m\u001b[0m\n",
      "\u001b[0;32m/usr/lib/spark/python/lib/py4j-0.10.4-src.zip/py4j/java_gateway.py\u001b[0m in \u001b[0;36m__call__\u001b[0;34m(self, *args)\u001b[0m\n\u001b[1;32m   1131\u001b[0m         \u001b[0manswer\u001b[0m \u001b[0;34m=\u001b[0m \u001b[0mself\u001b[0m\u001b[0;34m.\u001b[0m\u001b[0mgateway_client\u001b[0m\u001b[0;34m.\u001b[0m\u001b[0msend_command\u001b[0m\u001b[0;34m(\u001b[0m\u001b[0mcommand\u001b[0m\u001b[0;34m)\u001b[0m\u001b[0;34m\u001b[0m\u001b[0m\n\u001b[1;32m   1132\u001b[0m         return_value = get_return_value(\n\u001b[0;32m-> 1133\u001b[0;31m             answer, self.gateway_client, self.target_id, self.name)\n\u001b[0m\u001b[1;32m   1134\u001b[0m \u001b[0;34m\u001b[0m\u001b[0m\n\u001b[1;32m   1135\u001b[0m         \u001b[0;32mfor\u001b[0m \u001b[0mtemp_arg\u001b[0m \u001b[0;32min\u001b[0m \u001b[0mtemp_args\u001b[0m\u001b[0;34m:\u001b[0m\u001b[0;34m\u001b[0m\u001b[0m\n",
      "\u001b[0;32m/usr/lib/spark/python/pyspark/sql/utils.py\u001b[0m in \u001b[0;36mdeco\u001b[0;34m(*a, **kw)\u001b[0m\n\u001b[1;32m     61\u001b[0m     \u001b[0;32mdef\u001b[0m \u001b[0mdeco\u001b[0m\u001b[0;34m(\u001b[0m\u001b[0;34m*\u001b[0m\u001b[0ma\u001b[0m\u001b[0;34m,\u001b[0m \u001b[0;34m**\u001b[0m\u001b[0mkw\u001b[0m\u001b[0;34m)\u001b[0m\u001b[0;34m:\u001b[0m\u001b[0;34m\u001b[0m\u001b[0m\n\u001b[1;32m     62\u001b[0m         \u001b[0;32mtry\u001b[0m\u001b[0;34m:\u001b[0m\u001b[0;34m\u001b[0m\u001b[0m\n\u001b[0;32m---> 63\u001b[0;31m             \u001b[0;32mreturn\u001b[0m \u001b[0mf\u001b[0m\u001b[0;34m(\u001b[0m\u001b[0;34m*\u001b[0m\u001b[0ma\u001b[0m\u001b[0;34m,\u001b[0m \u001b[0;34m**\u001b[0m\u001b[0mkw\u001b[0m\u001b[0;34m)\u001b[0m\u001b[0;34m\u001b[0m\u001b[0m\n\u001b[0m\u001b[1;32m     64\u001b[0m         \u001b[0;32mexcept\u001b[0m \u001b[0mpy4j\u001b[0m\u001b[0;34m.\u001b[0m\u001b[0mprotocol\u001b[0m\u001b[0;34m.\u001b[0m\u001b[0mPy4JJavaError\u001b[0m \u001b[0;32mas\u001b[0m \u001b[0me\u001b[0m\u001b[0;34m:\u001b[0m\u001b[0;34m\u001b[0m\u001b[0m\n\u001b[1;32m     65\u001b[0m             \u001b[0ms\u001b[0m \u001b[0;34m=\u001b[0m \u001b[0me\u001b[0m\u001b[0;34m.\u001b[0m\u001b[0mjava_exception\u001b[0m\u001b[0;34m.\u001b[0m\u001b[0mtoString\u001b[0m\u001b[0;34m(\u001b[0m\u001b[0;34m)\u001b[0m\u001b[0;34m\u001b[0m\u001b[0m\n",
      "\u001b[0;32m/usr/lib/spark/python/lib/py4j-0.10.4-src.zip/py4j/protocol.py\u001b[0m in \u001b[0;36mget_return_value\u001b[0;34m(answer, gateway_client, target_id, name)\u001b[0m\n\u001b[1;32m    317\u001b[0m                 raise Py4JJavaError(\n\u001b[1;32m    318\u001b[0m                     \u001b[0;34m\"An error occurred while calling {0}{1}{2}.\\n\"\u001b[0m\u001b[0;34m.\u001b[0m\u001b[0;34m\u001b[0m\u001b[0m\n\u001b[0;32m--> 319\u001b[0;31m                     format(target_id, \".\", name), value)\n\u001b[0m\u001b[1;32m    320\u001b[0m             \u001b[0;32melse\u001b[0m\u001b[0;34m:\u001b[0m\u001b[0;34m\u001b[0m\u001b[0m\n\u001b[1;32m    321\u001b[0m                 raise Py4JError(\n",
      "\u001b[0;31mPy4JJavaError\u001b[0m: An error occurred while calling z:org.apache.spark.api.python.PythonRDD.runJob.\n: org.apache.spark.SparkException: Job aborted due to stage failure: Task 2 in stage 237.0 failed 4 times, most recent failure: Lost task 2.3 in stage 237.0 (TID 4527, ip-172-31-13-115.us-west-2.compute.internal, executor 2): org.apache.spark.api.python.PythonException: Traceback (most recent call last):\n  File \"/usr/lib/spark/python/pyspark/worker.py\", line 177, in main\n    process()\n  File \"/usr/lib/spark/python/pyspark/worker.py\", line 172, in process\n    serializer.dump_stream(func(split_index, iterator), outfile)\n  File \"/usr/lib/spark/python/pyspark/rdd.py\", line 2423, in pipeline_func\n    return func(split, prev_func(split, iterator))\n  File \"/usr/lib/spark/python/pyspark/rdd.py\", line 2423, in pipeline_func\n    return func(split, prev_func(split, iterator))\n  File \"/usr/lib/spark/python/pyspark/rdd.py\", line 346, in func\n    return f(iterator)\n  File \"/usr/lib/spark/python/pyspark/rdd.py\", line 1842, in combineLocally\n    merger.mergeValues(iterator)\n  File \"/usr/lib/spark/python/pyspark/shuffle.py\", line 236, in mergeValues\n    for k, v in iterator:\n  File \"<ipython-input-82-6b9aeb4be8a3>\", line 18, in explode_user_agg\nNameError: global name 'histograms' is not defined\n\n\tat org.apache.spark.api.python.PythonRunner$$anon$1.read(PythonRDD.scala:193)\n\tat org.apache.spark.api.python.PythonRunner$$anon$1.<init>(PythonRDD.scala:234)\n\tat org.apache.spark.api.python.PythonRunner.compute(PythonRDD.scala:152)\n\tat org.apache.spark.api.python.PythonRDD.compute(PythonRDD.scala:63)\n\tat org.apache.spark.rdd.RDD.computeOrReadCheckpoint(RDD.scala:323)\n\tat org.apache.spark.rdd.RDD.iterator(RDD.scala:287)\n\tat org.apache.spark.api.python.PairwiseRDD.compute(PythonRDD.scala:404)\n\tat org.apache.spark.rdd.RDD.computeOrReadCheckpoint(RDD.scala:323)\n\tat org.apache.spark.rdd.RDD.iterator(RDD.scala:287)\n\tat org.apache.spark.scheduler.ShuffleMapTask.runTask(ShuffleMapTask.scala:96)\n\tat org.apache.spark.scheduler.ShuffleMapTask.runTask(ShuffleMapTask.scala:53)\n\tat org.apache.spark.scheduler.Task.run(Task.scala:108)\n\tat org.apache.spark.executor.Executor$TaskRunner.run(Executor.scala:338)\n\tat java.util.concurrent.ThreadPoolExecutor.runWorker(ThreadPoolExecutor.java:1149)\n\tat java.util.concurrent.ThreadPoolExecutor$Worker.run(ThreadPoolExecutor.java:624)\n\tat java.lang.Thread.run(Thread.java:748)\n\nDriver stacktrace:\n\tat org.apache.spark.scheduler.DAGScheduler.org$apache$spark$scheduler$DAGScheduler$$failJobAndIndependentStages(DAGScheduler.scala:1708)\n\tat org.apache.spark.scheduler.DAGScheduler$$anonfun$abortStage$1.apply(DAGScheduler.scala:1696)\n\tat org.apache.spark.scheduler.DAGScheduler$$anonfun$abortStage$1.apply(DAGScheduler.scala:1695)\n\tat scala.collection.mutable.ResizableArray$class.foreach(ResizableArray.scala:59)\n\tat scala.collection.mutable.ArrayBuffer.foreach(ArrayBuffer.scala:48)\n\tat org.apache.spark.scheduler.DAGScheduler.abortStage(DAGScheduler.scala:1695)\n\tat org.apache.spark.scheduler.DAGScheduler$$anonfun$handleTaskSetFailed$1.apply(DAGScheduler.scala:855)\n\tat org.apache.spark.scheduler.DAGScheduler$$anonfun$handleTaskSetFailed$1.apply(DAGScheduler.scala:855)\n\tat scala.Option.foreach(Option.scala:257)\n\tat org.apache.spark.scheduler.DAGScheduler.handleTaskSetFailed(DAGScheduler.scala:855)\n\tat org.apache.spark.scheduler.DAGSchedulerEventProcessLoop.doOnReceive(DAGScheduler.scala:1923)\n\tat org.apache.spark.scheduler.DAGSchedulerEventProcessLoop.onReceive(DAGScheduler.scala:1878)\n\tat org.apache.spark.scheduler.DAGSchedulerEventProcessLoop.onReceive(DAGScheduler.scala:1867)\n\tat org.apache.spark.util.EventLoop$$anon$1.run(EventLoop.scala:48)\n\tat org.apache.spark.scheduler.DAGScheduler.runJob(DAGScheduler.scala:671)\n\tat org.apache.spark.SparkContext.runJob(SparkContext.scala:2029)\n\tat org.apache.spark.SparkContext.runJob(SparkContext.scala:2050)\n\tat org.apache.spark.SparkContext.runJob(SparkContext.scala:2069)\n\tat org.apache.spark.api.python.PythonRDD$.runJob(PythonRDD.scala:455)\n\tat org.apache.spark.api.python.PythonRDD.runJob(PythonRDD.scala)\n\tat sun.reflect.GeneratedMethodAccessor219.invoke(Unknown Source)\n\tat sun.reflect.DelegatingMethodAccessorImpl.invoke(DelegatingMethodAccessorImpl.java:43)\n\tat java.lang.reflect.Method.invoke(Method.java:498)\n\tat py4j.reflection.MethodInvoker.invoke(MethodInvoker.java:244)\n\tat py4j.reflection.ReflectionEngine.invoke(ReflectionEngine.java:357)\n\tat py4j.Gateway.invoke(Gateway.java:280)\n\tat py4j.commands.AbstractCommand.invokeMethod(AbstractCommand.java:132)\n\tat py4j.commands.CallCommand.execute(CallCommand.java:79)\n\tat py4j.GatewayConnection.run(GatewayConnection.java:214)\n\tat java.lang.Thread.run(Thread.java:748)\nCaused by: org.apache.spark.api.python.PythonException: Traceback (most recent call last):\n  File \"/usr/lib/spark/python/pyspark/worker.py\", line 177, in main\n    process()\n  File \"/usr/lib/spark/python/pyspark/worker.py\", line 172, in process\n    serializer.dump_stream(func(split_index, iterator), outfile)\n  File \"/usr/lib/spark/python/pyspark/rdd.py\", line 2423, in pipeline_func\n    return func(split, prev_func(split, iterator))\n  File \"/usr/lib/spark/python/pyspark/rdd.py\", line 2423, in pipeline_func\n    return func(split, prev_func(split, iterator))\n  File \"/usr/lib/spark/python/pyspark/rdd.py\", line 346, in func\n    return f(iterator)\n  File \"/usr/lib/spark/python/pyspark/rdd.py\", line 1842, in combineLocally\n    merger.mergeValues(iterator)\n  File \"/usr/lib/spark/python/pyspark/shuffle.py\", line 236, in mergeValues\n    for k, v in iterator:\n  File \"<ipython-input-82-6b9aeb4be8a3>\", line 18, in explode_user_agg\nNameError: global name 'histograms' is not defined\n\n\tat org.apache.spark.api.python.PythonRunner$$anon$1.read(PythonRDD.scala:193)\n\tat org.apache.spark.api.python.PythonRunner$$anon$1.<init>(PythonRDD.scala:234)\n\tat org.apache.spark.api.python.PythonRunner.compute(PythonRDD.scala:152)\n\tat org.apache.spark.api.python.PythonRDD.compute(PythonRDD.scala:63)\n\tat org.apache.spark.rdd.RDD.computeOrReadCheckpoint(RDD.scala:323)\n\tat org.apache.spark.rdd.RDD.iterator(RDD.scala:287)\n\tat org.apache.spark.api.python.PairwiseRDD.compute(PythonRDD.scala:404)\n\tat org.apache.spark.rdd.RDD.computeOrReadCheckpoint(RDD.scala:323)\n\tat org.apache.spark.rdd.RDD.iterator(RDD.scala:287)\n\tat org.apache.spark.scheduler.ShuffleMapTask.runTask(ShuffleMapTask.scala:96)\n\tat org.apache.spark.scheduler.ShuffleMapTask.runTask(ShuffleMapTask.scala:53)\n\tat org.apache.spark.scheduler.Task.run(Task.scala:108)\n\tat org.apache.spark.executor.Executor$TaskRunner.run(Executor.scala:338)\n\tat java.util.concurrent.ThreadPoolExecutor.runWorker(ThreadPoolExecutor.java:1149)\n\tat java.util.concurrent.ThreadPoolExecutor$Worker.run(ThreadPoolExecutor.java:624)\n\t... 1 more\n"
     ]
    }
   ],
   "source": [
    "def add_pair(x, y):\n",
    "  if x[0] is None and y[0] is None:\n",
    "    return (None, x[1]+y[1])\n",
    "  return (x[0]+y[0], x[1]+y[1])\n",
    "\n",
    "preserve = [\"client_id\", \"branch\", \"compositor\", \"wrQualified\", \"wrStatus\"]\n",
    "\n",
    "def explode_user_agg(x):\n",
    "  \"\"\"Explodes our selected histograms from each ping into key-value pairs like\n",
    "  [(client_id, probe_name), (sum_values, n_values)].\n",
    "  \n",
    "  For distributions, sum and n are meaningful. For counts, sum_values is 0 or None.\n",
    "  \"\"\"\n",
    "  def key_for_label(label):\n",
    "    return tuple([x[i] for i in preserve] + [label])\n",
    "  \n",
    "  rows = []\n",
    "  for label, procs, method in histograms:\n",
    "    key = key_for_label(label)\n",
    "    value = (0, 0)\n",
    "    for proc in procs:\n",
    "      v_sum = x[\"{}/{}/{}\".format(label, proc, \"sum\")] or 0\n",
    "      # count the number of recorded events\n",
    "      v_values = sum((x[\"{}/{}/{}\".format(label, proc, \"values\")] or {0: 0}).values())\n",
    "      value = add_pair(value, (v_sum, v_values))\n",
    "    rows.append([key, value])\n",
    "  \n",
    "  for label, procs, method in keyedHistograms:\n",
    "    key = key_for_label(label)\n",
    "    for proc in procs:\n",
    "      probe = x[\"{}/{}\".format(label, proc)]\n",
    "      if not probe:\n",
    "        continue\n",
    "      first_key = list(probe.values())[0]\n",
    "      n_events = sum(first_key[\"values\"].values())\n",
    "      rows.append([key, (None, n_events)])\n",
    "\n",
    "  return rows\n",
    "\n",
    "def deaggregate(x):\n",
    "  fields = {k: v for k, v in zip(preserve + [\"probe\"], x[0])}\n",
    "  fields[\"sum_values\"], fields[\"n_values\"] = x[1]\n",
    "  return Row(**fields)\n",
    "\n",
    "per_user_key = (\n",
    "  wrDisabled\n",
    "  .flatMap(explode_user_agg)\n",
    "  .reduceByKey(add_pair)\n",
    "  .map(deaggregate)\n",
    ")\n",
    "per_user_key.take(1)"
   ]
  },
  {
   "cell_type": "code",
   "execution_count": 115,
   "metadata": {},
   "outputs": [
    {
     "data": {
      "text/plain": [
       "[{'adapter': {u'GPUActive': True,\n",
       "   u'RAM': 2048,\n",
       "   u'description': u'NVIDIA GeForce GTX 660',\n",
       "   u'deviceID': u'0x11c0',\n",
       "   u'driver': u'C:\\\\WINDOWS\\\\System32\\\\DriverStore\\\\FileRepository\\\\nv_dispi.inf_amd64_38c9bee769f9ef1f\\\\nvldumdx.dll,C:\\\\WINDOWS\\\\System32\\\\DriverStore\\\\FileRepository\\\\nv_dispi.inf_amd64_38c9bee769f9ef1f\\\\nvldumdx.dll,C:\\\\WINDOWS\\\\System32\\\\DriverStore\\\\FileRepository\\\\nv_dispi.inf_amd64_38c9bee769f9ef1f\\\\nvldumdx.dll,C:\\\\WINDOWS\\\\System32\\\\DriverStore\\\\FileRepository\\\\nv_dispi.inf_amd64_38c9bee769f9ef1f\\\\nvldumdx.dll C:\\\\WINDOWS\\\\System32\\\\DriverStore\\\\FileRepository\\\\nv_dispi.inf_amd64_38c9bee769f9ef1f\\\\nvldumd.dll,C:\\\\WINDOWS\\\\System32\\\\DriverStore\\\\FileRepository\\\\nv_dispi.inf_amd64_38c9bee769f9ef1f\\\\nvldumd.dll,C:\\\\WINDOWS\\\\System32\\\\DriverStore\\\\FileRepository\\\\nv_dispi.inf_amd64_38c9bee769f9ef1f\\\\nvldumd.dll,C:\\\\WINDOWS\\\\System32\\\\DriverStore\\\\FileRepository\\\\nv_dispi.inf_amd64_38c9bee769f9ef1f\\\\nvldumd.dll',\n",
       "   u'driverDate': u'5-7-2018',\n",
       "   u'driverVersion': u'24.21.13.9764',\n",
       "   u'subsysID': u'354e1458',\n",
       "   u'vendorID': u'0x10de'},\n",
       "  'buildId': u'20180802100128',\n",
       "  'checkerboardin': None,\n",
       "  'clientId': u'49465b34-1fd4-468d-af82-50fc272deb47',\n",
       "  'content_paint': {u'0': 14,\n",
       "   u'1': 410,\n",
       "   u'10': 6,\n",
       "   u'11': 3,\n",
       "   u'12': 1,\n",
       "   u'14': 3,\n",
       "   u'16': 2,\n",
       "   u'2': 265,\n",
       "   u'23': 1,\n",
       "   u'26': 1,\n",
       "   u'29': 1,\n",
       "   u'3': 132,\n",
       "   u'33': 0,\n",
       "   u'4': 27,\n",
       "   u'5': 36,\n",
       "   u'6': 19,\n",
       "   u'7': 5,\n",
       "   u'8': 5,\n",
       "   u'9': 5},\n",
       "  'experiments': {u'prefflip-webrender-v1-1-1474484': {u'branch': u'control',\n",
       "    u'type': u'normandy-exp'}},\n",
       "  'frame_time': {u'103': 136,\n",
       "   u'1059': 1,\n",
       "   u'11': 4,\n",
       "   u'120': 10,\n",
       "   u'1237': 0,\n",
       "   u'13': 5,\n",
       "   u'140': 1,\n",
       "   u'15': 20,\n",
       "   u'164': 6,\n",
       "   u'18': 21,\n",
       "   u'192': 2,\n",
       "   u'21': 9,\n",
       "   u'25': 7,\n",
       "   u'262': 3,\n",
       "   u'29': 8,\n",
       "   u'34': 17,\n",
       "   u'357': 1,\n",
       "   u'40': 24,\n",
       "   u'47': 12,\n",
       "   u'55': 6,\n",
       "   u'64': 10,\n",
       "   u'75': 55,\n",
       "   u'777': 1,\n",
       "   u'8': 0,\n",
       "   u'88': 555,\n",
       "   u'9': 3},\n",
       "  'gfx': {u'ContentBackend': u'Skia',\n",
       "   u'D2DEnabled': True,\n",
       "   u'DWriteEnabled': True,\n",
       "   u'adapters': [{u'GPUActive': True,\n",
       "     u'RAM': 2048,\n",
       "     u'description': u'NVIDIA GeForce GTX 660',\n",
       "     u'deviceID': u'0x11c0',\n",
       "     u'driver': u'C:\\\\WINDOWS\\\\System32\\\\DriverStore\\\\FileRepository\\\\nv_dispi.inf_amd64_38c9bee769f9ef1f\\\\nvldumdx.dll,C:\\\\WINDOWS\\\\System32\\\\DriverStore\\\\FileRepository\\\\nv_dispi.inf_amd64_38c9bee769f9ef1f\\\\nvldumdx.dll,C:\\\\WINDOWS\\\\System32\\\\DriverStore\\\\FileRepository\\\\nv_dispi.inf_amd64_38c9bee769f9ef1f\\\\nvldumdx.dll,C:\\\\WINDOWS\\\\System32\\\\DriverStore\\\\FileRepository\\\\nv_dispi.inf_amd64_38c9bee769f9ef1f\\\\nvldumdx.dll C:\\\\WINDOWS\\\\System32\\\\DriverStore\\\\FileRepository\\\\nv_dispi.inf_amd64_38c9bee769f9ef1f\\\\nvldumd.dll,C:\\\\WINDOWS\\\\System32\\\\DriverStore\\\\FileRepository\\\\nv_dispi.inf_amd64_38c9bee769f9ef1f\\\\nvldumd.dll,C:\\\\WINDOWS\\\\System32\\\\DriverStore\\\\FileRepository\\\\nv_dispi.inf_amd64_38c9bee769f9ef1f\\\\nvldumd.dll,C:\\\\WINDOWS\\\\System32\\\\DriverStore\\\\FileRepository\\\\nv_dispi.inf_amd64_38c9bee769f9ef1f\\\\nvldumd.dll',\n",
       "     u'driverDate': u'5-7-2018',\n",
       "     u'driverVersion': u'24.21.13.9764',\n",
       "     u'subsysID': u'354e1458',\n",
       "     u'vendorID': u'0x10de'}],\n",
       "   u'features': {u'advancedLayers': {u'status': u'available'},\n",
       "    u'compositor': u'd3d11',\n",
       "    u'd2d': {u'status': u'available', u'version': u'1.1'},\n",
       "    u'd3d11': {u'blacklisted': False,\n",
       "     u'status': u'available',\n",
       "     u'textureSharing': True,\n",
       "     u'version': 45056,\n",
       "     u'warp': False},\n",
       "    u'gpuProcess': {u'status': u'available'},\n",
       "    u'webrender': {u'status': u'opt-in'},\n",
       "    u'wrQualified': {u'status': u'available'}},\n",
       "   u'monitors': [{u'pseudoDisplay': False,\n",
       "     u'refreshRate': 60,\n",
       "     u'screenHeight': 1080,\n",
       "     u'screenWidth': 1920}]},\n",
       "  'osName': u'Windows_NT',\n",
       "  'tab_switch': None}]"
      ]
     },
     "execution_count": 115,
     "metadata": {},
     "output_type": "execute_result"
    }
   ],
   "source": [
    "wrDisabled.filter(lambda p: p['frame_time']).take(1)"
   ]
  },
  {
   "cell_type": "code",
   "execution_count": null,
   "metadata": {},
   "outputs": [],
   "source": [
    "int(5) < 100"
   ]
  },
  {
   "cell_type": "code",
   "execution_count": 48,
   "metadata": {},
   "outputs": [],
   "source": [
    "from collections import Counter"
   ]
  },
  {
   "cell_type": "code",
   "execution_count": 89,
   "metadata": {},
   "outputs": [],
   "source": [
    "def roundDict(x):\n",
    "    int_x = {int(k) : v for k, v in x.items()}\n",
    "    d = {}\n",
    "    lastValue = 0\n",
    "    for (key, value) in sorted(int_x.iteritems()):\n",
    "        if key < 100:\n",
    "            lastValue = value\n",
    "            continue\n",
    "        rounded = key/100\n",
    "        if rounded in d:\n",
    "            d[rounded] += lastValue\n",
    "        else:\n",
    "            d[rounded] = lastValue\n",
    "        lastValue = value\n",
    "    return d\n",
    "def sumHist(x):\n",
    "    s = 0\n",
    "    for (key, value) in x.iteritems():\n",
    "        s += key * value\n",
    "    return s\n",
    "def countHist(x):\n",
    "    s = 0\n",
    "    for (key, value) in x.iteritems():\n",
    "        s += value\n",
    "    return s"
   ]
  },
  {
   "cell_type": "code",
   "execution_count": 90,
   "metadata": {},
   "outputs": [
    {
     "data": {
      "text/plain": [
       "<matplotlib.axes._subplots.AxesSubplot at 0x7f4414cac890>"
      ]
     },
     "execution_count": 90,
     "metadata": {},
     "output_type": "execute_result"
    },
    {
     "data": {
      "image/png": "[encoded data removed]",
      "text/plain": [
       "<matplotlib.figure.Figure at 0x7f4414cacfd0>"
      ]
     },
     "metadata": {},
     "output_type": "display_data"
    }
   ],
   "source": [
    "#means = (\n",
    "#    wrEnabled.filter(lambda p: p['frame_time']).map(lambda p: p['frame_time_sum']/sum(p['frame_time'].values()))\n",
    "#    .filter(lambda p: p< 1000)\n",
    "#)\n",
    "means = (wrEnabled.filter(lambda p: p['frame_time']).map(lambda p: roundDict(p['frame_time']))\n",
    "         .filter(lambda p: countHist(p) != 0)\n",
    "         .map(lambda p: sumHist(p)/countHist(p))\n",
    "        )\n",
    "means = means.map(lambda x: (x, )).toDF()\n",
    "means = means.toPandas()\n",
    "df = pd.DataFrame()\n",
    "df['enabled'] = means\n",
    "means = (wrDisabled.filter(lambda p: p['frame_time']).map(lambda p: roundDict(p['frame_time']))\n",
    "         .filter(lambda p: countHist(p) != 0)\n",
    "         .map(lambda p: sumHist(p)/countHist(p))\n",
    "        )\n",
    "means = means.map(lambda x: (x, )).toDF()\n",
    "means = means.toPandas()\n",
    "df['disabled'] = means\n",
    "df.plot.density()#means.take(4)"
   ]
  },
  {
   "cell_type": "code",
   "execution_count": 91,
   "metadata": {},
   "outputs": [],
   "source": [
    "aggregated_enabled = (\n",
    "    wrEnabled\n",
    "    .filter(lambda p: p['frame_time'])\n",
    "    .map(lambda p: pd.Series(roundDict(p['frame_time'])))\n",
    "    .reduce(aggregate_series)\n",
    ")\n",
    "aggregated_enabled.index = [int(i) for i in aggregated_enabled.index]\n",
    "aggregated_enabled = aggregated_enabled.sort_index()\n",
    "\n",
    "aggregated_disabled = (\n",
    "    wrDisabled2\n",
    "    .filter(lambda p: p['frame_time'])\n",
    "    .map(lambda p: pd.Series(roundDict(p['frame_time'])))\n",
    "    .reduce(aggregate_series)\n",
    ")\n",
    "aggregated_disabled.index = [int(i) for i in aggregated_disabled.index]\n",
    "aggregated_disabled = aggregated_disabled.sort_index()"
   ]
  },
  {
   "cell_type": "code",
   "execution_count": 108,
   "metadata": {},
   "outputs": [
    {
     "data": {
      "text/plain": [
       "<matplotlib.text.Text at 0x7f4413592590>"
      ]
     },
     "execution_count": 108,
     "metadata": {},
     "output_type": "execute_result"
    },
    {
     "data": {
      "image/png": "[encoded data removed]",
      "text/plain": [
       "<matplotlib.figure.Figure at 0x7f4413431ad0>"
      ]
     },
     "metadata": {},
     "output_type": "display_data"
    }
   ],
   "source": [
    "percent_enabled = aggregated_enabled[1:].map(lambda x: x/aggregated_enabled[0:].sum())\n",
    "percent_disabled = aggregated_disabled[1:].map(lambda x: x/aggregated_disabled[0:].sum())\n",
    "\n",
    "percent = percent_enabled\n",
    "df = pd.DataFrame()\n",
    "df['enabled'] = percent_enabled\n",
    "df['disabled'] = percent_disabled\n",
    "#(percent_enabled - percent_disabled).plot(kind='bar', figsize=(15, 7))\n",
    "p = df.plot(kind='bar', figsize=(15, 7))\n",
    "p.set_xlabel(\"frames\")\n",
    "p.set_ylabel(\"percentage of content paints that happen in x frames\")"
   ]
  },
  {
   "cell_type": "code",
   "execution_count": 106,
   "metadata": {},
   "outputs": [
    {
     "data": {
      "text/plain": [
       "<matplotlib.text.Text at 0x7f44138b6250>"
      ]
     },
     "execution_count": 106,
     "metadata": {},
     "output_type": "execute_result"
    },
    {
     "data": {
      "image/png": "[encoded data removed]",
      "text/plain": [
       "<matplotlib.figure.Figure at 0x7f44139eec10>"
      ]
     },
     "metadata": {},
     "output_type": "display_data"
    }
   ],
   "source": [
    "p = (100*(percent_enabled - percent_disabled) / percent_enabled).plot(kind='bar', figsize=(15, 7))\n",
    "p.set_xlabel(\"ms\")\n",
    "p.set_ylabel(\"% change in content paints of x frames from enabling WebRender\")"
   ]
  },
  {
   "cell_type": "code",
   "execution_count": 47,
   "metadata": {},
   "outputs": [
    {
     "data": {
      "text/html": [
       "<div>\n",
       "<table border=\"1\" class=\"dataframe\">\n",
       "  <thead>\n",
       "    <tr style=\"text-align: right;\">\n",
       "      <th></th>\n",
       "      <th>_1</th>\n",
       "    </tr>\n",
       "  </thead>\n",
       "  <tbody>\n",
       "    <tr>\n",
       "      <th>0</th>\n",
       "      <td>0</td>\n",
       "    </tr>\n",
       "    <tr>\n",
       "      <th>1</th>\n",
       "      <td>0</td>\n",
       "    </tr>\n",
       "    <tr>\n",
       "      <th>2</th>\n",
       "      <td>0</td>\n",
       "    </tr>\n",
       "    <tr>\n",
       "      <th>3</th>\n",
       "      <td>0</td>\n",
       "    </tr>\n",
       "    <tr>\n",
       "      <th>4</th>\n",
       "      <td>0</td>\n",
       "    </tr>\n",
       "    <tr>\n",
       "      <th>5</th>\n",
       "      <td>0</td>\n",
       "    </tr>\n",
       "    <tr>\n",
       "      <th>6</th>\n",
       "      <td>0</td>\n",
       "    </tr>\n",
       "    <tr>\n",
       "      <th>7</th>\n",
       "      <td>0</td>\n",
       "    </tr>\n",
       "    <tr>\n",
       "      <th>8</th>\n",
       "      <td>0</td>\n",
       "    </tr>\n",
       "    <tr>\n",
       "      <th>9</th>\n",
       "      <td>0</td>\n",
       "    </tr>\n",
       "    <tr>\n",
       "      <th>10</th>\n",
       "      <td>0</td>\n",
       "    </tr>\n",
       "    <tr>\n",
       "      <th>11</th>\n",
       "      <td>0</td>\n",
       "    </tr>\n",
       "    <tr>\n",
       "      <th>12</th>\n",
       "      <td>0</td>\n",
       "    </tr>\n",
       "    <tr>\n",
       "      <th>13</th>\n",
       "      <td>0</td>\n",
       "    </tr>\n",
       "    <tr>\n",
       "      <th>14</th>\n",
       "      <td>0</td>\n",
       "    </tr>\n",
       "    <tr>\n",
       "      <th>15</th>\n",
       "      <td>0</td>\n",
       "    </tr>\n",
       "    <tr>\n",
       "      <th>16</th>\n",
       "      <td>0</td>\n",
       "    </tr>\n",
       "    <tr>\n",
       "      <th>17</th>\n",
       "      <td>0</td>\n",
       "    </tr>\n",
       "    <tr>\n",
       "      <th>18</th>\n",
       "      <td>0</td>\n",
       "    </tr>\n",
       "    <tr>\n",
       "      <th>19</th>\n",
       "      <td>0</td>\n",
       "    </tr>\n",
       "    <tr>\n",
       "      <th>20</th>\n",
       "      <td>0</td>\n",
       "    </tr>\n",
       "    <tr>\n",
       "      <th>21</th>\n",
       "      <td>0</td>\n",
       "    </tr>\n",
       "    <tr>\n",
       "      <th>22</th>\n",
       "      <td>0</td>\n",
       "    </tr>\n",
       "    <tr>\n",
       "      <th>23</th>\n",
       "      <td>0</td>\n",
       "    </tr>\n",
       "    <tr>\n",
       "      <th>24</th>\n",
       "      <td>0</td>\n",
       "    </tr>\n",
       "    <tr>\n",
       "      <th>25</th>\n",
       "      <td>1</td>\n",
       "    </tr>\n",
       "    <tr>\n",
       "      <th>26</th>\n",
       "      <td>0</td>\n",
       "    </tr>\n",
       "    <tr>\n",
       "      <th>27</th>\n",
       "      <td>0</td>\n",
       "    </tr>\n",
       "    <tr>\n",
       "      <th>28</th>\n",
       "      <td>0</td>\n",
       "    </tr>\n",
       "    <tr>\n",
       "      <th>29</th>\n",
       "      <td>0</td>\n",
       "    </tr>\n",
       "    <tr>\n",
       "      <th>...</th>\n",
       "      <td>...</td>\n",
       "    </tr>\n",
       "    <tr>\n",
       "      <th>234</th>\n",
       "      <td>0</td>\n",
       "    </tr>\n",
       "    <tr>\n",
       "      <th>235</th>\n",
       "      <td>0</td>\n",
       "    </tr>\n",
       "    <tr>\n",
       "      <th>236</th>\n",
       "      <td>0</td>\n",
       "    </tr>\n",
       "    <tr>\n",
       "      <th>237</th>\n",
       "      <td>0</td>\n",
       "    </tr>\n",
       "    <tr>\n",
       "      <th>238</th>\n",
       "      <td>0</td>\n",
       "    </tr>\n",
       "    <tr>\n",
       "      <th>239</th>\n",
       "      <td>0</td>\n",
       "    </tr>\n",
       "    <tr>\n",
       "      <th>240</th>\n",
       "      <td>0</td>\n",
       "    </tr>\n",
       "    <tr>\n",
       "      <th>241</th>\n",
       "      <td>0</td>\n",
       "    </tr>\n",
       "    <tr>\n",
       "      <th>242</th>\n",
       "      <td>0</td>\n",
       "    </tr>\n",
       "    <tr>\n",
       "      <th>243</th>\n",
       "      <td>0</td>\n",
       "    </tr>\n",
       "    <tr>\n",
       "      <th>244</th>\n",
       "      <td>0</td>\n",
       "    </tr>\n",
       "    <tr>\n",
       "      <th>245</th>\n",
       "      <td>0</td>\n",
       "    </tr>\n",
       "    <tr>\n",
       "      <th>246</th>\n",
       "      <td>0</td>\n",
       "    </tr>\n",
       "    <tr>\n",
       "      <th>247</th>\n",
       "      <td>0</td>\n",
       "    </tr>\n",
       "    <tr>\n",
       "      <th>248</th>\n",
       "      <td>5</td>\n",
       "    </tr>\n",
       "    <tr>\n",
       "      <th>249</th>\n",
       "      <td>0</td>\n",
       "    </tr>\n",
       "    <tr>\n",
       "      <th>250</th>\n",
       "      <td>2</td>\n",
       "    </tr>\n",
       "    <tr>\n",
       "      <th>251</th>\n",
       "      <td>0</td>\n",
       "    </tr>\n",
       "    <tr>\n",
       "      <th>252</th>\n",
       "      <td>0</td>\n",
       "    </tr>\n",
       "    <tr>\n",
       "      <th>253</th>\n",
       "      <td>3</td>\n",
       "    </tr>\n",
       "    <tr>\n",
       "      <th>254</th>\n",
       "      <td>0</td>\n",
       "    </tr>\n",
       "    <tr>\n",
       "      <th>255</th>\n",
       "      <td>0</td>\n",
       "    </tr>\n",
       "    <tr>\n",
       "      <th>256</th>\n",
       "      <td>0</td>\n",
       "    </tr>\n",
       "    <tr>\n",
       "      <th>257</th>\n",
       "      <td>0</td>\n",
       "    </tr>\n",
       "    <tr>\n",
       "      <th>258</th>\n",
       "      <td>0</td>\n",
       "    </tr>\n",
       "    <tr>\n",
       "      <th>259</th>\n",
       "      <td>0</td>\n",
       "    </tr>\n",
       "    <tr>\n",
       "      <th>260</th>\n",
       "      <td>0</td>\n",
       "    </tr>\n",
       "    <tr>\n",
       "      <th>261</th>\n",
       "      <td>0</td>\n",
       "    </tr>\n",
       "    <tr>\n",
       "      <th>262</th>\n",
       "      <td>2</td>\n",
       "    </tr>\n",
       "    <tr>\n",
       "      <th>263</th>\n",
       "      <td>0</td>\n",
       "    </tr>\n",
       "  </tbody>\n",
       "</table>\n",
       "<p>264 rows × 1 columns</p>\n",
       "</div>"
      ],
      "text/plain": [
       "     _1\n",
       "0     0\n",
       "1     0\n",
       "2     0\n",
       "3     0\n",
       "4     0\n",
       "5     0\n",
       "6     0\n",
       "7     0\n",
       "8     0\n",
       "9     0\n",
       "10    0\n",
       "11    0\n",
       "12    0\n",
       "13    0\n",
       "14    0\n",
       "15    0\n",
       "16    0\n",
       "17    0\n",
       "18    0\n",
       "19    0\n",
       "20    0\n",
       "21    0\n",
       "22    0\n",
       "23    0\n",
       "24    0\n",
       "25    1\n",
       "26    0\n",
       "27    0\n",
       "28    0\n",
       "29    0\n",
       "..   ..\n",
       "234   0\n",
       "235   0\n",
       "236   0\n",
       "237   0\n",
       "238   0\n",
       "239   0\n",
       "240   0\n",
       "241   0\n",
       "242   0\n",
       "243   0\n",
       "244   0\n",
       "245   0\n",
       "246   0\n",
       "247   0\n",
       "248   5\n",
       "249   0\n",
       "250   2\n",
       "251   0\n",
       "252   0\n",
       "253   3\n",
       "254   0\n",
       "255   0\n",
       "256   0\n",
       "257   0\n",
       "258   0\n",
       "259   0\n",
       "260   0\n",
       "261   0\n",
       "262   2\n",
       "263   0\n",
       "\n",
       "[264 rows x 1 columns]"
      ]
     },
     "execution_count": 47,
     "metadata": {},
     "output_type": "execute_result"
    }
   ],
   "source": [
    "means = (\n",
    "    wrDisabled.filter(lambda p: p['composite_time']).map(lambda p: p['composite_time']['sum']/sum(p['composite_time']['values'].values()))\n",
    "    .filter(lambda p: p< 1000)\n",
    ")\n",
    "means = means.map(lambda x: (x, )).toDF()\n",
    "means = means.toPandas()\n",
    "means"
   ]
  },
  {
   "cell_type": "code",
   "execution_count": 48,
   "metadata": {},
   "outputs": [
    {
     "data": {
      "text/plain": [
       "<matplotlib.axes._subplots.AxesSubplot at 0x7f5a840cfdd0>"
      ]
     },
     "execution_count": 48,
     "metadata": {},
     "output_type": "execute_result"
    },
    {
     "data": {
      "image/png": "[encoded data removed]",
      "text/plain": [
       "<matplotlib.figure.Figure at 0x7f5a7f211c90>"
      ]
     },
     "metadata": {},
     "output_type": "display_data"
    }
   ],
   "source": [
    "means = (\n",
    "    wrEnabled.filter(lambda p: p['composite_time']).map(lambda p: p['composite_time']['sum']/sum(p['composite_time']['values'].values()))\n",
    "    .filter(lambda p: p< 1000)\n",
    ")\n",
    "means = means.map(lambda x: (x, )).toDF()\n",
    "means = means.toPandas()\n",
    "df = pd.DataFrame()\n",
    "df['enabled'] = means\n",
    "means = (\n",
    "    wrDisabled.filter(lambda p: p['composite_time']).map(lambda p: p['composite_time']['sum']/sum(p['composite_time']['values'].values()))\n",
    "    .filter(lambda p: p< 1000)\n",
    ")\n",
    "means = means.map(lambda x: (x, )).toDF()\n",
    "means = means.toPandas()\n",
    "df['disabled'] = means\n",
    "df.plot.density()#means.take(4)"
   ]
  },
  {
   "cell_type": "code",
   "execution_count": 61,
   "metadata": {},
   "outputs": [],
   "source": [
    "aggregated_enabled = (\n",
    "    wrEnabled\n",
    "    .filter(lambda p: p['composite_time'])\n",
    "    .map(lambda p: pd.Series(p['composite_time']['values']))\n",
    "    .reduce(aggregate_series)\n",
    ")\n",
    "aggregated_enabled.index = [int(i) for i in aggregated_enabled.index]\n",
    "aggregated_enabled = aggregated_enabled.sort_index()\n",
    "\n",
    "aggregated_disabled = (\n",
    "    wrDisabled2\n",
    "    .filter(lambda p: p['composite_time'])\n",
    "    .map(lambda p: pd.Series(p['composite_time']['values']))\n",
    "    .reduce(aggregate_series)\n",
    ")\n",
    "aggregated_disabled.index = [int(i) for i in aggregated_disabled.index]\n",
    "aggregated_disabled = aggregated_disabled.sort_index()"
   ]
  },
  {
   "cell_type": "code",
   "execution_count": 62,
   "metadata": {},
   "outputs": [
    {
     "data": {
      "text/plain": [
       "(59394031.0, 87039907.0, 284, 271)"
      ]
     },
     "execution_count": 62,
     "metadata": {},
     "output_type": "execute_result"
    },
    {
     "data": {
      "image/png": "[encoded data removed]",
      "text/plain": [
       "<matplotlib.figure.Figure at 0x7f5a7f21a450>"
      ]
     },
     "metadata": {},
     "output_type": "display_data"
    }
   ],
   "source": [
    "percent_enabled = aggregated_enabled\n",
    "percent_disabled = aggregated_disabled\n",
    "\n",
    "percent = percent_enabled\n",
    "df = pd.DataFrame()\n",
    "df['enabled'] = percent_enabled\n",
    "df['disabled'] = percent_disabled\n",
    "#(percent_enabled - percent_disabled).plot(kind='bar', figsize=(15, 7))\n",
    "p = df.cumsum().plot(kind='bar', figsize=(15, 7))\n",
    "p.set_xlabel(\"ms\")\n",
    "p.set_ylabel(\"composite times\")\n",
    "(aggregated_enabled.sum(), aggregated_disabled.sum(), wrEnabled.count(), wrDisabled.count())"
   ]
  },
  {
   "cell_type": "markdown",
   "metadata": {},
   "source": [
    "We can also aggregate the values of the parent and children processes:"
   ]
  },
  {
   "cell_type": "code",
   "execution_count": null,
   "metadata": {},
   "outputs": [],
   "source": [
    "plt.title('GC_MARK_MS')\n",
    "(aggregated_content + aggregated_parent).plot(kind='bar', figsize=(15, 7))"
   ]
  },
  {
   "cell_type": "markdown",
   "metadata": {},
   "source": [
    "Keyed histograms follow a similar pattern. To extract a keyed histogram for which we know the key/label we are interested in:"
   ]
  },
  {
   "cell_type": "code",
   "execution_count": null,
   "metadata": {
    "scrolled": true
   },
   "outputs": [],
   "source": [
    "keyed_hist = (\n",
    "    pings_dataset\n",
    "    .select(redirects='payload.keyedHistograms.NETWORK_HTTP_REDIRECT_TO_SCHEME.https.values')\n",
    "    .records(sc, sample=0.05)\n",
    ")"
   ]
  },
  {
   "cell_type": "markdown",
   "metadata": {},
   "source": [
    "Add up the counts of every ping and plot it:"
   ]
  },
  {
   "cell_type": "code",
   "execution_count": null,
   "metadata": {
    "scrolled": true
   },
   "outputs": [],
   "source": [
    "aggregated = (\n",
    "    keyed_hist\n",
    "    .filter(lambda p: p['redirects'] is not None)\n",
    "    .map(lambda p: pd.Series(p['redirects']))\n",
    "    .reduce(lambda c1, c2: c1 + c2)\n",
    ")"
   ]
  },
  {
   "cell_type": "code",
   "execution_count": null,
   "metadata": {
    "scrolled": true
   },
   "outputs": [],
   "source": [
    "aggregated.plot(kind='bar', figsize=(15, 7))"
   ]
  }
 ],
 "metadata": {
  "anaconda-cloud": {},
  "kernelspec": {
   "display_name": "Python [default]",
   "language": "python",
   "name": "python2"
  },
  "language_info": {
   "codemirror_mode": {
    "name": "ipython",
    "version": 2
   },
   "file_extension": ".py",
   "mimetype": "text/x-python",
   "name": "python",
   "nbconvert_exporter": "python",
   "pygments_lexer": "ipython2",
   "version": "2.7.12"
  }
 },
 "nbformat": 4,
 "nbformat_minor": 1
}
