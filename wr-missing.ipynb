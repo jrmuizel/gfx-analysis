{
 "cells": [
  {
   "cell_type": "code",
   "execution_count": 1,
   "metadata": {
    "scrolled": true
   },
   "outputs": [],
   "source": [
    "import ujson as json\n",
    "import matplotlib.pyplot as plt\n",
    "import pandas as pd\n",
    "import numpy as np\n",
    "\n",
    "from moztelemetry.dataset import Dataset\n",
    "\n",
    "%matplotlib inline"
   ]
  },
  {
   "cell_type": "markdown",
   "metadata": {},
   "source": [
    "### Basics"
   ]
  },
  {
   "cell_type": "markdown",
   "metadata": {},
   "source": [
    "We will use the Dataset API to fetch data.  Documentation can be found at: https://python-moztelemetry.readthedocs.io/en/stable/api.html#dataset"
   ]
  },
  {
   "cell_type": "markdown",
   "metadata": {},
   "source": [
    "The goal of this example is to plot the startup distribution for each OS. Let's see how many parallel workers we have at our disposal:"
   ]
  },
  {
   "cell_type": "code",
   "execution_count": 2,
   "metadata": {},
   "outputs": [
    {
     "data": {
      "text/plain": [
       "32"
      ]
     },
     "execution_count": 2,
     "metadata": {},
     "output_type": "execute_result"
    }
   ],
   "source": [
    "sc.defaultParallelism"
   ]
  },
  {
   "cell_type": "markdown",
   "metadata": {},
   "source": [
    "We can look at the schema of the dataset we are interested in:"
   ]
  },
  {
   "cell_type": "code",
   "execution_count": 3,
   "metadata": {},
   "outputs": [
    {
     "data": {
      "text/plain": [
       "[u'submissionDate',\n",
       " u'sourceName',\n",
       " u'sourceVersion',\n",
       " u'docType',\n",
       " u'appName',\n",
       " u'appUpdateChannel',\n",
       " u'appVersion',\n",
       " u'appBuildId']"
      ]
     },
     "execution_count": 3,
     "metadata": {},
     "output_type": "execute_result"
    }
   ],
   "source": [
    "Dataset.from_source('telemetry').schema"
   ]
  },
  {
   "cell_type": "markdown",
   "metadata": {},
   "source": [
    "Let's create a Dataset of Telemetry submissions for a given submission date:"
   ]
  },
  {
   "cell_type": "code",
   "execution_count": 4,
   "metadata": {},
   "outputs": [],
   "source": [
    "pings_dataset = (\n",
    "    Dataset.from_source('telemetry')\n",
    "    .where(docType='main')\n",
    "    #.where(appBuildId='20180721100146')\n",
    "    .where(submissionDate='20180808')\n",
    "    .where(appUpdateChannel=\"nightly\")\n",
    ")"
   ]
  },
  {
   "cell_type": "markdown",
   "metadata": {},
   "source": [
    "Select only the properties we need and then take a 10% sample:"
   ]
  },
  {
   "cell_type": "code",
   "execution_count": 5,
   "metadata": {
    "scrolled": true
   },
   "outputs": [
    {
     "name": "stdout",
     "output_type": "stream",
     "text": [
      "WARNING: THIS IS NOT A REPRESENTATIVE SAMPLE.\n",
      "This 'sampling' is based on s3 files and is highly\n",
      "susceptible to skew. Use only for quicker performance\n",
      "while prototyping.\n",
      "fetching 633.07509MB in 2478 files...\n"
     ]
    }
   ],
   "source": [
    "pings = (\n",
    "    pings_dataset\n",
    "    .select(\n",
    "        'clientId',\n",
    "        buildId='application.buildId',\n",
    "        content_paint='payload.processes.content.histograms.CONTENT_PAINT_TIME.values',\n",
    "        tab_switch='payload.histograms.FX_TAB_SWITCH_TOTAL_E10S_MS.values',\n",
    "        frame_time='payload.processes.gpu.histograms.CONTENT_FRAME_TIME.values',\n",
    "        frame_time_sum='payload.processes.gpu.histograms.CONTENT_FRAME_TIME.sum',\n",
    "        composite_time='payload.processes.gpu.histograms.COMPOSITE_TIME',\n",
    "        checkerboardin='payload.processes.gpu.histograms.CHECKERBOARD_SEVERITY.values',\n",
    "        experiments='environment.experiments',\n",
    "        osName='environment.system.os.name',\n",
    "        gfx='environment.system.gfx')\n",
    "    .records(sc, sample=0.1)\n",
    ")"
   ]
  },
  {
   "cell_type": "markdown",
   "metadata": {},
   "source": []
  },
  {
   "cell_type": "code",
   "execution_count": 6,
   "metadata": {},
   "outputs": [
    {
     "data": {
      "text/plain": [
       "18824"
      ]
     },
     "execution_count": 6,
     "metadata": {},
     "output_type": "execute_result"
    }
   ],
   "source": [
    "# We add two extra steps. The first rewrites the ping to have some\n",
    "# information more easily accessible (like the primary adapter),\n",
    "# and the second step removes any pings that don't have adapter\n",
    "# information.\n",
    "def rewrite_ping(p):\n",
    "    adapters = p.get('gfx', None).get('adapters', None)\n",
    "    if not adapters:\n",
    "        return None\n",
    "    adapter = adapters[0]\n",
    "            \n",
    "    p['adapter'] = adapter\n",
    "            \n",
    "    # Convert the version to a tuple of integers.\n",
    "    #if 'driverVersion' in adapter:\n",
    "    #    p['driverVersion'] = [int(n) for n in adapter['driverVersion'].split('.') if n.isdigit()]\n",
    "    return p\n",
    "\n",
    "def filter_ping(p):\n",
    "    return 'adapter' in p\n",
    "rpings = pings.map(rewrite_ping).filter(filter_ping)\n",
    "rpings = rpings.cache()\n",
    "rpings.count()"
   ]
  },
  {
   "cell_type": "markdown",
   "metadata": {},
   "source": [
    "To prevent pseudoreplication, let's consider only a single submission for each client. As this step requires a distributed shuffle, it should always be run only after extracting the attributes of interest with *Dataset.select()*."
   ]
  },
  {
   "cell_type": "code",
   "execution_count": 7,
   "metadata": {},
   "outputs": [],
   "source": [
    "subset = (\n",
    "    rpings\n",
    "    .map(lambda p: (p['clientId'], p))\n",
    "    .reduceByKey(lambda p1, p2: p1)\n",
    "    .map(lambda p: p[1])\n",
    ")"
   ]
  },
  {
   "cell_type": "markdown",
   "metadata": {},
   "source": [
    "Caching is fundamental as it allows for an iterative, real-time development workflow:"
   ]
  },
  {
   "cell_type": "code",
   "execution_count": 8,
   "metadata": {},
   "outputs": [],
   "source": [
    "cached = subset.cache()"
   ]
  },
  {
   "cell_type": "markdown",
   "metadata": {},
   "source": [
    "How many pings are we looking at?"
   ]
  },
  {
   "cell_type": "code",
   "execution_count": 9,
   "metadata": {},
   "outputs": [
    {
     "data": {
      "text/plain": [
       "13730"
      ]
     },
     "execution_count": 9,
     "metadata": {},
     "output_type": "execute_result"
    }
   ],
   "source": [
    "cached.count()"
   ]
  },
  {
   "cell_type": "code",
   "execution_count": 10,
   "metadata": {},
   "outputs": [
    {
     "data": {
      "text/plain": [
       "12009"
      ]
     },
     "execution_count": 10,
     "metadata": {},
     "output_type": "execute_result"
    }
   ],
   "source": [
    "cached = cached.filter(lambda p: \"features\" in p[\"gfx\"])\n",
    "cached = cached.filter(lambda p: \"wrQualified\" in p[\"gfx\"][\"features\"])\n",
    "cached.count()"
   ]
  },
  {
   "cell_type": "code",
   "execution_count": 11,
   "metadata": {},
   "outputs": [
    {
     "data": {
      "text/plain": [
       "defaultdict(int, {u'basic': 116, u'd3d11': 2432, u'webrender': 640})"
      ]
     },
     "execution_count": 11,
     "metadata": {},
     "output_type": "execute_result"
    }
   ],
   "source": [
    "wrExperiment = cached.filter(lambda p: \"experiments\" in p and p[\"experiments\"]).filter(lambda p: \"prefflip-webrender-v1-1-1474484\" in p[\"experiments\"])\n",
    "wrExperiment.map(lambda p: p[\"gfx\"][\"features\"][\"compositor\"]).countByValue()"
   ]
  },
  {
   "cell_type": "code",
   "execution_count": 12,
   "metadata": {},
   "outputs": [
    {
     "data": {
      "text/plain": [
       "defaultdict(int, {u'control': 1600, u'treatment': 1588})"
      ]
     },
     "execution_count": 12,
     "metadata": {},
     "output_type": "execute_result"
    }
   ],
   "source": [
    "wrExperiment.map(lambda p: p[\"experiments\"][\"prefflip-webrender-v1-1-1474484\"][\"branch\"]).countByValue()"
   ]
  },
  {
   "cell_type": "code",
   "execution_count": 13,
   "metadata": {},
   "outputs": [
    {
     "data": {
      "text/plain": [
       "defaultdict(int,\n",
       "            {u'20180725103029': 6,\n",
       "             u'20180725220116': 2,\n",
       "             u'20180726001822': 5,\n",
       "             u'20180726100339': 6,\n",
       "             u'20180726220124': 5,\n",
       "             u'20180727103347': 11,\n",
       "             u'20180727231224': 3,\n",
       "             u'20180728101501': 10,\n",
       "             u'20180728220145': 4,\n",
       "             u'20180729100102': 8,\n",
       "             u'20180729220222': 4,\n",
       "             u'20180730100211': 9,\n",
       "             u'20180730221422': 10,\n",
       "             u'20180731105217': 18,\n",
       "             u'20180731220208': 5,\n",
       "             u'20180801100116': 18,\n",
       "             u'20180801223951': 16,\n",
       "             u'20180802100128': 26,\n",
       "             u'20180802220056': 35,\n",
       "             u'20180803104322': 41,\n",
       "             u'20180803220259': 14,\n",
       "             u'20180804124335': 28,\n",
       "             u'20180804220307': 28,\n",
       "             u'20180805100054': 61,\n",
       "             u'20180805231147': 74,\n",
       "             u'20180806100140': 241,\n",
       "             u'20180806220216': 221,\n",
       "             u'20180807100107': 893,\n",
       "             u'20180807220134': 752,\n",
       "             u'20180808100114': 634})"
      ]
     },
     "execution_count": 13,
     "metadata": {},
     "output_type": "execute_result"
    }
   ],
   "source": [
    "wrExperiment.map(lambda p: p['buildId']).countByValue()"
   ]
  },
  {
   "cell_type": "code",
   "execution_count": 14,
   "metadata": {},
   "outputs": [
    {
     "data": {
      "text/plain": [
       "defaultdict(int, {u'basic': 23, u'd3d11': 395, u'webrender': 600})"
      ]
     },
     "execution_count": 14,
     "metadata": {},
     "output_type": "execute_result"
    }
   ],
   "source": [
    "treatment = wrExperiment.filter(lambda p: p[\"experiments\"][\"prefflip-webrender-v1-1-1474484\"][\"branch\"] == \"treatment\")\n",
    "qTreatment = treatment.filter(lambda p: p[\"gfx\"][\"features\"][\"wrQualified\"][\"status\"] == \"available\")\n",
    "qTreatment.map(lambda p: p[\"gfx\"][\"features\"][\"compositor\"]).countByValue()"
   ]
  },
  {
   "cell_type": "code",
   "execution_count": 19,
   "metadata": {},
   "outputs": [
    {
     "data": {
      "text/plain": [
       "defaultdict(int, {u'available': 589, u'opt-in': 367, u'unavailable': 35})"
      ]
     },
     "execution_count": 19,
     "metadata": {},
     "output_type": "execute_result"
    }
   ],
   "source": [
    "qTreatment.filter(lambda p: \"webrender\" in p[\"gfx\"][\"features\"]).map(lambda p: p[\"gfx\"][\"features\"][\"webrender\"][\"status\"]).countByValue()"
   ]
  },
  {
   "cell_type": "code",
   "execution_count": 20,
   "metadata": {},
   "outputs": [
    {
     "data": {
      "text/plain": [
       "defaultdict(int, {u'opt-in': 413, u'unavailable': 11})"
      ]
     },
     "execution_count": 20,
     "metadata": {},
     "output_type": "execute_result"
    }
   ],
   "source": [
    "wrt = qTreatment.filter(lambda p: p[\"gfx\"][\"features\"][\"compositor\"] == 'd3d11').filter(lambda p: 'webrender' in p[\"gfx\"][\"features\"])\n",
    "wrt.map(lambda p: p[\"gfx\"][\"features\"][\"webrender\"][\"status\"]).countByValue()\n",
    "#wrt.count()"
   ]
  }
 ],
 "metadata": {
  "anaconda-cloud": {},
  "kernelspec": {
   "display_name": "Python [default]",
   "language": "python",
   "name": "python2"
  },
  "language_info": {
   "codemirror_mode": {
    "name": "ipython",
    "version": 2
   },
   "file_extension": ".py",
   "mimetype": "text/x-python",
   "name": "python",
   "nbconvert_exporter": "python",
   "pygments_lexer": "ipython2",
   "version": "2.7.12"
  }
 },
 "nbformat": 4,
 "nbformat_minor": 1
}
