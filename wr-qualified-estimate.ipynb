{
 "cells": [
  {
   "cell_type": "code",
   "execution_count": 1,
   "metadata": {
    "scrolled": true
   },
   "outputs": [],
   "source": [
    "import ujson as json\n",
    "import matplotlib.pyplot as plt\n",
    "import pandas as pd\n",
    "import numpy as np\n",
    "\n",
    "from moztelemetry.dataset import Dataset\n",
    "\n",
    "%matplotlib inline"
   ]
  },
  {
   "cell_type": "markdown",
   "metadata": {},
   "source": [
    "### Basics"
   ]
  },
  {
   "cell_type": "markdown",
   "metadata": {},
   "source": [
    "We will use the Dataset API to fetch data.  Documentation can be found at: https://python-moztelemetry.readthedocs.io/en/stable/api.html#dataset"
   ]
  },
  {
   "cell_type": "markdown",
   "metadata": {},
   "source": [
    "The goal of this example is to plot the startup distribution for each OS. Let's see how many parallel workers we have at our disposal:"
   ]
  },
  {
   "cell_type": "code",
   "execution_count": 2,
   "metadata": {},
   "outputs": [
    {
     "data": {
      "text/plain": [
       "32"
      ]
     },
     "execution_count": 2,
     "metadata": {},
     "output_type": "execute_result"
    }
   ],
   "source": [
    "sc.defaultParallelism"
   ]
  },
  {
   "cell_type": "markdown",
   "metadata": {},
   "source": [
    "We can look at the schema of the dataset we are interested in:"
   ]
  },
  {
   "cell_type": "code",
   "execution_count": 3,
   "metadata": {},
   "outputs": [
    {
     "data": {
      "text/plain": [
       "[u'submissionDate',\n",
       " u'sourceName',\n",
       " u'sourceVersion',\n",
       " u'docType',\n",
       " u'appName',\n",
       " u'appUpdateChannel',\n",
       " u'appVersion',\n",
       " u'appBuildId']"
      ]
     },
     "execution_count": 3,
     "metadata": {},
     "output_type": "execute_result"
    }
   ],
   "source": [
    "Dataset.from_source('telemetry').schema"
   ]
  },
  {
   "cell_type": "markdown",
   "metadata": {},
   "source": [
    "Let's create a Dataset of Telemetry submissions for a given submission date:"
   ]
  },
  {
   "cell_type": "code",
   "execution_count": 4,
   "metadata": {},
   "outputs": [],
   "source": [
    "pings_dataset = (\n",
    "    Dataset.from_source('telemetry')\n",
    "    .where(docType='main')\n",
    "    #.where(appBuildId='20180721100146')\n",
    "    .where(submissionDate='20180828')\n",
    "    .where(appUpdateChannel=\"release\")\n",
    ")"
   ]
  },
  {
   "cell_type": "markdown",
   "metadata": {},
   "source": [
    "Select only the properties we need and then take a 10% sample:"
   ]
  },
  {
   "cell_type": "code",
   "execution_count": 5,
   "metadata": {
    "scrolled": true
   },
   "outputs": [
    {
     "name": "stdout",
     "output_type": "stream",
     "text": [
      "WARNING: THIS IS NOT A REPRESENTATIVE SAMPLE.\n",
      "This 'sampling' is based on s3 files and is highly\n",
      "susceptible to skew. Use only for quicker performance\n",
      "while prototyping.\n",
      "fetching 9648.72877MB in 1698 files...\n"
     ]
    }
   ],
   "source": [
    "pings = (\n",
    "    pings_dataset\n",
    "    .select(\n",
    "        'clientId',\n",
    "        buildId='application.buildId',\n",
    "        experiments='environment.experiments',\n",
    "        os='environment.system.os',\n",
    "        gfx='environment.system.gfx')\n",
    "    .records(sc, sample=0.01)\n",
    ")"
   ]
  },
  {
   "cell_type": "code",
   "execution_count": 6,
   "metadata": {},
   "outputs": [],
   "source": [
    "#pings = (\n",
    "#    pings_dataset\n",
    "#    .records(sc, sample=0.01)\n",
    "#)\n",
    "#pings.take(1)"
   ]
  },
  {
   "cell_type": "markdown",
   "metadata": {},
   "source": []
  },
  {
   "cell_type": "code",
   "execution_count": 7,
   "metadata": {
    "scrolled": true
   },
   "outputs": [
    {
     "data": {
      "text/plain": [
       "2448364"
      ]
     },
     "execution_count": 7,
     "metadata": {},
     "output_type": "execute_result"
    }
   ],
   "source": [
    "pings.count()"
   ]
  },
  {
   "cell_type": "code",
   "execution_count": 8,
   "metadata": {},
   "outputs": [
    {
     "data": {
      "text/plain": [
       "[{'buildId': u'20180807170231',\n",
       "  'clientId': u'8f2bc685-96cb-4a44-b0b5-fb06b518ec8d',\n",
       "  'experiments': {u'rollout-release-61-tls-fallback-1-3': {u'branch': u'active',\n",
       "    u'type': u'normandy-prefrollout'},\n",
       "   u'searchCohort': {u'branch': u'nov17-2'}},\n",
       "  'gfx': {u'ContentBackend': u'Skia',\n",
       "   u'D2DEnabled': None,\n",
       "   u'DWriteEnabled': None,\n",
       "   u'adapters': [{u'GPUActive': True,\n",
       "     u'RAM': None,\n",
       "     u'description': None,\n",
       "     u'deviceID': u'0x1180',\n",
       "     u'driver': None,\n",
       "     u'driverDate': None,\n",
       "     u'driverVersion': None,\n",
       "     u'subsysID': None,\n",
       "     u'vendorID': u'0x10de'}],\n",
       "   u'features': {u'compositor': u'opengl',\n",
       "    u'gpuProcess': {u'status': u'unused'}},\n",
       "   u'monitors': [{u'scale': 1, u'screenHeight': 1440, u'screenWidth': 2560},\n",
       "    {u'scale': 2, u'screenHeight': 1920, u'screenWidth': 1080}]},\n",
       "  'os': {u'locale': u'en-US', u'name': u'Darwin', u'version': u'17.7.0'}},\n",
       " {'buildId': u'20180807170231',\n",
       "  'clientId': u'3a9028f7-e8c1-4b09-a4f3-3e7d922fd651',\n",
       "  'experiments': {u'rollout-release-61-tls-fallback-1-3': {u'branch': u'active',\n",
       "    u'type': u'normandy-prefrollout'},\n",
       "   u'rollout-restart-manager-release-1481278': {u'branch': u'active',\n",
       "    u'type': u'normandy-prefrollout'}},\n",
       "  'gfx': {u'ContentBackend': u'Skia',\n",
       "   u'D2DEnabled': False,\n",
       "   u'DWriteEnabled': True,\n",
       "   u'adapters': [{u'GPUActive': True,\n",
       "     u'RAM': None,\n",
       "     u'description': u'Intel(R) Graphics Media Accelerator',\n",
       "     u'deviceID': u'0x08cf',\n",
       "     u'driver': u'igdumd32',\n",
       "     u'driverDate': u'11-15-2013',\n",
       "     u'driverVersion': u'9.14.3.1177',\n",
       "     u'subsysID': u'18f6103c',\n",
       "     u'vendorID': u'0x8086'}],\n",
       "   u'features': {u'advancedLayers': {u'status': u'unavailable'},\n",
       "    u'compositor': u'basic',\n",
       "    u'd2d': {u'status': u'unavailable', u'version': u'1.1'},\n",
       "    u'd3d11': {u'status': u'failed'},\n",
       "    u'gpuProcess': {u'status': u'available'}},\n",
       "   u'monitors': [{u'pseudoDisplay': False,\n",
       "     u'refreshRate': 60,\n",
       "     u'screenHeight': 768,\n",
       "     u'screenWidth': 1366}]},\n",
       "  'os': {u'installYear': 2017,\n",
       "   u'locale': u'en-US',\n",
       "   u'name': u'Windows_NT',\n",
       "   u'servicePackMajor': 0,\n",
       "   u'servicePackMinor': 0,\n",
       "   u'version': u'6.3',\n",
       "   u'windowsBuildNumber': 9600}},\n",
       " {'buildId': u'20180807170231',\n",
       "  'clientId': u'19d2457c-b5c5-48c1-8779-44664bebb432',\n",
       "  'experiments': {u'searchCohort': {u'branch': u'nov17-2'}},\n",
       "  'gfx': {u'ContentBackend': u'Skia',\n",
       "   u'D2DEnabled': False,\n",
       "   u'DWriteEnabled': True,\n",
       "   u'adapters': [{u'GPUActive': True,\n",
       "     u'RAM': 2048,\n",
       "     u'description': u'AMD Radeon R7 200 Series',\n",
       "     u'deviceID': u'0x6613',\n",
       "     u'driver': u'aticfx64 aticfx64 aticfx64 amdxc64 aticfx32 aticfx32 aticfx32 amdxc32 atiumd64 atidxx64 atidxx64 atiumdag atidxx32 atidxx32 atiumdva atiumd6a',\n",
       "     u'driverDate': u'5-16-2018',\n",
       "     u'driverVersion': u'24.20.11016.4',\n",
       "     u'subsysID': u'72401682',\n",
       "     u'vendorID': u'0x1002'}],\n",
       "   u'features': {u'advancedLayers': {u'status': u'available'},\n",
       "    u'compositor': u'd3d11',\n",
       "    u'd2d': {u'status': u'available', u'version': u'1.1'},\n",
       "    u'd3d11': {u'blacklisted': False,\n",
       "     u'status': u'available',\n",
       "     u'textureSharing': True,\n",
       "     u'version': 45312,\n",
       "     u'warp': False},\n",
       "    u'gpuProcess': {u'status': u'available'}},\n",
       "   u'monitors': [{u'pseudoDisplay': False,\n",
       "     u'refreshRate': 59,\n",
       "     u'screenHeight': 1080,\n",
       "     u'screenWidth': 1920}]},\n",
       "  'os': {u'installYear': 2018,\n",
       "   u'locale': u'en-US',\n",
       "   u'name': u'Windows_NT',\n",
       "   u'servicePackMajor': 0,\n",
       "   u'servicePackMinor': 0,\n",
       "   u'version': u'10.0',\n",
       "   u'windowsBuildNumber': 17134,\n",
       "   u'windowsUBR': 228}},\n",
       " {'buildId': u'20180807170231',\n",
       "  'clientId': u'0fb524ed-4020-41a2-9d0a-74e159f111e8',\n",
       "  'experiments': {u'rollout-release-61-tls-fallback-1-3': {u'branch': u'active',\n",
       "    u'type': u'normandy-prefrollout'},\n",
       "   u'rollout-restart-manager-release-1481278': {u'branch': u'active',\n",
       "    u'type': u'normandy-prefrollout'}},\n",
       "  'gfx': {u'ContentBackend': u'Skia',\n",
       "   u'D2DEnabled': False,\n",
       "   u'DWriteEnabled': True,\n",
       "   u'adapters': [{u'GPUActive': True,\n",
       "     u'RAM': None,\n",
       "     u'description': u'Intel(R) HD Graphics 530',\n",
       "     u'deviceID': u'0x191b',\n",
       "     u'driver': u'igdumdim64 igd10iumd64 igd10iumd64 igd12umd64 igdumdim32 igd10iumd32 igd10iumd32 igd12umd32',\n",
       "     u'driverDate': u'11-11-2016',\n",
       "     u'driverVersion': u'21.20.16.4550',\n",
       "     u'subsysID': u'1d6d1043',\n",
       "     u'vendorID': u'0x8086'},\n",
       "    {u'GPUActive': False,\n",
       "     u'RAM': 2048,\n",
       "     u'description': u'NVIDIA GeForce GTX 960M',\n",
       "     u'deviceID': u'0x139b',\n",
       "     u'driver': u'C:\\\\WINDOWS\\\\System32\\\\DriverStore\\\\FileRepository\\\\nvamwu.inf_amd64_d4715679184092a8\\\\nvd3dumx,C:\\\\WINDOWS\\\\System32\\\\DriverStore\\\\FileRepository\\\\nvamwu.inf_amd64_d4715679184092a8\\\\nvwgf2umx,C:\\\\WINDOWS\\\\System32\\\\DriverStore\\\\FileRepository\\\\nvamwu.inf_amd64_d4715679184092a8\\\\nvwgf2umx,C:\\\\WINDOWS\\\\System32\\\\DriverStore\\\\FileRepository\\\\nvamwu.inf_amd64_d4715679184092a8\\\\nvwgf2umx C:\\\\WINDOWS\\\\System32\\\\DriverStore\\\\FileRepository\\\\nvamwu.inf_amd64_d4715679184092a8\\\\nvd3dum,C:\\\\WINDOWS\\\\System32\\\\DriverStore\\\\FileRepository\\\\nvamwu.inf_amd64_d4715679184092a8\\\\nvwgf2um,C:\\\\WINDOWS\\\\System32\\\\DriverStore\\\\FileRepository\\\\nvamwu.inf_amd64_d4715679184092a8\\\\nvwgf2um,C:\\\\WINDOWS\\\\System32\\\\DriverStore\\\\FileRepository\\\\nvamwu.inf_amd64_d4715679184092a8\\\\nvwgf2um',\n",
       "     u'driverDate': u'8-1-2016',\n",
       "     u'driverVersion': u'21.21.13.6909',\n",
       "     u'subsysID': u'1d6d1043',\n",
       "     u'vendorID': u'0x10de'}],\n",
       "   u'features': {u'advancedLayers': {u'status': u'available'},\n",
       "    u'compositor': u'd3d11',\n",
       "    u'd2d': {u'status': u'available', u'version': u'1.1'},\n",
       "    u'd3d11': {u'blacklisted': False,\n",
       "     u'status': u'available',\n",
       "     u'textureSharing': True,\n",
       "     u'version': 45312,\n",
       "     u'warp': False},\n",
       "    u'gpuProcess': {u'status': u'available'}},\n",
       "   u'monitors': [{u'pseudoDisplay': False,\n",
       "     u'refreshRate': 60,\n",
       "     u'screenHeight': 1080,\n",
       "     u'screenWidth': 1920}]},\n",
       "  'os': {u'installYear': 2018,\n",
       "   u'locale': u'pl-PL',\n",
       "   u'name': u'Windows_NT',\n",
       "   u'servicePackMajor': 0,\n",
       "   u'servicePackMinor': 0,\n",
       "   u'version': u'10.0',\n",
       "   u'windowsBuildNumber': 17134,\n",
       "   u'windowsUBR': 165}}]"
      ]
     },
     "execution_count": 8,
     "metadata": {},
     "output_type": "execute_result"
    }
   ],
   "source": [
    "pings.take(4)"
   ]
  },
  {
   "cell_type": "code",
   "execution_count": 9,
   "metadata": {},
   "outputs": [
    {
     "data": {
      "text/plain": [
       "2448364"
      ]
     },
     "execution_count": 9,
     "metadata": {},
     "output_type": "execute_result"
    }
   ],
   "source": [
    "# We add two extra steps. The first rewrites the ping to have some\n",
    "# information more easily accessible (like the primary adapter),\n",
    "# and the second step removes any pings that don't have adapter\n",
    "# information.\n",
    "def rewrite_ping(p):\n",
    "    adapters = p.get('gfx', None).get('adapters', None)\n",
    "    if not adapters:\n",
    "        return None\n",
    "    adapter = adapters[0]\n",
    "            \n",
    "    p['adapter'] = adapter\n",
    "            \n",
    "    # Convert the version to a tuple of integers.\n",
    "    #if 'driverVersion' in adapter:\n",
    "    #    p['driverVersion'] = [int(n) for n in adapter['driverVersion'].split('.') if n.isdigit()]\n",
    "    return p\n",
    "\n",
    "def filter_ping(p):\n",
    "    return 'adapter' in p\n",
    "rpings = pings.map(rewrite_ping).filter(filter_ping)\n",
    "rpings = rpings.cache()\n",
    "rpings.count()"
   ]
  },
  {
   "cell_type": "markdown",
   "metadata": {},
   "source": [
    "To prevent pseudoreplication, let's consider only a single submission for each client. As this step requires a distributed shuffle, it should always be run only after extracting the attributes of interest with *Dataset.select()*."
   ]
  },
  {
   "cell_type": "code",
   "execution_count": 10,
   "metadata": {},
   "outputs": [],
   "source": [
    "subset = (\n",
    "    rpings\n",
    "    .map(lambda p: (p['clientId'], p))\n",
    "    .reduceByKey(lambda p1, p2: p1)\n",
    "    .map(lambda p: p[1])\n",
    ")"
   ]
  },
  {
   "cell_type": "markdown",
   "metadata": {},
   "source": [
    "Caching is fundamental as it allows for an iterative, real-time development workflow:"
   ]
  },
  {
   "cell_type": "code",
   "execution_count": 11,
   "metadata": {},
   "outputs": [],
   "source": [
    "cached = subset.cache()"
   ]
  },
  {
   "cell_type": "markdown",
   "metadata": {},
   "source": [
    "How many pings are we looking at?"
   ]
  },
  {
   "cell_type": "code",
   "execution_count": 12,
   "metadata": {},
   "outputs": [
    {
     "data": {
      "text/plain": [
       "2281814"
      ]
     },
     "execution_count": 12,
     "metadata": {},
     "output_type": "execute_result"
    }
   ],
   "source": [
    "cached.count()"
   ]
  },
  {
   "cell_type": "code",
   "execution_count": 13,
   "metadata": {},
   "outputs": [
    {
     "data": {
      "text/plain": [
       "2"
      ]
     },
     "execution_count": 13,
     "metadata": {},
     "output_type": "execute_result"
    }
   ],
   "source": [
    "wrQualified = cached.filter(lambda p: \"features\" in p[\"gfx\"])\n",
    "wrQualified = wrQualified.filter(lambda p: \"wrQualified\" in p[\"gfx\"][\"features\"])\n",
    "wrQualified.count()"
   ]
  },
  {
   "cell_type": "code",
   "execution_count": 14,
   "metadata": {},
   "outputs": [
    {
     "data": {
      "text/plain": [
       "defaultdict(int, {u'blocked': 2})"
      ]
     },
     "execution_count": 14,
     "metadata": {},
     "output_type": "execute_result"
    }
   ],
   "source": [
    "wrQualified.map(lambda p: p[\"gfx\"][\"features\"][\"wrQualified\"][\"status\"]).countByValue()"
   ]
  },
  {
   "cell_type": "code",
   "execution_count": 15,
   "metadata": {},
   "outputs": [
    {
     "data": {
      "text/plain": [
       "defaultdict(int, {u'Intel Open Source Technology Center': 1, u'X.Org': 1})"
      ]
     },
     "execution_count": 15,
     "metadata": {},
     "output_type": "execute_result"
    }
   ],
   "source": [
    "wrQualified.map(lambda p: p['adapter']['vendorID']).countByValue()"
   ]
  },
  {
   "cell_type": "code",
   "execution_count": 16,
   "metadata": {},
   "outputs": [
    {
     "data": {
      "text/plain": [
       "defaultdict(int, {u'blocked': 2})"
      ]
     },
     "execution_count": 16,
     "metadata": {},
     "output_type": "execute_result"
    }
   ],
   "source": [
    "wrQualified.map(lambda p: p[\"gfx\"][\"features\"][\"wrQualified\"][\"status\"]).countByValue()"
   ]
  },
  {
   "cell_type": "code",
   "execution_count": 17,
   "metadata": {},
   "outputs": [
    {
     "data": {
      "text/plain": [
       "defaultdict(int, {u'Linux': 2})"
      ]
     },
     "execution_count": 17,
     "metadata": {},
     "output_type": "execute_result"
    }
   ],
   "source": [
    "wrQualified.map(lambda p: p[\"os\"][\"name\"]).countByValue()"
   ]
  },
  {
   "cell_type": "code",
   "execution_count": 18,
   "metadata": {},
   "outputs": [
    {
     "data": {
      "text/plain": [
       "0"
      ]
     },
     "execution_count": 18,
     "metadata": {},
     "output_type": "execute_result"
    }
   ],
   "source": [
    "wrAvailable = wrQualified.filter(lambda p: p[\"gfx\"][\"features\"][\"wrQualified\"][\"status\"] == \"available\" )\n",
    "wrAvailable.count()"
   ]
  },
  {
   "cell_type": "code",
   "execution_count": 19,
   "metadata": {},
   "outputs": [
    {
     "data": {
      "text/plain": [
       "2"
      ]
     },
     "execution_count": 19,
     "metadata": {},
     "output_type": "execute_result"
    }
   ],
   "source": [
    "wrBlocked = wrQualified.filter(lambda p: p[\"gfx\"][\"features\"][\"wrQualified\"][\"status\"] == \"blocked\" )\n",
    "wrBlocked.count()"
   ]
  },
  {
   "cell_type": "code",
   "execution_count": 20,
   "metadata": {},
   "outputs": [
    {
     "data": {
      "text/plain": [
       "0.0"
      ]
     },
     "execution_count": 20,
     "metadata": {},
     "output_type": "execute_result"
    }
   ],
   "source": [
    "100.*wrAvailable.count()/cached.count()"
   ]
  },
  {
   "cell_type": "code",
   "execution_count": 21,
   "metadata": {},
   "outputs": [],
   "source": [
    "import json\n",
    "import urllib2\n",
    "\n",
    "gpu_db = json.load(urllib2.urlopen('https://raw.githubusercontent.com/jrmuizel/gpu-db/master/nvidia.json'))\n",
    "devices = {}\n",
    "for gen in gpu_db['10de'].items():\n",
    "    for chipset in gen[1].items():\n",
    "        for dev in chipset[1]:\n",
    "            #print dev, gen[0]\n",
    "            devices[int(dev,16)] = chipset[0]"
   ]
  },
  {
   "cell_type": "code",
   "execution_count": 23,
   "metadata": {},
   "outputs": [
    {
     "data": {
      "text/plain": [
       "360307"
      ]
     },
     "execution_count": 23,
     "metadata": {},
     "output_type": "execute_result"
    }
   ],
   "source": [
    "nv = cached.filter(lambda p: p[\"adapter\"][\"vendorID\"] == \"0x10de\")\n",
    "nv.count()"
   ]
  },
  {
   "cell_type": "code",
   "execution_count": 24,
   "metadata": {},
   "outputs": [
    {
     "data": {
      "text/plain": [
       "156249"
      ]
     },
     "execution_count": 24,
     "metadata": {},
     "output_type": "execute_result"
    }
   ],
   "source": [
    "nv10 = nv.filter(lambda p: p[\"os\"][\"name\"] == \"Windows_NT\" and p[\"os\"][\"version\"] == \"10.0\")\n",
    "nv10.count()"
   ]
  },
  {
   "cell_type": "code",
   "execution_count": 25,
   "metadata": {},
   "outputs": [
    {
     "data": {
      "text/plain": [
       "147484"
      ]
     },
     "execution_count": 25,
     "metadata": {},
     "output_type": "execute_result"
    }
   ],
   "source": [
    "nv10tesla = nv10.filter(lambda p: int(p[\"adapter\"][\"deviceID\"],16) >= 0x6c0)\n",
    "nv10tesla.count()"
   ]
  },
  {
   "cell_type": "code",
   "execution_count": 26,
   "metadata": {},
   "outputs": [
    {
     "data": {
      "text/plain": [
       "133872"
      ]
     },
     "execution_count": 26,
     "metadata": {},
     "output_type": "execute_result"
    }
   ],
   "source": [
    "nv10teslanom = nv10tesla.filter(lambda p: int(p[\"adapter\"][\"deviceID\"],16) in devices).filter(lambda p: not devices[int(p[\"adapter\"][\"deviceID\"],16)].endswith(\"M\"))\n",
    "nv10teslanom.count()"
   ]
  },
  {
   "cell_type": "code",
   "execution_count": 27,
   "metadata": {},
   "outputs": [
    {
     "data": {
      "text/plain": [
       "defaultdict(int, {u'0x0f03': 1})"
      ]
     },
     "execution_count": 27,
     "metadata": {},
     "output_type": "execute_result"
    }
   ],
   "source": [
    "nv10tesla.filter(lambda p: int(p[\"adapter\"][\"deviceID\"],16) not in devices).map(lambda p: p['adapter']['deviceID']).countByValue()"
   ]
  },
  {
   "cell_type": "code",
   "execution_count": 28,
   "metadata": {},
   "outputs": [
    {
     "data": {
      "text/plain": [
       "(133872, 2281814)"
      ]
     },
     "execution_count": 28,
     "metadata": {},
     "output_type": "execute_result"
    }
   ],
   "source": [
    "(nv10teslanom.count(),cached.count())"
   ]
  },
  {
   "cell_type": "code",
   "execution_count": 29,
   "metadata": {},
   "outputs": [
    {
     "data": {
      "text/plain": [
       "5.8669111505144595"
      ]
     },
     "execution_count": 29,
     "metadata": {},
     "output_type": "execute_result"
    }
   ],
   "source": [
    "100.*nv10teslanom.count()/cached.count()"
   ]
  }
 ],
 "metadata": {
  "anaconda-cloud": {},
  "kernelspec": {
   "display_name": "Python [default]",
   "language": "python",
   "name": "python2"
  },
  "language_info": {
   "codemirror_mode": {
    "name": "ipython",
    "version": 2
   },
   "file_extension": ".py",
   "mimetype": "text/x-python",
   "name": "python",
   "nbconvert_exporter": "python",
   "pygments_lexer": "ipython2",
   "version": "2.7.12"
  }
 },
 "nbformat": 4,
 "nbformat_minor": 1
}
