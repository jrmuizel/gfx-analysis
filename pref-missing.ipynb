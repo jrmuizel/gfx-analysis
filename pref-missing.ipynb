{
 "cells": [
  {
   "cell_type": "code",
   "execution_count": 1,
   "metadata": {
    "scrolled": true
   },
   "outputs": [],
   "source": [
    "import ujson as json\n",
    "import matplotlib.pyplot as plt\n",
    "import pandas as pd\n",
    "import numpy as np\n",
    "\n",
    "from moztelemetry.dataset import Dataset\n",
    "\n",
    "%matplotlib inline"
   ]
  },
  {
   "cell_type": "markdown",
   "metadata": {},
   "source": [
    "### Basics"
   ]
  },
  {
   "cell_type": "markdown",
   "metadata": {},
   "source": [
    "We will use the Dataset API to fetch data.  Documentation can be found at: https://python-moztelemetry.readthedocs.io/en/stable/api.html#dataset"
   ]
  },
  {
   "cell_type": "markdown",
   "metadata": {},
   "source": [
    "The goal of this example is to plot the startup distribution for each OS. Let's see how many parallel workers we have at our disposal:"
   ]
  },
  {
   "cell_type": "code",
   "execution_count": 2,
   "metadata": {},
   "outputs": [
    {
     "data": {
      "text/plain": [
       "32"
      ]
     },
     "execution_count": 2,
     "metadata": {},
     "output_type": "execute_result"
    }
   ],
   "source": [
    "sc.defaultParallelism"
   ]
  },
  {
   "cell_type": "markdown",
   "metadata": {},
   "source": [
    "We can look at the schema of the dataset we are interested in:"
   ]
  },
  {
   "cell_type": "code",
   "execution_count": 3,
   "metadata": {},
   "outputs": [
    {
     "data": {
      "text/plain": [
       "[u'submissionDate',\n",
       " u'sourceName',\n",
       " u'sourceVersion',\n",
       " u'docType',\n",
       " u'appName',\n",
       " u'appUpdateChannel',\n",
       " u'appVersion',\n",
       " u'appBuildId']"
      ]
     },
     "execution_count": 3,
     "metadata": {},
     "output_type": "execute_result"
    }
   ],
   "source": [
    "Dataset.from_source('telemetry').schema"
   ]
  },
  {
   "cell_type": "markdown",
   "metadata": {},
   "source": [
    "Let's create a Dataset of Telemetry submissions for a given submission date:"
   ]
  },
  {
   "cell_type": "code",
   "execution_count": 4,
   "metadata": {},
   "outputs": [],
   "source": [
    "pings_dataset = (\n",
    "    Dataset.from_source('telemetry')\n",
    "    .where(docType='main')\n",
    "    #.where(appBuildId='20180721100146')\n",
    "    .where(submissionDate='20181022')\n",
    "    .where(appUpdateChannel=\"nightly\")\n",
    ")"
   ]
  },
  {
   "cell_type": "markdown",
   "metadata": {},
   "source": [
    "Select only the properties we need and then take a 10% sample:"
   ]
  },
  {
   "cell_type": "code",
   "execution_count": 5,
   "metadata": {
    "scrolled": true
   },
   "outputs": [
    {
     "name": "stdout",
     "output_type": "stream",
     "text": [
      "WARNING: THIS IS NOT A REPRESENTATIVE SAMPLE.\n",
      "This 'sampling' is based on s3 files and is highly\n",
      "susceptible to skew. Use only for quicker performance\n",
      "while prototyping.\n",
      "fetching 669.64267MB in 2231 files...\n"
     ]
    }
   ],
   "source": [
    "pings = (\n",
    "    pings_dataset\n",
    "    .select(\n",
    "        'clientId',\n",
    "        buildId='application.buildId',\n",
    "        content_paint='payload.processes.content.histograms.CONTENT_PAINT_TIME.values',\n",
    "        tab_switch='payload.histograms.FX_TAB_SWITCH_TOTAL_E10S_MS.values',\n",
    "        frame_time='payload.processes.gpu.histograms.CONTENT_FRAME_TIME.values',\n",
    "        frame_time_sum='payload.processes.gpu.histograms.CONTENT_FRAME_TIME.sum',\n",
    "        composite_time='payload.processes.gpu.histograms.COMPOSITE_TIME',\n",
    "        checkerboardin='payload.processes.gpu.histograms.CHECKERBOARD_SEVERITY.values',\n",
    "        experiments='environment.experiments',\n",
    "        settings='environment.settings',\n",
    "        osName='environment.system.os.name',\n",
    "        gfx='environment.system.gfx')\n",
    "    .records(sc, sample=0.1)\n",
    ")"
   ]
  },
  {
   "cell_type": "markdown",
   "metadata": {},
   "source": []
  },
  {
   "cell_type": "markdown",
   "metadata": {},
   "source": [
    "To prevent pseudoreplication, let's consider only a single submission for each client. As this step requires a distributed shuffle, it should always be run only after extracting the attributes of interest with *Dataset.select()*."
   ]
  },
  {
   "cell_type": "code",
   "execution_count": 6,
   "metadata": {},
   "outputs": [],
   "source": [
    "subset = (\n",
    "    pings\n",
    "    .map(lambda p: (p['clientId'], p))\n",
    "    .reduceByKey(lambda p1, p2: p1)\n",
    "    .map(lambda p: p[1])\n",
    ")"
   ]
  },
  {
   "cell_type": "markdown",
   "metadata": {},
   "source": [
    "Caching is fundamental as it allows for an iterative, real-time development workflow:"
   ]
  },
  {
   "cell_type": "code",
   "execution_count": 7,
   "metadata": {},
   "outputs": [],
   "source": [
    "cached = subset.cache()"
   ]
  },
  {
   "cell_type": "markdown",
   "metadata": {},
   "source": [
    "How many pings are we looking at?"
   ]
  },
  {
   "cell_type": "code",
   "execution_count": 8,
   "metadata": {},
   "outputs": [
    {
     "data": {
      "text/plain": [
       "13821"
      ]
     },
     "execution_count": 8,
     "metadata": {},
     "output_type": "execute_result"
    }
   ],
   "source": [
    "cached.count()"
   ]
  },
  {
   "cell_type": "code",
   "execution_count": 9,
   "metadata": {},
   "outputs": [
    {
     "data": {
      "text/plain": [
       "[{'buildId': u'20181021220134',\n",
       "  'checkerboardin': None,\n",
       "  'clientId': u'27add80f-9421-49d0-b9b0-66544c7ab05c',\n",
       "  'composite_time': {u'bucket_count': 50,\n",
       "   u'histogram_type': 0,\n",
       "   u'range': [1, 1000],\n",
       "   u'sum': 279254,\n",
       "   u'values': {u'0': 26052,\n",
       "    u'1': 46311,\n",
       "    u'10': 65,\n",
       "    u'11': 42,\n",
       "    u'12': 64,\n",
       "    u'14': 73,\n",
       "    u'16': 177,\n",
       "    u'18': 66,\n",
       "    u'2': 50486,\n",
       "    u'20': 28,\n",
       "    u'23': 13,\n",
       "    u'26': 9,\n",
       "    u'29': 21,\n",
       "    u'3': 20132,\n",
       "    u'33': 9,\n",
       "    u'37': 8,\n",
       "    u'4': 6925,\n",
       "    u'42': 3,\n",
       "    u'47': 4,\n",
       "    u'5': 2905,\n",
       "    u'53': 2,\n",
       "    u'6': 1424,\n",
       "    u'60': 2,\n",
       "    u'67': 1,\n",
       "    u'7': 837,\n",
       "    u'75': 3,\n",
       "    u'8': 426,\n",
       "    u'84': 0,\n",
       "    u'9': 129}},\n",
       "  'content_paint': {u'0': 80526,\n",
       "   u'1': 2176,\n",
       "   u'10': 53,\n",
       "   u'107': 1,\n",
       "   u'11': 42,\n",
       "   u'12': 70,\n",
       "   u'120': 5,\n",
       "   u'135': 3,\n",
       "   u'14': 53,\n",
       "   u'16': 37,\n",
       "   u'171': 1,\n",
       "   u'18': 37,\n",
       "   u'192': 1,\n",
       "   u'2': 529,\n",
       "   u'20': 38,\n",
       "   u'23': 30,\n",
       "   u'26': 15,\n",
       "   u'29': 12,\n",
       "   u'3': 259,\n",
       "   u'33': 6,\n",
       "   u'37': 8,\n",
       "   u'388': 1,\n",
       "   u'4': 114,\n",
       "   u'42': 7,\n",
       "   u'47': 5,\n",
       "   u'492': 1,\n",
       "   u'5': 54,\n",
       "   u'53': 7,\n",
       "   u'554': 0,\n",
       "   u'6': 114,\n",
       "   u'60': 5,\n",
       "   u'67': 4,\n",
       "   u'7': 145,\n",
       "   u'75': 3,\n",
       "   u'8': 78,\n",
       "   u'84': 6,\n",
       "   u'9': 56,\n",
       "   u'95': 3},\n",
       "  'experiments': None,\n",
       "  'frame_time': {u'103': 42632,\n",
       "   u'1059': 2,\n",
       "   u'11': 30,\n",
       "   u'120': 12407,\n",
       "   u'1237': 5,\n",
       "   u'13': 57,\n",
       "   u'140': 1563,\n",
       "   u'1445': 4,\n",
       "   u'15': 130,\n",
       "   u'164': 396,\n",
       "   u'1688': 1,\n",
       "   u'18': 112,\n",
       "   u'192': 288,\n",
       "   u'21': 173,\n",
       "   u'224': 117,\n",
       "   u'25': 138,\n",
       "   u'262': 91,\n",
       "   u'2688': 2,\n",
       "   u'29': 215,\n",
       "   u'306': 83,\n",
       "   u'3139': 2,\n",
       "   u'34': 233,\n",
       "   u'357': 58,\n",
       "   u'40': 297,\n",
       "   u'417': 78,\n",
       "   u'4281': 1,\n",
       "   u'47': 299,\n",
       "   u'487': 70,\n",
       "   u'5000': 0,\n",
       "   u'55': 273,\n",
       "   u'569': 76,\n",
       "   u'6': 0,\n",
       "   u'64': 377,\n",
       "   u'665': 33,\n",
       "   u'7': 1,\n",
       "   u'75': 1224,\n",
       "   u'777': 16,\n",
       "   u'88': 22693,\n",
       "   u'9': 3,\n",
       "   u'907': 4},\n",
       "  'frame_time_sum': 9304794,\n",
       "  'gfx': {u'ContentBackend': u'Skia',\n",
       "   u'D2DEnabled': True,\n",
       "   u'DWriteEnabled': True,\n",
       "   u'adapters': [{u'GPUActive': True,\n",
       "     u'RAM': 2048,\n",
       "     u'description': u'NVIDIA GeForce GTX 650',\n",
       "     u'deviceID': u'0x0fc6',\n",
       "     u'driver': u'nvd3dumx,nvwgf2umx,nvwgf2umx nvd3dum,nvwgf2um,nvwgf2um',\n",
       "     u'driverDate': u'6-24-2018',\n",
       "     u'driverVersion': u'24.21.13.9836',\n",
       "     u'subsysID': u'00000000',\n",
       "     u'vendorID': u'0x10de'},\n",
       "    {u'GPUActive': False,\n",
       "     u'RAM': None,\n",
       "     u'description': u'Intel(R) HD Graphics 4400',\n",
       "     u'deviceID': u'0x041e',\n",
       "     u'driver': u'igdumdim64 igd10iumd64 igd10iumd64 igdumdim32 igd10iumd32 igd10iumd32',\n",
       "     u'driverDate': u'8-4-2015',\n",
       "     u'driverVersion': u'10.18.14.4264',\n",
       "     u'subsysID': u'0000000c',\n",
       "     u'vendorID': u'0x8086'}],\n",
       "   u'features': {u'advancedLayers': {u'status': u'available'},\n",
       "    u'compositor': u'd3d11',\n",
       "    u'd2d': {u'status': u'available', u'version': u'1.1'},\n",
       "    u'd3d11': {u'blacklisted': False,\n",
       "     u'status': u'available',\n",
       "     u'textureSharing': True,\n",
       "     u'version': 45056,\n",
       "     u'warp': False},\n",
       "    u'gpuProcess': {u'status': u'available'},\n",
       "    u'webrender': {u'status': u'blocked'},\n",
       "    u'wrQualified': {u'status': u'blocked'}},\n",
       "   u'monitors': [{u'pseudoDisplay': False,\n",
       "     u'refreshRate': 60,\n",
       "     u'screenHeight': 1080,\n",
       "     u'screenWidth': 1920},\n",
       "    {u'pseudoDisplay': False,\n",
       "     u'refreshRate': 30,\n",
       "     u'screenHeight': 1080,\n",
       "     u'screenWidth': 1920},\n",
       "    {u'pseudoDisplay': False,\n",
       "     u'refreshRate': 60,\n",
       "     u'screenHeight': 1080,\n",
       "     u'screenWidth': 1920}]},\n",
       "  'osName': u'Windows_NT',\n",
       "  'settings': {u'addonCompatibilityCheckEnabled': True,\n",
       "   u'attribution': {u'campaign': u'%2528not%2Bset%2529',\n",
       "    u'content': u'%2528not%2Bset%2529',\n",
       "    u'medium': u'referral',\n",
       "    u'source': u'ro.search.yahoo.com'},\n",
       "   u'blocklistEnabled': True,\n",
       "   u'defaultSearchEngine': u'other-Ad-Aware SecureSearch',\n",
       "   u'defaultSearchEngineData': {u'loadPath': u'[profile]/searchplugins/securesearch.xml',\n",
       "    u'name': u'Ad-Aware SecureSearch',\n",
       "    u'origin': u'verified'},\n",
       "   u'e10sEnabled': True,\n",
       "   u'e10sMultiProcesses': 8,\n",
       "   u'isDefaultBrowser': False,\n",
       "   u'locale': u'en-US',\n",
       "   u'sandbox': {u'effectiveContentProcessLevel': 5},\n",
       "   u'telemetryEnabled': True,\n",
       "   u'update': {u'autoDownload': True,\n",
       "    u'channel': u'nightly',\n",
       "    u'enabled': True},\n",
       "   u'userPrefs': {u'browser.cache.disk.capacity': 1048576,\n",
       "    u'browser.search.region': u'RO',\n",
       "    u'browser.search.widget.inNavBar': False,\n",
       "    u'browser.shell.checkDefaultBrowser': False}},\n",
       "  'tab_switch': {u'1': 0,\n",
       "   u'165': 1,\n",
       "   u'2': 1,\n",
       "   u'237': 0,\n",
       "   u'27': 1,\n",
       "   u'3': 3,\n",
       "   u'39': 1,\n",
       "   u'4': 4,\n",
       "   u'6': 8}}]"
      ]
     },
     "execution_count": 9,
     "metadata": {},
     "output_type": "execute_result"
    }
   ],
   "source": [
    "cached.take(1)"
   ]
  },
  {
   "cell_type": "code",
   "execution_count": 12,
   "metadata": {},
   "outputs": [
    {
     "data": {
      "text/plain": [
       "715"
      ]
     },
     "execution_count": 12,
     "metadata": {},
     "output_type": "execute_result"
    }
   ],
   "source": [
    "experiment = cached.filter(lambda p: \"experiments\" in p and p[\"experiments\"]).filter(lambda p: \"pref-flip-dummy-pref-no-default-1500230\" in p[\"experiments\"])\n",
    "experiment.count()"
   ]
  },
  {
   "cell_type": "code",
   "execution_count": 13,
   "metadata": {},
   "outputs": [
    {
     "data": {
      "text/plain": [
       "0"
      ]
     },
     "execution_count": 13,
     "metadata": {},
     "output_type": "execute_result"
    }
   ],
   "source": [
    "experiment.filter(lambda p: 'app.normandy.test.without_default' not in p['settings']['userPrefs']).count()"
   ]
  },
  {
   "cell_type": "code",
   "execution_count": 14,
   "metadata": {},
   "outputs": [
    {
     "data": {
      "text/plain": [
       "715"
      ]
     },
     "execution_count": 14,
     "metadata": {},
     "output_type": "execute_result"
    }
   ],
   "source": [
    "experiment = cached.filter(lambda p: \"experiments\" in p and p[\"experiments\"]).filter(lambda p: \"pref-flip-dummy-pref-default-false-1500230\" in p[\"experiments\"])\n",
    "experiment.count()"
   ]
  },
  {
   "cell_type": "code",
   "execution_count": 15,
   "metadata": {},
   "outputs": [
    {
     "data": {
      "text/plain": [
       "359"
      ]
     },
     "execution_count": 15,
     "metadata": {},
     "output_type": "execute_result"
    }
   ],
   "source": [
    "experiment.filter(lambda p: 'app.normandy.test.with_false_default' not in p['settings']['userPrefs']).count()"
   ]
  },
  {
   "cell_type": "code",
   "execution_count": 16,
   "metadata": {},
   "outputs": [
    {
     "data": {
      "text/plain": [
       "758"
      ]
     },
     "execution_count": 16,
     "metadata": {},
     "output_type": "execute_result"
    }
   ],
   "source": [
    "experiment = cached.filter(lambda p: \"experiments\" in p and p[\"experiments\"]).filter(lambda p: \"pref-flip-dummy-pref-default-true-1500230\" in p[\"experiments\"])\n",
    "experiment.count()"
   ]
  },
  {
   "cell_type": "code",
   "execution_count": 25,
   "metadata": {},
   "outputs": [
    {
     "data": {
      "text/plain": [
       "defaultdict(int, {u'true': 394})"
      ]
     },
     "execution_count": 25,
     "metadata": {},
     "output_type": "execute_result"
    }
   ],
   "source": [
    "experiment.filter(lambda p: 'app.normandy.test.with_true_default' not in p['settings']['userPrefs']).map(lambda p: p[\"experiments\"][\"pref-flip-dummy-pref-default-true-1500230\"][\"branch\"]).countByValue()"
   ]
  },
  {
   "cell_type": "code",
   "execution_count": 19,
   "metadata": {},
   "outputs": [
    {
     "data": {
      "text/plain": [
       "[{'buildId': u'20181019100103',\n",
       "  'checkerboardin': None,\n",
       "  'clientId': u'83a1a744-b755-45bb-a667-4de10ccd699e',\n",
       "  'composite_time': None,\n",
       "  'content_paint': None,\n",
       "  'experiments': {u'pref-flip-dummy-pref-default-true-1500230': {u'branch': u'false',\n",
       "    u'type': u'normandy-exp'}},\n",
       "  'frame_time': None,\n",
       "  'frame_time_sum': None,\n",
       "  'gfx': {u'ContentBackend': u'Skia',\n",
       "   u'D2DEnabled': None,\n",
       "   u'DWriteEnabled': None,\n",
       "   u'adapters': [{u'GPUActive': True,\n",
       "     u'RAM': None,\n",
       "     u'description': u'Intel Open Source Technology Center -- Mesa DRI Intel(R) HD Graphics 530 (Skylake GT2) ',\n",
       "     u'deviceID': u'Mesa DRI Intel(R) HD Graphics 530 (Skylake GT2) ',\n",
       "     u'driver': None,\n",
       "     u'driverDate': None,\n",
       "     u'driverVersion': u'3.0 Mesa 18.2.2',\n",
       "     u'subsysID': None,\n",
       "     u'vendorID': u'Intel Open Source Technology Center'}],\n",
       "   u'features': {u'compositor': u'basic',\n",
       "    u'gpuProcess': {u'status': u'unused'},\n",
       "    u'webrender': {u'status': u'unavailable'},\n",
       "    u'wrQualified': {u'status': u'blocked'}},\n",
       "   u'monitors': []},\n",
       "  'osName': u'Linux',\n",
       "  'settings': {u'addonCompatibilityCheckEnabled': True,\n",
       "   u'blocklistEnabled': True,\n",
       "   u'defaultSearchEngine': u'google',\n",
       "   u'defaultSearchEngineData': {u'loadPath': u'jar:[app]/omni.ja!/google.xml',\n",
       "    u'name': u'Google',\n",
       "    u'origin': u'default',\n",
       "    u'submissionURL': u'https://www.google.com/search?client=firefox-b&q='},\n",
       "   u'e10sEnabled': True,\n",
       "   u'e10sMultiProcesses': 8,\n",
       "   u'isDefaultBrowser': True,\n",
       "   u'locale': u'en-US',\n",
       "   u'sandbox': {u'effectiveContentProcessLevel': 4},\n",
       "   u'telemetryEnabled': True,\n",
       "   u'update': {u'autoDownload': True,\n",
       "    u'channel': u'nightly',\n",
       "    u'enabled': False},\n",
       "   u'userPrefs': {u'app.normandy.test.with_true_default': False,\n",
       "    u'browser.cache.disk.capacity': 307200,\n",
       "    u'browser.search.region': u'DE',\n",
       "    u'browser.search.widget.inNavBar': False}},\n",
       "  'tab_switch': None}]"
      ]
     },
     "execution_count": 19,
     "metadata": {},
     "output_type": "execute_result"
    }
   ],
   "source": [
    "experiment.filter(lambda p: 'app.normandy.test.with_true_default' in p['settings']['userPrefs']).take(1)"
   ]
  }
 ],
 "metadata": {
  "anaconda-cloud": {},
  "kernelspec": {
   "display_name": "Python [default]",
   "language": "python",
   "name": "python2"
  },
  "language_info": {
   "codemirror_mode": {
    "name": "ipython",
    "version": 2
   },
   "file_extension": ".py",
   "mimetype": "text/x-python",
   "name": "python",
   "nbconvert_exporter": "python",
   "pygments_lexer": "ipython2",
   "version": "2.7.12"
  }
 },
 "nbformat": 4,
 "nbformat_minor": 1
}
